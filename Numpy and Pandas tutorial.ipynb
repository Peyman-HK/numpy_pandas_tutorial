{
 "cells": [
  {
   "cell_type": "markdown",
   "id": "f8c4fb2b",
   "metadata": {},
   "source": [
    "The topics we will cover in this chapter include a tour of the numpy.ndarray data structure, the pandas.Series one-dimensional (1D) pandas data structure, the pandas.DataFrame two-dimensional (2D) pandas tabular data structure, and the pandas.Panel three-dimensional (3D) pandas data structure."
   ]
  },
  {
   "cell_type": "code",
   "execution_count": 3,
   "id": "a927d092",
   "metadata": {},
   "outputs": [
    {
     "data": {
      "text/plain": [
       "array('d', [98.6, 22.35, 72.1])"
      ]
     },
     "execution_count": 3,
     "metadata": {},
     "output_type": "execute_result"
    }
   ],
   "source": [
    "import array as arr\n",
    "arr_x = arr.array(\"d\", [98.6, 22.35, 72.1])\n",
    "arr_x"
   ]
  },
  {
   "cell_type": "markdown",
   "id": "82a0181f",
   "metadata": {},
   "source": [
    "It is not possible to create a two-dimensional entity with rows and columns using the array module. This can be achieved through a nested list of such arrays. Special functions implicit with matrices or arrays, such as matrix multiplication, determinants, and eigenvalues, are not defined in this module.\n",
    "\n",
    "\n",
    "NumPy is the preferred package to create and work on array-type objects. NumPy allows multidimensional arrays to be created. Multidimensional arrays provide a systematic and efficient framework for storing data. \n",
    "\n",
    "All NumPy array objects are of the type numpy.ndarray"
   ]
  },
  {
   "cell_type": "markdown",
   "id": "32adf3e3",
   "metadata": {},
   "source": [
    "Attributes of an ndarray such as the data type, shape, number of dimensions, and size can be accessed by different attributes of the array. Some attributes for the ndarray ndarray_1 have been explored in the following code:"
   ]
  },
  {
   "cell_type": "code",
   "execution_count": 10,
   "id": "80f6914d",
   "metadata": {},
   "outputs": [],
   "source": [
    "import numpy as np\n",
    "ndarray_1 = np.array([[[100, 65, 160],\n",
    "[150, 82, 200],\n",
    "[ 90, 55, 80],\n",
    "[130, 73, 220],\n",
    "[190, 80, 150]],\n",
    "[[ 95, 68, 140],\n",
    "[145, 80, 222],\n",
    "[ 90, 62, 100],\n",
    "[150, 92, 200],\n",
    "[140, 60, 90]],\n",
    "[[110, 72, 160],\n",
    "[160, 95, 185],\n",
    "[100, 80, 110],\n",
    "[140, 92, 120],\n",
    "[100, 55, 100]]])"
   ]
  },
  {
   "cell_type": "code",
   "execution_count": 11,
   "id": "7fc9df4a",
   "metadata": {},
   "outputs": [
    {
     "data": {
      "text/plain": [
       "array([[[100,  65, 160],\n",
       "        [150,  82, 200],\n",
       "        [ 90,  55,  80],\n",
       "        [130,  73, 220],\n",
       "        [190,  80, 150]],\n",
       "\n",
       "       [[ 95,  68, 140],\n",
       "        [145,  80, 222],\n",
       "        [ 90,  62, 100],\n",
       "        [150,  92, 200],\n",
       "        [140,  60,  90]],\n",
       "\n",
       "       [[110,  72, 160],\n",
       "        [160,  95, 185],\n",
       "        [100,  80, 110],\n",
       "        [140,  92, 120],\n",
       "        [100,  55, 100]]])"
      ]
     },
     "execution_count": 11,
     "metadata": {},
     "output_type": "execute_result"
    }
   ],
   "source": [
    "ndarray_1"
   ]
  },
  {
   "cell_type": "code",
   "execution_count": 12,
   "id": "7a039260",
   "metadata": {},
   "outputs": [
    {
     "data": {
      "text/plain": [
       "dtype('int32')"
      ]
     },
     "execution_count": 12,
     "metadata": {},
     "output_type": "execute_result"
    }
   ],
   "source": [
    "ndarray_1.dtype"
   ]
  },
  {
   "cell_type": "code",
   "execution_count": 13,
   "id": "71686939",
   "metadata": {},
   "outputs": [
    {
     "data": {
      "text/plain": [
       "(3, 5, 3)"
      ]
     },
     "execution_count": 13,
     "metadata": {},
     "output_type": "execute_result"
    }
   ],
   "source": [
    "ndarray_1.shape"
   ]
  },
  {
   "cell_type": "code",
   "execution_count": 14,
   "id": "31c1b96a",
   "metadata": {},
   "outputs": [
    {
     "data": {
      "text/plain": [
       "3"
      ]
     },
     "execution_count": 14,
     "metadata": {},
     "output_type": "execute_result"
    }
   ],
   "source": [
    "ndarray_1.ndim"
   ]
  },
  {
   "cell_type": "code",
   "execution_count": 15,
   "id": "6187d36d",
   "metadata": {},
   "outputs": [
    {
     "data": {
      "text/plain": [
       "45"
      ]
     },
     "execution_count": 15,
     "metadata": {},
     "output_type": "execute_result"
    }
   ],
   "source": [
    "# Size of the array (number of elements in the array)\n",
    "ndarray_1.size"
   ]
  },
  {
   "cell_type": "code",
   "execution_count": 16,
   "id": "8401cb10",
   "metadata": {},
   "outputs": [
    {
     "data": {
      "text/plain": [
       "4"
      ]
     },
     "execution_count": 16,
     "metadata": {},
     "output_type": "execute_result"
    }
   ],
   "source": [
    "ndarray_1.itemsize"
   ]
  },
  {
   "cell_type": "code",
   "execution_count": 17,
   "id": "79099c6f",
   "metadata": {},
   "outputs": [
    {
     "data": {
      "text/plain": [
       "180"
      ]
     },
     "execution_count": 17,
     "metadata": {},
     "output_type": "execute_result"
    }
   ],
   "source": [
    "ndarray_1.nbytes"
   ]
  },
  {
   "cell_type": "code",
   "execution_count": 18,
   "id": "b34fd0a5",
   "metadata": {},
   "outputs": [
    {
     "data": {
      "text/plain": [
       "(60, 12, 4)"
      ]
     },
     "execution_count": 18,
     "metadata": {},
     "output_type": "execute_result"
    }
   ],
   "source": [
    "ndarray_1.strides\n",
    "# The shape of the array is given by the tuple (3, 5, 3). The values in the tuple represent the number\n",
    "# of years for which there is data, the number of patients, and the number of clinical parameters, respectively. \n",
    "# For each year or first dimension, there are 15 records, and hence to move from one year to another in the array, \n",
    "# 60 bytes should be jumped across. On a similar note, each distinct patient has 3 records for a given year, \n",
    "# and 12 bytes of memory should be moved past to get to the next patient."
   ]
  },
  {
   "cell_type": "code",
   "execution_count": 19,
   "id": "0b49c258",
   "metadata": {},
   "outputs": [
    {
     "data": {
      "text/plain": [
       "array([1, 2, 3, 4])"
      ]
     },
     "execution_count": 19,
     "metadata": {},
     "output_type": "execute_result"
    }
   ],
   "source": [
    "array1d = np.array([1, 2, 3, 4])\n",
    "array1d"
   ]
  },
  {
   "cell_type": "code",
   "execution_count": 21,
   "id": "8a0627a1",
   "metadata": {},
   "outputs": [
    {
     "data": {
      "text/plain": [
       "array([[0, 1, 2],\n",
       "       [2, 3, 4]])"
      ]
     },
     "execution_count": 21,
     "metadata": {},
     "output_type": "execute_result"
    }
   ],
   "source": [
    "array2d = np.array([[0, 1, 2],[2, 3, 4]])\n",
    "array2d"
   ]
  },
  {
   "cell_type": "code",
   "execution_count": 22,
   "id": "d4daa3e8",
   "metadata": {},
   "outputs": [
    {
     "data": {
      "text/plain": [
       "array([[[1., 1., 1., 1.],\n",
       "        [1., 1., 1., 1.],\n",
       "        [1., 1., 1., 1.]],\n",
       "\n",
       "       [[1., 1., 1., 1.],\n",
       "        [1., 1., 1., 1.],\n",
       "        [1., 1., 1., 1.]]])"
      ]
     },
     "execution_count": 22,
     "metadata": {},
     "output_type": "execute_result"
    }
   ],
   "source": [
    "# Creating an array of ones with shape (2, 3, 4)\n",
    "np.ones((2, 3, 4))"
   ]
  },
  {
   "cell_type": "code",
   "execution_count": 23,
   "id": "ea262e1c",
   "metadata": {},
   "outputs": [
    {
     "data": {
      "text/plain": [
       "array([[[0., 0., 0.]],\n",
       "\n",
       "       [[0., 0., 0.]]])"
      ]
     },
     "execution_count": 23,
     "metadata": {},
     "output_type": "execute_result"
    }
   ],
   "source": [
    "# Creating an array of zeros with shape (2, 1, 3)\n",
    "np.zeros((2, 1, 3))"
   ]
  },
  {
   "cell_type": "code",
   "execution_count": 24,
   "id": "262e33ed",
   "metadata": {},
   "outputs": [
    {
     "data": {
      "text/plain": [
       "array([[1., 0., 0.],\n",
       "       [0., 1., 0.],\n",
       "       [0., 0., 1.]])"
      ]
     },
     "execution_count": 24,
     "metadata": {},
     "output_type": "execute_result"
    }
   ],
   "source": [
    "np.identity(3)"
   ]
  },
  {
   "cell_type": "code",
   "execution_count": 25,
   "id": "08718543",
   "metadata": {},
   "outputs": [
    {
     "data": {
      "text/plain": [
       "array([[1., 0., 0.],\n",
       "       [0., 1., 0.],\n",
       "       [0., 0., 1.]])"
      ]
     },
     "execution_count": 25,
     "metadata": {},
     "output_type": "execute_result"
    }
   ],
   "source": [
    "# Creating an identity matrix of order 3 with the eye function\n",
    "np.eye(N = 3)"
   ]
  },
  {
   "cell_type": "code",
   "execution_count": 26,
   "id": "60e89bd6",
   "metadata": {},
   "outputs": [
    {
     "data": {
      "text/plain": [
       "array([[1., 0., 0.],\n",
       "       [0., 1., 0.]])"
      ]
     },
     "execution_count": 26,
     "metadata": {},
     "output_type": "execute_result"
    }
   ],
   "source": [
    "# Creating a rectangular equivalent of identity matrix with 2 rows and 3 columns\n",
    "np.eye(N = 2, M = 3)"
   ]
  },
  {
   "cell_type": "code",
   "execution_count": 27,
   "id": "079e731e",
   "metadata": {},
   "outputs": [
    {
     "data": {
      "text/plain": [
       "array([[0., 1., 0.],\n",
       "       [0., 0., 1.],\n",
       "       [0., 0., 0.],\n",
       "       [0., 0., 0.]])"
      ]
     },
     "execution_count": 27,
     "metadata": {},
     "output_type": "execute_result"
    }
   ],
   "source": [
    "# Offsetting the diagonal of ones by one position in the upper triangle\n",
    "np.eye(N = 4, M = 3, k = 1)"
   ]
  },
  {
   "cell_type": "code",
   "execution_count": 29,
   "id": "7b45d09b",
   "metadata": {},
   "outputs": [
    {
     "data": {
      "text/plain": [
       "array([[0., 0., 0.],\n",
       "       [0., 0., 0.],\n",
       "       [1., 0., 0.],\n",
       "       [0., 1., 0.]])"
      ]
     },
     "execution_count": 29,
     "metadata": {},
     "output_type": "execute_result"
    }
   ],
   "source": [
    "# Offsetting the diagonal of ones by two positions in the lower triangle\n",
    "\n",
    "#By default, k holds the value 0 in the eye function.\n",
    "\n",
    "np.eye(N = 4, M = 3, k = -2)"
   ]
  },
  {
   "cell_type": "code",
   "execution_count": null,
   "id": "e91cdbbd",
   "metadata": {},
   "outputs": [],
   "source": []
  },
  {
   "cell_type": "markdown",
   "id": "7b156f3e",
   "metadata": {},
   "source": [
    "The arange function of NumPy functionally resembles Python's range function. Based on a start value, stop value, and step value to increment or decrement subsequent values, the arange function generates a set of numbers. Just like the range function, the start and step arguments are optional here. But unlike range, which generates a list, arange generates an array:"
   ]
  },
  {
   "cell_type": "code",
   "execution_count": 32,
   "id": "a4c10f7f",
   "metadata": {},
   "outputs": [
    {
     "data": {
      "text/plain": [
       "array([0, 1, 2, 3, 4, 5])"
      ]
     },
     "execution_count": 32,
     "metadata": {},
     "output_type": "execute_result"
    }
   ],
   "source": [
    "# Creating an array with continuous values from 0 to 5\n",
    "np.arange(6)"
   ]
  },
  {
   "cell_type": "code",
   "execution_count": 33,
   "id": "1044393b",
   "metadata": {},
   "outputs": [
    {
     "data": {
      "text/plain": [
       "array([ 2,  5,  8, 11])"
      ]
     },
     "execution_count": 33,
     "metadata": {},
     "output_type": "execute_result"
    }
   ],
   "source": [
    "# Creating an array with numbers from 2 to 12 spaced out at intervals of 3\n",
    "np.arange(2, 13, 3)"
   ]
  },
  {
   "cell_type": "code",
   "execution_count": 34,
   "id": "a8464d5b",
   "metadata": {},
   "outputs": [
    {
     "data": {
      "text/plain": [
       "array([ 5.        ,  5.26315789,  5.52631579,  5.78947368,  6.05263158,\n",
       "        6.31578947,  6.57894737,  6.84210526,  7.10526316,  7.36842105,\n",
       "        7.63157895,  7.89473684,  8.15789474,  8.42105263,  8.68421053,\n",
       "        8.94736842,  9.21052632,  9.47368421,  9.73684211, 10.        ])"
      ]
     },
     "execution_count": 34,
     "metadata": {},
     "output_type": "execute_result"
    }
   ],
   "source": [
    "# Creating a linearly spaced array of 20 samples between 5 and 10\n",
    "np.linspace(start = 5, stop = 10, num = 20)"
   ]
  },
  {
   "cell_type": "markdown",
   "id": "6238828d",
   "metadata": {},
   "source": [
    "The arange function and linspace function do not allow for any shape specification by themselves and produce 1D arrays with the given sequence of numbers. We can very well use some shape manipulation methods to mold these arrays to the desired shape. "
   ]
  },
  {
   "cell_type": "code",
   "execution_count": 35,
   "id": "91c33b16",
   "metadata": {},
   "outputs": [
    {
     "data": {
      "text/plain": [
       "array([[0.1415181 , 0.76985359, 0.32215195, 0.8684011 ],\n",
       "       [0.58656301, 0.35148033, 0.26354222, 0.80429235]])"
      ]
     },
     "execution_count": 35,
     "metadata": {},
     "output_type": "execute_result"
    }
   ],
   "source": [
    "# Creating a random array with 2 rows and 4 columns, from a uniform distribution\n",
    "np.random.rand(2, 4)\n"
   ]
  },
  {
   "cell_type": "code",
   "execution_count": 41,
   "id": "d8b51068",
   "metadata": {},
   "outputs": [
    {
     "name": "stdout",
     "output_type": "stream",
     "text": [
      "[[ 2.14241647 -1.36694629  0.40681982  0.95121384]\n",
      " [ 1.65737796 -0.29611119 -1.35528032  0.20802836]]\n",
      "~~~~~~~~~~~~~~~~~~~~~~~~~~~~~~~~~~~~~~~~~~~~~~~~~~\n",
      "[[4.32511855 9.01232898 0.90438197 2.28937742]\n",
      " [6.43190826 8.54937434 5.76745028 9.49727057]]\n"
     ]
    }
   ],
   "source": [
    "# Creating a 2X4 array from a standard normal distribution\n",
    "print(np.random.randn(2, 4))\n",
    "print('~'*50)\n",
    "# Creating a 2X4 array from a normal distribution with mean 10 and standard deviation 5\n",
    "print(5 * np.random.randn(2, 4) + 10)\n"
   ]
  },
  {
   "cell_type": "code",
   "execution_count": 42,
   "id": "dc4574e6",
   "metadata": {},
   "outputs": [
    {
     "data": {
      "text/plain": [
       "array([[3, 2, 3],\n",
       "       [4, 4, 3]])"
      ]
     },
     "execution_count": 42,
     "metadata": {},
     "output_type": "execute_result"
    }
   ],
   "source": [
    "# Creating an array of shape (2, 3) with random integers chosen from the interval [2, 5)\n",
    "np.random.randint(2, 5, (2, 3))"
   ]
  },
  {
   "cell_type": "code",
   "execution_count": 43,
   "id": "2cd239dd",
   "metadata": {},
   "outputs": [
    {
     "data": {
      "text/plain": [
       "array([[0., 0., 0.],\n",
       "       [0., 0., 0.],\n",
       "       [1., 0., 0.],\n",
       "       [0., 1., 0.]])"
      ]
     },
     "execution_count": 43,
     "metadata": {},
     "output_type": "execute_result"
    }
   ],
   "source": [
    "# Creating an uninitialized empty array of 4X3 dimensions\n",
    "np.empty([4,3])"
   ]
  },
  {
   "cell_type": "code",
   "execution_count": 47,
   "id": "7bd964be",
   "metadata": {},
   "outputs": [
    {
     "name": "stdout",
     "output_type": "stream",
     "text": [
      "[[1 2 3]\n",
      " [4 5 6]\n",
      " [7 8 9]]\n",
      "--------------------------------------------------\n",
      "[1 5 9]\n",
      "--------------------------------------------------\n",
      "[[1 0 0]\n",
      " [0 5 0]\n",
      " [0 0 9]]\n",
      "--------------------------------------------------\n",
      "[[2 0]\n",
      " [0 6]]\n"
     ]
    }
   ],
   "source": [
    "arr_a = np.array([[1, 2, 3], [4, 5, 6], [7, 8, 9]])\n",
    "print(arr_a)\n",
    "print('-'*50)\n",
    "# Getting the diagonal of the array\n",
    "print(np.diag(arr_a))\n",
    "print('-'*50)\n",
    "# Constructing the diagonal matrix from a 1D array\n",
    "# diag returns a 1D array of diagonals for a 2D input matrix. This 1D array of diagonals can be used here.\n",
    "print(np.diag(np.diag(arr_a)))\n",
    "print('-'*50)\n",
    "# Creating the diagonal matrix with diagonals other than main diagonal\n",
    "print(np.diag(np.diag(arr_a, k = 1)))\n"
   ]
  },
  {
   "cell_type": "code",
   "execution_count": 48,
   "id": "58850ac7",
   "metadata": {},
   "outputs": [
    {
     "name": "stdout",
     "output_type": "stream",
     "text": [
      "[1 2 3 1 2 3]\n",
      "--------------------------------------------------\n",
      "[[1 2 3 1 2 3 1 2 3 1 2 3]\n",
      " [4 5 6 4 5 6 4 5 6 4 5 6]]\n",
      "--------------------------------------------------\n",
      "[[1 2 3]\n",
      " [4 5 6]\n",
      " [1 2 3]\n",
      " [4 5 6]\n",
      " [1 2 3]\n",
      " [4 5 6]\n",
      " [1 2 3]\n",
      " [4 5 6]]\n"
     ]
    }
   ],
   "source": [
    "# Repeating a 1D array 2 times\n",
    "print(np.tile(np.array([1, 2, 3]), 2))\n",
    "print('-'*50)\n",
    "# Repeating a 2D array 4 times\n",
    "print(np.tile(np.array([[1, 2, 3], [4, 5, 6]]), 4))\n",
    "print('-'*50)\n",
    "# Repeating a 2D array 4 times along axis 0 and 1 time along axis 1\n",
    "print(np.tile(np.array([[1, 2, 3], [4, 5, 6]]), (4,1)))"
   ]
  },
  {
   "cell_type": "code",
   "execution_count": null,
   "id": "04b11513",
   "metadata": {},
   "outputs": [],
   "source": [
    "np.array([-2, -1, 0, 1, 2]).dtype"
   ]
  },
  {
   "cell_type": "code",
   "execution_count": null,
   "id": "1972dec0",
   "metadata": {},
   "outputs": [],
   "source": [
    "np.array([-2, -1, 0, 1, 2], dtype = \"float\")"
   ]
  },
  {
   "cell_type": "code",
   "execution_count": null,
   "id": "d22b07de",
   "metadata": {},
   "outputs": [],
   "source": [
    "np.array([-2, -1, 0, 1, 2], dtype = \"str\")"
   ]
  },
  {
   "cell_type": "code",
   "execution_count": null,
   "id": "15b0ae20",
   "metadata": {},
   "outputs": [],
   "source": [
    "np.array([\"a\", \"bb\", \"ccc\", \"dddd\", \"eeeee\"])"
   ]
  },
  {
   "cell_type": "code",
   "execution_count": 52,
   "id": "e60d0f6e",
   "metadata": {},
   "outputs": [
    {
     "name": "stdout",
     "output_type": "stream",
     "text": [
      "bool\n",
      "--------------------------------------------------\n",
      "[False  True  True False False]\n",
      "--------------------------------------------------\n",
      "[False  True  True  True  True]\n",
      "--------------------------------------------------\n",
      "[[1.+1.j 2.+2.j]\n",
      " [3.+3.j 4.+4.j]]\n",
      "--------------------------------------------------\n",
      "complex128\n"
     ]
    }
   ],
   "source": [
    "print(np.array([True, False, True, True]).dtype)\n",
    "print('-'*50)\n",
    "print(np.array([0, 1, 1, 0, 0], dtype = \"bool\"))\n",
    "print('-'*50)\n",
    "print(np.array([0, 1, 2, 3, -4], dtype = \"bool\"))\n",
    "print('-'*50)\n",
    "# Complex array\n",
    "print(np.array([[1 + 1j, 2 + 2j], [3 + 3j, 4 + 4j]]))\n",
    "print('-'*50)\n",
    "print(np.array([[1 + 1j, 2 + 2j], [3 + 3j, 4 + 4j]]).dtype)\n"
   ]
  },
  {
   "cell_type": "code",
   "execution_count": 55,
   "id": "9d36308d",
   "metadata": {},
   "outputs": [
    {
     "name": "stdout",
     "output_type": "stream",
     "text": [
      "[0 1 2 3]\n",
      "--------------------------------------------------\n",
      "[0. 1. 2. 3.]\n",
      "--------------------------------------------------\n",
      "[1.56 2.95 3.12 4.65]\n",
      "--------------------------------------------------\n",
      "[1 2 3 4]\n"
     ]
    }
   ],
   "source": [
    "# Int to float conversion\n",
    "int_array = np.array([0, 1, 2, 3])\n",
    "print(int_array)\n",
    "print('-'*50)\n",
    "print(int_array.astype(\"float\"))\n",
    "print('-'*50)\n",
    "# Float to int conversion\n",
    "float_array = np.array([1.56, 2.95, 3.12, 4.65])\n",
    "print(float_array)\n",
    "print('-'*50)\n",
    "print(float_array.astype(\"int\"))\n"
   ]
  },
  {
   "cell_type": "code",
   "execution_count": 61,
   "id": "50f2c314",
   "metadata": {},
   "outputs": [
    {
     "name": "stdout",
     "output_type": "stream",
     "text": [
      "[0 1 2 3 4]\n",
      "--------------------------------------------------\n",
      "[0 1 2 3 4]\n",
      "--------------------------------------------------\n",
      "[0 1 2 3 4]\n",
      "--------------------------------------------------\n",
      "[4 3 2 1 0]\n"
     ]
    }
   ],
   "source": [
    "# print entire array, element 0, element 1, last element.\n",
    "ar = np.arange(5); \n",
    "print(ar)\n",
    "print('-'*50)\n",
    "# 2nd, last and 1st elements\n",
    "ar=np.arange(5)\n",
    "print(ar)\n",
    "print('-'*50)\n",
    "#Arrays can be reversed using the ::-1 idiom as follows:\n",
    "ar=np.arange(5); \n",
    "print(ar)\n",
    "print('-'*50)\n",
    "print(ar[::-1])"
   ]
  },
  {
   "cell_type": "code",
   "execution_count": 63,
   "id": "71f9ea6a",
   "metadata": {},
   "outputs": [
    {
     "data": {
      "text/plain": [
       "8"
      ]
     },
     "execution_count": 63,
     "metadata": {},
     "output_type": "execute_result"
    }
   ],
   "source": [
    "ar = np.array([[2,3,4],[9,8,7],[11,12,13]]); \n",
    "ar[1,1]"
   ]
  },
  {
   "cell_type": "code",
   "execution_count": 64,
   "id": "7ed85054",
   "metadata": {},
   "outputs": [
    {
     "data": {
      "text/plain": [
       "array([[ 2,  3,  4],\n",
       "       [ 9,  5,  7],\n",
       "       [11, 12, 13]])"
      ]
     },
     "execution_count": 64,
     "metadata": {},
     "output_type": "execute_result"
    }
   ],
   "source": [
    "ar[1,1]=5; \n",
    "ar"
   ]
  },
  {
   "cell_type": "code",
   "execution_count": 65,
   "id": "ea495143",
   "metadata": {},
   "outputs": [
    {
     "data": {
      "text/plain": [
       "array([11, 12, 13])"
      ]
     },
     "execution_count": 65,
     "metadata": {},
     "output_type": "execute_result"
    }
   ],
   "source": [
    "ar[2]"
   ]
  },
  {
   "cell_type": "code",
   "execution_count": 66,
   "id": "d1f391f2",
   "metadata": {},
   "outputs": [
    {
     "data": {
      "text/plain": [
       "array([11, 12, 13])"
      ]
     },
     "execution_count": 66,
     "metadata": {},
     "output_type": "execute_result"
    }
   ],
   "source": [
    "ar[2,:]"
   ]
  },
  {
   "cell_type": "code",
   "execution_count": 67,
   "id": "eea9bc11",
   "metadata": {},
   "outputs": [
    {
     "data": {
      "text/plain": [
       "array([ 3,  5, 12])"
      ]
     },
     "execution_count": 67,
     "metadata": {},
     "output_type": "execute_result"
    }
   ],
   "source": [
    "# Retrieve column 1\n",
    "ar[:,1]"
   ]
  },
  {
   "cell_type": "code",
   "execution_count": 69,
   "id": "fdf9852f",
   "metadata": {},
   "outputs": [
    {
     "data": {
      "text/plain": [
       "array([ 0,  2,  4,  6,  8, 10])"
      ]
     },
     "execution_count": 69,
     "metadata": {},
     "output_type": "execute_result"
    }
   ],
   "source": [
    "ar=2*np.arange(6); ar"
   ]
  },
  {
   "cell_type": "code",
   "execution_count": 72,
   "id": "f7758f6c",
   "metadata": {},
   "outputs": [
    {
     "data": {
      "text/plain": [
       "array([2, 6])"
      ]
     },
     "execution_count": 72,
     "metadata": {},
     "output_type": "execute_result"
    }
   ],
   "source": [
    "ar[1:5:2]"
   ]
  },
  {
   "cell_type": "code",
   "execution_count": 73,
   "id": "b84df0de",
   "metadata": {},
   "outputs": [
    {
     "data": {
      "text/plain": [
       "array([ 2,  6, 10])"
      ]
     },
     "execution_count": 73,
     "metadata": {},
     "output_type": "execute_result"
    }
   ],
   "source": [
    "ar[1:6:2]"
   ]
  },
  {
   "cell_type": "code",
   "execution_count": 74,
   "id": "06ed74da",
   "metadata": {},
   "outputs": [
    {
     "data": {
      "text/plain": [
       "array([0, 2, 4, 6])"
      ]
     },
     "execution_count": 74,
     "metadata": {},
     "output_type": "execute_result"
    }
   ],
   "source": [
    "# Obtain the first nelements using ar[:n]:\n",
    "ar[:4]"
   ]
  },
  {
   "cell_type": "code",
   "execution_count": 75,
   "id": "c844a5b7",
   "metadata": {},
   "outputs": [
    {
     "data": {
      "text/plain": [
       "array([ 8, 10])"
      ]
     },
     "execution_count": 75,
     "metadata": {},
     "output_type": "execute_result"
    }
   ],
   "source": [
    "ar[4:]"
   ]
  },
  {
   "cell_type": "code",
   "execution_count": 78,
   "id": "ecda2ab3",
   "metadata": {},
   "outputs": [
    {
     "name": "stdout",
     "output_type": "stream",
     "text": [
      "[ 0  2  4  6  8 10]\n",
      "[0 6]\n"
     ]
    }
   ],
   "source": [
    "print(ar)\n",
    "#Slice array with stepValue=3:\n",
    "print(ar[::3])"
   ]
  },
  {
   "cell_type": "code",
   "execution_count": null,
   "id": "fb7755a4",
   "metadata": {},
   "outputs": [],
   "source": []
  },
  {
   "cell_type": "markdown",
   "id": "a1a6f5e5",
   "metadata": {},
   "source": [
    "## Array masking"
   ]
  },
  {
   "cell_type": "code",
   "execution_count": 85,
   "id": "db28206f",
   "metadata": {},
   "outputs": [
    {
     "name": "stdout",
     "output_type": "stream",
     "text": [
      "[ 8 21 12  5 23  0  7 11 21 22]\n",
      "--------------------------------------------------\n",
      "[ True False  True False False  True False False False  True]\n",
      "--------------------------------------------------\n",
      "[ 8 12  0 22]\n"
     ]
    },
    {
     "name": "stderr",
     "output_type": "stream",
     "text": [
      "C:\\Users\\15043\\AppData\\Local\\Temp\\ipykernel_14920\\2134118804.py:2: DeprecationWarning: This function is deprecated. Please call randint(0, 25 + 1) instead\n",
      "  ar=np.random.random_integers(0,25,10);\n"
     ]
    }
   ],
   "source": [
    "np.random.seed(15)\n",
    "ar=np.random.random_integers(0,25,10); \n",
    "print(ar)\n",
    "print('-'*50)\n",
    "evenMask=(ar % 2==0); \n",
    "print(evenMask)\n",
    "print('-'*50)\n",
    "evenNums=ar[evenMask]; \n",
    "print(evenNums)"
   ]
  },
  {
   "cell_type": "code",
   "execution_count": 87,
   "id": "ba98219e",
   "metadata": {},
   "outputs": [
    {
     "name": "stdout",
     "output_type": "stream",
     "text": [
      "['Hungary' 'Nigeria' 'Guatemala' '' 'Poland' '' 'Japan']\n",
      "--------------------------------------------------\n",
      "['Hungary' 'Nigeria' 'Guatemala' 'USA' 'Poland' 'USA' 'Japan']\n"
     ]
    }
   ],
   "source": [
    "In [149]: ar=np.array(['Hungary','Nigeria', \n",
    "                       'Guatemala','','Poland',\n",
    "                       '','Japan']); \n",
    "print(ar)\n",
    "print('-'*50)\n",
    "\n",
    "# if we wished to eliminate missing values by replacing them with a default value.\n",
    "# Here, the missing value '' is replaced by 'USA' as the default country. \n",
    "# Note that '' is also an empty string:\n",
    "    \n",
    "ar[ar=='']='USA'; \n",
    "print(ar)"
   ]
  },
  {
   "cell_type": "code",
   "execution_count": 88,
   "id": "68cb3fc0",
   "metadata": {},
   "outputs": [
    {
     "name": "stdout",
     "output_type": "stream",
     "text": [
      "[ 0 11 22 33 44 55 66 77 88 99]\n",
      "--------------------------------------------------\n",
      "[ 0 11 22 33 44 55 66 77 88 99]\n"
     ]
    }
   ],
   "source": [
    "ar=11*np.arange(0,10); ar\n",
    "print(ar)\n",
    "print('-'*50)\n",
    "ar[[1,3,4,2,7]]\n",
    "print(ar)"
   ]
  },
  {
   "cell_type": "markdown",
   "id": "b08a73da",
   "metadata": {},
   "source": [
    "In the preceding code, the selection object is a list, and elements at indices 1, 3, 4, 2, and 7 are selected. \n",
    "Now, assume that we change it to the following:"
   ]
  },
  {
   "cell_type": "code",
   "execution_count": 89,
   "id": "d4f04c2e",
   "metadata": {},
   "outputs": [
    {
     "ename": "IndexError",
     "evalue": "too many indices for array: array is 1-dimensional, but 5 were indexed",
     "output_type": "error",
     "traceback": [
      "\u001b[1;31m---------------------------------------------------------------------------\u001b[0m",
      "\u001b[1;31mIndexError\u001b[0m                                Traceback (most recent call last)",
      "Input \u001b[1;32mIn [89]\u001b[0m, in \u001b[0;36m<cell line: 1>\u001b[1;34m()\u001b[0m\n\u001b[1;32m----> 1\u001b[0m \u001b[43mar\u001b[49m\u001b[43m[\u001b[49m\u001b[38;5;241;43m1\u001b[39;49m\u001b[43m,\u001b[49m\u001b[38;5;241;43m3\u001b[39;49m\u001b[43m,\u001b[49m\u001b[38;5;241;43m4\u001b[39;49m\u001b[43m,\u001b[49m\u001b[38;5;241;43m2\u001b[39;49m\u001b[43m,\u001b[49m\u001b[38;5;241;43m7\u001b[39;49m\u001b[43m]\u001b[49m\n",
      "\u001b[1;31mIndexError\u001b[0m: too many indices for array: array is 1-dimensional, but 5 were indexed"
     ]
    }
   ],
   "source": [
    "ar[1,3,4,2,7]\n",
    "\n",
    "#We get an IndexError error since the array is 1D and we're specifying too many indices to access it:"
   ]
  },
  {
   "cell_type": "code",
   "execution_count": null,
   "id": "cfaa17c5",
   "metadata": {},
   "outputs": [],
   "source": []
  },
  {
   "cell_type": "markdown",
   "id": "a459eb87",
   "metadata": {},
   "source": [
    "### Complex indexing\n",
    "Here, we illustrate the use of complex indexing to assign values from a smaller array into a larger one:"
   ]
  },
  {
   "cell_type": "code",
   "execution_count": 91,
   "id": "679be0bd",
   "metadata": {},
   "outputs": [
    {
     "name": "stdout",
     "output_type": "stream",
     "text": [
      "[ 0  1  2  3  4  5  6  7  8  9 10 11 12 13 14]\n",
      "--------------------------------------------------\n",
      "[-9 -8 -7 -6 -5 -4 -3 -2 -1  0]\n",
      "--------------------------------------------------\n",
      "[-9 -8 -7 -6 -5 -4 -3 -2 -1  0 10 11 12 13 14]\n"
     ]
    }
   ],
   "source": [
    "ar=np.arange(15); \n",
    "print(ar)\n",
    "print('-'*50)\n",
    "ar2=np.arange(0,-10,-1)[::-1]; \n",
    "print(ar2)\n",
    "print('-'*50)\n",
    "\n",
    "#Slice out the first 10 elements of ar, and replace them with elements from ar2, as follows:\n",
    "\n",
    "ar[:10]=ar2; \n",
    "print(ar)"
   ]
  },
  {
   "cell_type": "markdown",
   "id": "d6e3f695",
   "metadata": {},
   "source": [
    "## Copies and views"
   ]
  },
  {
   "cell_type": "code",
   "execution_count": 92,
   "id": "07b33e00",
   "metadata": {},
   "outputs": [
    {
     "name": "stdout",
     "output_type": "stream",
     "text": [
      "[ 0  1  2  3  4  5  6  7  8  9 10 11]\n",
      "--------------------------------------------------\n",
      "[ 0  2  4  6  8 10]\n",
      "--------------------------------------------------\n",
      "[ 0 -1  4  6  8 10]\n"
     ]
    }
   ],
   "source": [
    "ar1=np.arange(12); \n",
    "print(ar1)\n",
    "print('-'*50)\n",
    "ar2=ar1[::2]; \n",
    "print(ar2)\n",
    "print('-'*50) \n",
    "ar2[1]=-1; \n",
    "print(ar2)"
   ]
  },
  {
   "cell_type": "code",
   "execution_count": 93,
   "id": "159d65ea",
   "metadata": {},
   "outputs": [
    {
     "name": "stdout",
     "output_type": "stream",
     "text": [
      "[0 1 2 3 4 5 6 7]\n",
      "--------------------------------------------------\n",
      "[0 1 2]\n",
      "--------------------------------------------------\n",
      "[-1  1  2]\n"
     ]
    }
   ],
   "source": [
    "ar=np.arange(8);\n",
    "print(ar)\n",
    "print('-'*50)\n",
    "arc=ar[:3].copy(); \n",
    "print(arc)\n",
    "print('-'*50) \n",
    "arc[0]=-1; \n",
    "print(arc)"
   ]
  },
  {
   "cell_type": "markdown",
   "id": "1934bf5d",
   "metadata": {},
   "source": [
    "## Basic operators"
   ]
  },
  {
   "cell_type": "code",
   "execution_count": 95,
   "id": "a0321a48",
   "metadata": {},
   "outputs": [
    {
     "name": "stdout",
     "output_type": "stream",
     "text": [
      "[[1 2 3]\n",
      " [4 5 6]]\n",
      "--------------------------------------------------\n",
      "[[14 32]\n",
      " [32 77]]\n"
     ]
    }
   ],
   "source": [
    "array_1 = np.array([[1, 2, 3], [4, 5, 6]])\n",
    "print(array_1)\n",
    "print('-'*50)\n",
    "# Matrix multiplication of an array and its transpose\n",
    "print(array_1 @ array_1.T)"
   ]
  },
  {
   "cell_type": "code",
   "execution_count": 100,
   "id": "b7717917",
   "metadata": {},
   "outputs": [
    {
     "name": "stdout",
     "output_type": "stream",
     "text": [
      "3 µs ± 51.2 ns per loop (mean ± std. dev. of 7 runs, 100,000 loops each)\n"
     ]
    }
   ],
   "source": [
    "# Computing the cube of each number from 0 to 1000, using a for loop\n",
    "%timeit np.arange(1000) ** 3"
   ]
  },
  {
   "cell_type": "code",
   "execution_count": 101,
   "id": "ddc921b7",
   "metadata": {},
   "outputs": [
    {
     "name": "stdout",
     "output_type": "stream",
     "text": [
      "263 µs ± 1.14 µs per loop (mean ± std. dev. of 7 runs, 1,000 loops each)\n"
     ]
    }
   ],
   "source": [
    "# Computing the cube of each number from 0 to 1000, using a for loop\n",
    "array_list = range(1000)\n",
    "%timeit [array_list[i]**3 for i in array_list]"
   ]
  },
  {
   "cell_type": "markdown",
   "id": "87de91f5",
   "metadata": {},
   "source": [
    "### The example above shows that numpy operations are about 100 times faster than for loops."
   ]
  },
  {
   "cell_type": "code",
   "execution_count": null,
   "id": "bf136e37",
   "metadata": {},
   "outputs": [],
   "source": []
  },
  {
   "cell_type": "markdown",
   "id": "fd1d9d9c",
   "metadata": {},
   "source": [
    "### Mathematical operators"
   ]
  },
  {
   "cell_type": "code",
   "execution_count": 104,
   "id": "fd42c514",
   "metadata": {},
   "outputs": [
    {
     "name": "stdout",
     "output_type": "stream",
     "text": [
      "[5 7 9]\n",
      "[[1 2 3]\n",
      " [5 7 9]]\n",
      "[ 1  3  6 10 15 21]\n"
     ]
    }
   ],
   "source": [
    "# Column sum of elements\n",
    "print(np.array([[1, 2, 3], [4, 5, 6]]).sum(axis = 0))\n",
    "\n",
    "# Cumulative sum of elements along axis 0\n",
    "print(np.array([[1, 2, 3], [4, 5, 6]]).cumsum(axis = 0))\n",
    "\n",
    "# Cumulative sum of all elements in the array\n",
    "print(np.array([[1, 2, 3], [4, 5, 6]]).cumsum())\n"
   ]
  },
  {
   "cell_type": "markdown",
   "id": "8bcfb707",
   "metadata": {},
   "source": [
    "### Statistical operators"
   ]
  },
  {
   "cell_type": "code",
   "execution_count": 105,
   "id": "4d78b2d1",
   "metadata": {},
   "outputs": [
    {
     "data": {
      "text/plain": [
       "1.707825127659933"
      ]
     },
     "execution_count": 105,
     "metadata": {},
     "output_type": "execute_result"
    }
   ],
   "source": [
    "array_x = np.array([[0, 1, 2], [3, 4, 5]])\n",
    "np.mean(array_x)\n",
    "np.median(array_x)\n",
    "np.var(array_x)\n",
    "np.std(array_x)"
   ]
  },
  {
   "cell_type": "code",
   "execution_count": 107,
   "id": "52081000",
   "metadata": {},
   "outputs": [
    {
     "data": {
      "text/plain": [
       "array([[ 0.46741424,  0.54164647, -0.62948127],\n",
       "       [ 0.54164647,  1.0967383 , -0.5719871 ],\n",
       "       [-0.62948127, -0.5719871 ,  1.6598233 ]])"
      ]
     },
     "execution_count": 107,
     "metadata": {},
     "output_type": "execute_result"
    }
   ],
   "source": [
    "array_corr = np.random.randn(3,4)\n",
    "np.corrcoef(array_corr)\n",
    "np.cov(array_corr)"
   ]
  },
  {
   "cell_type": "markdown",
   "id": "f61753b0",
   "metadata": {},
   "source": [
    "### Logical operators"
   ]
  },
  {
   "cell_type": "code",
   "execution_count": 124,
   "id": "7fb3c6da",
   "metadata": {},
   "outputs": [
    {
     "name": "stdout",
     "output_type": "stream",
     "text": [
      "[[ 0.17700825 -0.65143391  0.47890877  0.09568479]\n",
      " [ 1.9811775  -0.26987231 -0.71554056 -0.84686743]\n",
      " [ 0.45180436  0.32849958 -0.89661332  0.88326518]]\n",
      "--------------------------------------------------\n",
      "[False  True  True  True]\n",
      "False\n"
     ]
    }
   ],
   "source": [
    "array_logical = np.random.randn(3, 4)\n",
    "print(array_logical)\n",
    "print('-'*50)\n",
    "# Check if any value is negative along each dimension in axis 0\n",
    "print(np.any(array_logical < 0, axis = 0))\n",
    "\n",
    "# Check if all the values are negative in the array\n",
    "print(np.all(array_logical < 0))"
   ]
  },
  {
   "cell_type": "markdown",
   "id": "c293854e",
   "metadata": {},
   "source": [
    "Some functions test for the presence of NAs or infinite values in the array. Such functionalities are an essential part of data processing and data cleaning. These functions take in an array or array-like object as input and return the truth value as output:"
   ]
  },
  {
   "cell_type": "code",
   "execution_count": 125,
   "id": "4210e01c",
   "metadata": {},
   "outputs": [
    {
     "name": "stdout",
     "output_type": "stream",
     "text": [
      "[ True False  True False]\n",
      "--------------------------------------------------\n",
      "[False False False  True]\n",
      "--------------------------------------------------\n",
      "[False  True False False]\n"
     ]
    }
   ],
   "source": [
    "print(np.isfinite(np.array([12, np.inf, 3, np.nan])))\n",
    "print('-'*50)\n",
    "print(np.isnan((np.array([12, np.inf, 3, np.nan]))))\n",
    "print('-'*50)\n",
    "print(np.isinf((np.array([12, np.inf, 3, np.nan]))))"
   ]
  },
  {
   "cell_type": "markdown",
   "id": "4729ab5d",
   "metadata": {},
   "source": [
    "Operators such as greater, less, and equal help to perform element-to-element comparison between two arrays of identical shape:"
   ]
  },
  {
   "cell_type": "code",
   "execution_count": 126,
   "id": "40ec82c4",
   "metadata": {},
   "outputs": [
    {
     "name": "stdout",
     "output_type": "stream",
     "text": [
      "[[-1.57793062 -0.89442757 -0.43037381 -0.02844481]\n",
      " [-0.84742946  1.40732819  1.16421582  0.17061978]\n",
      " [ 0.15441828  0.00956198  0.08559231  0.80542052]]\n",
      "--------------------------------------------------\n",
      "[[ 0.88291496  0.52379055 -0.32115335 -1.45463775]\n",
      " [-1.65555653  0.24873851 -1.39627125 -0.53041408]\n",
      " [ 1.13944002  0.38841262  0.10531119  0.1600142 ]]\n",
      "--------------------------------------------------\n",
      "[[False False False  True]\n",
      " [ True  True  True  True]\n",
      " [False False False  True]]\n",
      "--------------------------------------------------\n",
      "[[ True  True  True False]\n",
      " [False False False False]\n",
      " [ True  True  True False]]\n"
     ]
    }
   ],
   "source": [
    "# Creating two random arrays for comparison\n",
    "array1 = np.random.randn(3,4)\n",
    "print(array1)\n",
    "print('-'*50)\n",
    "array2 = np.random.randn(3, 4)\n",
    "print(array2)\n",
    "print('-'*50)\n",
    "# Checking for the truth of array1 greater than array2\n",
    "print(np.greater(array1, array2))\n",
    "print('-'*50)\n",
    "# Checking for the truth of array1 less than array2\n",
    "print(np.less(array1, array2))"
   ]
  },
  {
   "cell_type": "markdown",
   "id": "44bd2df2",
   "metadata": {},
   "source": [
    "### Array shape manipulation"
   ]
  },
  {
   "cell_type": "code",
   "execution_count": 127,
   "id": "b0b4f198",
   "metadata": {},
   "outputs": [
    {
     "data": {
      "text/plain": [
       "array([[ 0,  1,  2],\n",
       "       [ 3,  4,  5],\n",
       "       [ 6,  7,  8],\n",
       "       [ 9, 10, 11],\n",
       "       [12, 13, 14]])"
      ]
     },
     "execution_count": 127,
     "metadata": {},
     "output_type": "execute_result"
    }
   ],
   "source": [
    "reshape_array = np.arange(0,15)\n",
    "np.reshape(reshape_array, (5, 3))"
   ]
  },
  {
   "cell_type": "code",
   "execution_count": 130,
   "id": "1ce03914",
   "metadata": {},
   "outputs": [
    {
     "name": "stdout",
     "output_type": "stream",
     "text": [
      "[[ 0  1  2  3  4]\n",
      " [ 5  6  7  8  9]\n",
      " [10 11 12 13 14]]\n",
      "--------------------------------------------------\n",
      "[[ 0  5 10]\n",
      " [ 1  6 11]\n",
      " [ 2  7 12]\n",
      " [ 3  8 13]\n",
      " [ 4  9 14]]\n"
     ]
    }
   ],
   "source": [
    "trans_array = np.arange(0,15).reshape(3, 5)\n",
    "print(trans_array)\n",
    "print('-'*50)\n",
    "print(trans_array.T)"
   ]
  },
  {
   "cell_type": "code",
   "execution_count": 131,
   "id": "d9fb79f0",
   "metadata": {},
   "outputs": [
    {
     "data": {
      "text/plain": [
       "(4, 3, 2)"
      ]
     },
     "execution_count": 131,
     "metadata": {},
     "output_type": "execute_result"
    }
   ],
   "source": [
    "trans_array = np.arange(0,24).reshape(2, 3, 4)\n",
    "trans_array.T.shape"
   ]
  },
  {
   "cell_type": "markdown",
   "id": "79864e44",
   "metadata": {},
   "source": [
    "### Ravel helps to flatten the data from multidimensional to 1D:"
   ]
  },
  {
   "cell_type": "code",
   "execution_count": 134,
   "id": "148e82c2",
   "metadata": {},
   "outputs": [
    {
     "name": "stdout",
     "output_type": "stream",
     "text": [
      "[[ 0  1  2]\n",
      " [ 3  4  5]\n",
      " [ 6  7  8]\n",
      " [ 9 10 11]]\n",
      "--------------------------------------------------\n",
      "[ 0  1  2  3  4  5  6  7  8  9 10 11]\n",
      "--------------------------------------------------\n"
     ]
    },
    {
     "data": {
      "text/plain": [
       "array([ 0,  3,  6,  9,  1,  4,  7, 10,  2,  5,  8, 11])"
      ]
     },
     "execution_count": 134,
     "metadata": {},
     "output_type": "execute_result"
    }
   ],
   "source": [
    "ravel_array = np.arange(0,12).reshape(4, 3)\n",
    "print(ravel_array)\n",
    "print('-'*50)\n",
    "print(ravel_array.ravel())\n",
    "print('-'*50)\n",
    "\n",
    "# The order in which the array is raveled can be set. The order can be \"C\", \"F\", \"A\", or \"K\". \n",
    "# \"C\" is the default order, where the array gets flattened along the row major, while with \"F\", \n",
    "# flattening occurs along the column major. \"A\" reads the array elements in a Fortran-like index-based \n",
    "#order and \"K\" reads the elements in the order in which they are stored in memory:\n",
    "\n",
    "ravel_array.ravel(order = \"F\")"
   ]
  },
  {
   "cell_type": "markdown",
   "id": "95fc7b0d",
   "metadata": {},
   "source": [
    "### Adding a new axis"
   ]
  },
  {
   "cell_type": "code",
   "execution_count": 135,
   "id": "280f2ab1",
   "metadata": {},
   "outputs": [
    {
     "name": "stdout",
     "output_type": "stream",
     "text": [
      "[0 1 2 3 4 5 6]\n",
      "--------------------------------------------------\n",
      "[[0]\n",
      " [1]\n",
      " [2]\n",
      " [3]\n",
      " [4]\n",
      " [5]\n",
      " [6]]\n",
      "--------------------------------------------------\n",
      "(7, 1)\n",
      "--------------------------------------------------\n",
      "[[[0]]\n",
      "\n",
      " [[1]]\n",
      "\n",
      " [[2]]\n",
      "\n",
      " [[3]]\n",
      "\n",
      " [[4]]\n",
      "\n",
      " [[5]]\n",
      "\n",
      " [[6]]]\n",
      "--------------------------------------------------\n",
      "(7, 1, 1)\n"
     ]
    }
   ],
   "source": [
    "# Creating a 1D array with 7 elements\n",
    "array_x = np.array([0, 1, 2, 3, 4, 5, 6])\n",
    "print(array_x)\n",
    "print('-'*50)\n",
    "# Adding a new axis changes the 1D array to 2D\n",
    "print(array_x[:, np.newaxis])\n",
    "print('-'*50)\n",
    "print(array_x[:, np.newaxis].shape)\n",
    "print('-'*50)\n",
    "# Adding 2 new axis to the 1D array to make it 3D\n",
    "print(array_x[:, np.newaxis, np.newaxis])\n",
    "print('-'*50)  \n",
    "print(array_x[:, np.newaxis, np.newaxis].shape)\n",
    "    "
   ]
  },
  {
   "cell_type": "markdown",
   "id": "7f1ac853",
   "metadata": {},
   "source": [
    "### Basic linear algebra operations\n",
    "\n",
    "Linear algebra constitutes a set of vital operations for matrices and arrays. The NumPy package is built with a special module called linalg to deal with all linear algebra requirements. The following segment discusses some frequently used functions of the linalg module in detail.\n",
    "\n",
    "The dot function of the linalg module helps in matrix multiplication. For 2D arrays, it behaves exactly like matrix multiplication. It requires the last dimension of the first array to be equal to the last dimension of the second array. The arrays need not have equal numbers of dimensions. For an N-dimensional array, the output will have 2N-2 dimensions:\n"
   ]
  },
  {
   "cell_type": "code",
   "execution_count": 139,
   "id": "601a3b7f",
   "metadata": {},
   "outputs": [
    {
     "name": "stdout",
     "output_type": "stream",
     "text": [
      "[[-0.41070786 -0.71884278  0.77055707 -0.40157547]\n",
      " [-1.09640949  0.72790947 -0.49843124 -0.14130392]]\n",
      "--------------------------------------------------\n",
      "[[ 0.82585335 -0.32774714]\n",
      " [-0.37906692  0.37314405]\n",
      " [ 1.61165248 -1.6380887 ]\n",
      " [ 1.64838597  0.9856031 ]]\n",
      "--------------------------------------------------\n",
      "[[ 0.5132239  -1.79165843]\n",
      " [-2.2176212   1.30816516]]\n",
      "--------------------------------------------------\n",
      "(2, 4, 1, 1, 1)\n"
     ]
    }
   ],
   "source": [
    "# For 2D arrays\n",
    "array_1 = np.random.randn(2, 4)\n",
    "array_2 = np.random.randn(4, 2)\n",
    "print(array_1)\n",
    "print('-'*50)\n",
    "print(array_2)\n",
    "print('-'*50)\n",
    "print(np.dot(array_1, array_2))\n",
    "print('-'*50)\n",
    "# For N dimensional arrays\n",
    "array_1 = np.random.randn(2, 4, 2)\n",
    "array_2 = np.random.randn(1, 1, 2, 1)\n",
    "print(np.dot(array_1, array_2).shape)"
   ]
  },
  {
   "cell_type": "markdown",
   "id": "177c3910",
   "metadata": {},
   "source": [
    "The linalg.multidot function can help in computing the product of several arrays at once, instead of using a nested sequence of dot functions. This function automatically finds the most efficient order for evaluating the sequence of products.\n",
    "\n",
    "The linalg.svd function helps in singular value decomposition and returns three arrays as the result of decomposition. It accepts an array with two or more dimensions as the input:"
   ]
  },
  {
   "cell_type": "code",
   "execution_count": 140,
   "id": "ccc6e35e",
   "metadata": {},
   "outputs": [
    {
     "data": {
      "text/plain": [
       "(array([[-0.7165471 ,  0.67709603, -0.07095546, -0.15187674],\n",
       "        [ 0.02375063, -0.19586423, -0.01063688, -0.98028566],\n",
       "        [-0.69188907, -0.6854047 ,  0.19382235,  0.11807966],\n",
       "        [ 0.08535616,  0.18275276,  0.97840946, -0.04506308]]),\n",
       " array([4.32181827, 2.57484718, 0.93725601]),\n",
       " array([[-0.20265395, -0.6515194 ,  0.7310635 ],\n",
       "        [ 0.86345108, -0.47105308, -0.18044732],\n",
       "        [-0.46193465, -0.59466921, -0.6580159 ]]))"
      ]
     },
     "execution_count": 140,
     "metadata": {},
     "output_type": "execute_result"
    }
   ],
   "source": [
    "array_svd = np.random.randn(4, 3)\n",
    "np.linalg.svd(array_svd)"
   ]
  },
  {
   "cell_type": "markdown",
   "id": "ed3d634d",
   "metadata": {},
   "source": [
    "Eigenvalues and eigenvectors of an array can be calculated with the linalg.eig function. The eig function requires the last two dimensions of the input array to be a square. The same function returns both the eigenvalues and the eigenvectors:"
   ]
  },
  {
   "cell_type": "code",
   "execution_count": 141,
   "id": "03740b11",
   "metadata": {},
   "outputs": [
    {
     "data": {
      "text/plain": [
       "(array([-0.99021138+0.j        ,  0.33633478+1.53244295j,\n",
       "         0.33633478-1.53244295j,  1.62796579+0.55533248j,\n",
       "         1.62796579-0.55533248j]),\n",
       " array([[ 0.83990496+0.j        , -0.16797936+0.39124741j,\n",
       "         -0.16797936-0.39124741j,  0.14825217-0.0192569j ,\n",
       "          0.14825217+0.0192569j ],\n",
       "        [-0.0984714 +0.j        , -0.14480561+0.39659146j,\n",
       "         -0.14480561-0.39659146j,  0.11317588-0.10188239j,\n",
       "          0.11317588+0.10188239j],\n",
       "        [ 0.02905907+0.j        , -0.57761858+0.j        ,\n",
       "         -0.57761858-0.j        ,  0.90960556+0.j        ,\n",
       "          0.90960556-0.j        ],\n",
       "        [ 0.52721053+0.j        ,  0.17138715+0.08568786j,\n",
       "          0.17138715-0.08568786j, -0.18472645-0.14761669j,\n",
       "         -0.18472645+0.14761669j],\n",
       "        [-0.07789522+0.j        ,  0.39957977-0.33231274j,\n",
       "          0.39957977+0.33231274j,  0.03488031+0.26447725j,\n",
       "          0.03488031-0.26447725j]]))"
      ]
     },
     "execution_count": 141,
     "metadata": {},
     "output_type": "execute_result"
    }
   ],
   "source": [
    "np.linalg.eig(np.random.randn(5, 5))"
   ]
  },
  {
   "cell_type": "code",
   "execution_count": null,
   "id": "e97e1a32",
   "metadata": {},
   "outputs": [],
   "source": []
  },
  {
   "cell_type": "markdown",
   "id": "c855006e",
   "metadata": {},
   "source": [
    "The linalg module also has functions to solve linear equations. The linalg.solve function takes in a coefficient matrix and the dependent variable, and solves for the exact solution. It requires that all rows of the coefficient matrix must be linearly independent:"
   ]
  },
  {
   "cell_type": "code",
   "execution_count": 142,
   "id": "fa2a19ee",
   "metadata": {},
   "outputs": [
    {
     "data": {
      "text/plain": [
       "array([-6.27272727, 15.81818182, -6.45454545])"
      ]
     },
     "execution_count": 142,
     "metadata": {},
     "output_type": "execute_result"
    }
   ],
   "source": [
    "a = np.array([[1, 2, 3], [5, 4, 2], [8, 9, 7]])\n",
    "b = np.array([6, 19, 47])\n",
    "np.linalg.solve(a, b)"
   ]
  },
  {
   "cell_type": "markdown",
   "id": "3de25ae8",
   "metadata": {},
   "source": [
    "The linalg.det function computes the determinant of a square array. If there are more than two dimensions in the input array, it is treated as a stack of matrices and the determinant is computed for each stack. The last two dimensions must, however, correspond to a square matrix:"
   ]
  },
  {
   "cell_type": "code",
   "execution_count": 143,
   "id": "7c601a14",
   "metadata": {},
   "outputs": [
    {
     "data": {
      "text/plain": [
       "array([ 2.89875949, -0.58268981])"
      ]
     },
     "execution_count": 143,
     "metadata": {},
     "output_type": "execute_result"
    }
   ],
   "source": [
    "np.linalg.det(np.random.randn(3,3))\n",
    "np.linalg.det(np.random.randn(2,3,3))"
   ]
  },
  {
   "cell_type": "markdown",
   "id": "93c1b96e",
   "metadata": {},
   "source": [
    "### Array sorting"
   ]
  },
  {
   "cell_type": "code",
   "execution_count": 153,
   "id": "f7f10085",
   "metadata": {},
   "outputs": [
    {
     "name": "stdout",
     "output_type": "stream",
     "text": [
      "[[ 3  2]\n",
      " [10 -1]]\n",
      "--------------------------------------------------\n",
      "[[ 3 -1]\n",
      " [10  2]]\n"
     ]
    }
   ],
   "source": [
    "ar=np.array([[3,2],[10,-1]])\n",
    "print(ar)\n",
    "print('-'*50)\n",
    "ar.sort(axis=0)\n",
    "print(ar)"
   ]
  },
  {
   "cell_type": "markdown",
   "id": "2ebd66f9",
   "metadata": {},
   "source": [
    "## Implementing neural networks with NumPy"
   ]
  },
  {
   "cell_type": "code",
   "execution_count": 155,
   "id": "1141db38",
   "metadata": {},
   "outputs": [
    {
     "name": "stdout",
     "output_type": "stream",
     "text": [
      "[[ 0.47266661  0.56079828  0.        ]\n",
      " [ 0.87938926  0.60225714  0.        ]\n",
      " [ 0.05409917  0.92867414  0.        ]\n",
      " ...\n",
      " [-1.3585913  -1.32040834  1.        ]\n",
      " [-0.81277616 -1.51825232  1.        ]\n",
      " [-1.79616994 -3.26677192  1.        ]]\n"
     ]
    }
   ],
   "source": [
    "N = 1000\n",
    "X1 = np.random.randn(N, 2) + np.array([0.9, 0.9])\n",
    "X2 = np.random.randn(N, 2) + np.array([-0.9, -0.9])\n",
    "Y1 = np.zeros((N, 1))\n",
    "Y2 = np.ones((N, 1))\n",
    "\n",
    "X = np.vstack((X1, X2))\n",
    "Y = np.vstack((Y1, Y2))\n",
    "train = np.hstack((X, Y))\n",
    "print(train)"
   ]
  },
  {
   "cell_type": "markdown",
   "id": "0fa0c4e8",
   "metadata": {},
   "source": [
    "Our aim is to build a simple neural network with one hidden layer and three neurons. For a moment, let's move away from NumPy to understand the architecture of the neural network we will be building from scratch.\n",
    "\n",
    "The following is a schematic diagram of a simple neural network architecture:"
   ]
  },
  {
   "attachments": {
    "image.png": {
     "image/png": "[encoded data removed]"
    }
   },
   "cell_type": "markdown",
   "id": "a1b95ed7",
   "metadata": {},
   "source": [
    "![image.png](attachment:image.png)"
   ]
  },
  {
   "cell_type": "markdown",
   "id": "75f403b6",
   "metadata": {},
   "source": [
    "There are two neurons in the input layer, three neurons in the hidden layer, and a single output neuron. The squares represent the bias. To implement the neural network, the independent variables and predictor have been stored in x and t:"
   ]
  },
  {
   "cell_type": "code",
   "execution_count": 157,
   "id": "296a8799",
   "metadata": {},
   "outputs": [
    {
     "name": "stdout",
     "output_type": "stream",
     "text": [
      "[[ 0.47266661  0.56079828]\n",
      " [ 0.87938926  0.60225714]\n",
      " [ 0.05409917  0.92867414]\n",
      " ...\n",
      " [-1.3585913  -1.32040834]\n",
      " [-0.81277616 -1.51825232]\n",
      " [-1.79616994 -3.26677192]]\n"
     ]
    }
   ],
   "source": [
    "x = train[:, 0:2]\n",
    "print(x)\n",
    "t = train[:, 2].reshape(2000, 1)"
   ]
  },
  {
   "cell_type": "code",
   "execution_count": 181,
   "id": "78cca38d",
   "metadata": {},
   "outputs": [],
   "source": [
    "def sigmoid(x, derive = False):\n",
    "    if (derive == True):\n",
    "        return x * (1 - x)\n",
    "    return 1 / (1 + np.exp(-x))"
   ]
  },
  {
   "cell_type": "markdown",
   "id": "0d270b68",
   "metadata": {},
   "source": [
    "The preceding function does the sigmoid transformation and also derivative computation (for backpropagation). The process of training consists of two modes of propagation—feedforward and backpropagation.\n",
    "\n",
    "The first stage of feedforward is from the input layer to the hidden layer. This stage can be summarized with the following set of equations:"
   ]
  },
  {
   "cell_type": "markdown",
   "id": "ab25df32",
   "metadata": {},
   "source": [
    "ah1 = sigmoid(x1*w_ih11 + x2*w_ih21 + 1* b_ih1)\n",
    "\n",
    "ah2 = sigmoid(x1*w_ih12 + x2*w_ih22 + 1*b_ih2)\n",
    "\n",
    "ah3 = sigmoid(x1*w_ih13 + x2*w_ih23 + 1*b_ih3)"
   ]
  },
  {
   "cell_type": "markdown",
   "id": "d877388b",
   "metadata": {},
   "source": [
    "Here, ah1, ah2, and ah3 are inputs to the next stage of the feedforward network, from the hidden layer to the output. This involves multiplying the input matrix of dimensions 2000 x 2 and weight matrix w_ih of dimensions 2 x 3 (three hidden neurons, hence 3), and then adding the bias. Instead of handling the bias components separately, they could be handled as part of the weight matrix. This can be done by adding a unit column vector to the input matrix and inserting the bias values as the last row of the weight matrix. Hence, the new dimensions of the input matrix and weight matrix would be 2000 x 3 and 3 x 3:"
   ]
  },
  {
   "cell_type": "code",
   "execution_count": 182,
   "id": "6e6c7692",
   "metadata": {},
   "outputs": [],
   "source": [
    "#The weight matrix is initialized with random values:\n",
    "x_in = np.concatenate([x, np.repeat([[1]], 2000, axis = 0)], axis = 1)\n",
    "w_ih = np.random.normal(size = (3, 3))"
   ]
  },
  {
   "cell_type": "code",
   "execution_count": 183,
   "id": "50d3faf0",
   "metadata": {},
   "outputs": [
    {
     "name": "stdout",
     "output_type": "stream",
     "text": [
      "[[ 0.36375139 -0.08174245 -1.82873064]\n",
      " [ 0.54136326  0.24413459 -1.80128481]\n",
      " [ 0.11670997 -0.08276082 -1.79679573]\n",
      " ...\n",
      " [-0.1707162  -2.92904249 -2.20070179]\n",
      " [ 0.10731026 -2.69815803 -2.2010269 ]\n",
      " [-0.06414385 -4.82845147 -2.50900255]]\n",
      "--------------------------------------------------\n",
      "[[0.58994824 0.47957576 0.13838956]\n",
      " [0.63212949 0.5607323  0.14169474]\n",
      " [0.52914442 0.4793216  0.14224157]\n",
      " ...\n",
      " [0.4574243  0.05073642 0.09968749]\n",
      " [0.52680185 0.06308213 0.09965831]\n",
      " [0.48396953 0.00793542 0.07522947]]\n"
     ]
    }
   ],
   "source": [
    "\n",
    "y_h = np.dot(x_in, w_ih)\n",
    "print(y_h)\n",
    "print('-'*50)\n",
    "a_h = sigmoid(y_h)\n",
    "print(a_h)"
   ]
  },
  {
   "cell_type": "code",
   "execution_count": null,
   "id": "acdc3f5f",
   "metadata": {},
   "outputs": [],
   "source": []
  },
  {
   "cell_type": "code",
   "execution_count": 184,
   "id": "7ad9f5df",
   "metadata": {},
   "outputs": [
    {
     "data": {
      "text/plain": [
       "array([[-1.30951935],\n",
       "       [-0.95401343],\n",
       "       [ 0.14811731],\n",
       "       [-0.29020848]])"
      ]
     },
     "execution_count": 184,
     "metadata": {},
     "output_type": "execute_result"
    }
   ],
   "source": [
    "a_hin = np.concatenate([a_h, np.repeat([[1]], 2000, axis = 0)], axis = 1)\n",
    "w_ho = np.random.normal(size = (4, 1))\n",
    "w_ho"
   ]
  },
  {
   "cell_type": "markdown",
   "id": "b1547c0c",
   "metadata": {},
   "source": [
    "Now the matrix multiplication and sigmoid transformation can be done for this stage:"
   ]
  },
  {
   "cell_type": "code",
   "execution_count": 185,
   "id": "20ddc0ab",
   "metadata": {},
   "outputs": [],
   "source": [
    "y_o = np.dot(a_hin, w_ho)\n",
    "a_o = sigmoid(y_o)"
   ]
  },
  {
   "cell_type": "code",
   "execution_count": 186,
   "id": "61424fa1",
   "metadata": {},
   "outputs": [],
   "source": [
    "# Output layer\n",
    "delta_a_o_error = a_o - t\n",
    "delta_y_o = sigmoid(a_o, derive=True)\n",
    "delta_w_ho = a_hin\n",
    "delta_output_layer = np.dot(delta_w_ho.T,(delta_a_o_error * delta_y_o))\n",
    "\n",
    "# Hidden layer\n",
    "delta_a_h = np.dot(delta_a_o_error * delta_y_o, w_ho[0:3,:].T)\n",
    "delta_y_h = sigmoid(a_h, derive=True)\n",
    "delta_w_ih = x_in\n",
    "delta_hidden_layer = np.dot(delta_w_ih.T, delta_a_h * delta_y_h)"
   ]
  },
  {
   "cell_type": "markdown",
   "id": "f1990627",
   "metadata": {},
   "source": [
    "The change to be made to the weight has been computed. Let's use these delta values to update the weights:"
   ]
  },
  {
   "cell_type": "code",
   "execution_count": 187,
   "id": "66981976",
   "metadata": {},
   "outputs": [],
   "source": [
    "eta = 0.1\n",
    "w_ih = w_ih - eta * delta_hidden_layer\n",
    "w_ho = w_ho - eta * delta_output_layer"
   ]
  },
  {
   "cell_type": "markdown",
   "id": "18483a9b",
   "metadata": {},
   "source": [
    "Here, eta is the learning rate of the model. Feedforward will take place again using the updated weights. Backpropagation will again follow to reduce the error. Hence, feedforward and backpropagation should take place iteratively for a set number of epochs. The complete code is as follows:"
   ]
  },
  {
   "cell_type": "code",
   "execution_count": 189,
   "id": "891d2b72",
   "metadata": {},
   "outputs": [
    {
     "name": "stdout",
     "output_type": "stream",
     "text": [
      "0.183904841565596\n",
      "0.2493061172257\n",
      "0.24883816603954106\n",
      "0.2475402986897844\n",
      "0.2413292525342937\n",
      "0.1291557901915279\n",
      "0.2389754632836524\n",
      "0.05738732835173803\n",
      "0.04821223050048435\n",
      "0.04743745722331914\n",
      "0.0468859752231239\n",
      "0.04632132389692259\n",
      "0.045668474006992935\n",
      "0.04494031234788589\n",
      "0.04426812561529192\n",
      "0.043720474565992165\n",
      "0.04324926858355627\n",
      "0.04282449677049515\n",
      "0.04242812948658468\n",
      "0.04206095514865746\n",
      "0.04173345971115678\n",
      "0.04146209638749092\n",
      "0.04130077101360433\n",
      "0.04150104964944119\n",
      "0.04387970266247815\n",
      "0.04432802252271486\n",
      "0.05379081356187707\n",
      "0.04369912431603805\n",
      "0.04199430907137102\n",
      "0.041370395791959065\n",
      "0.04085580667279685\n",
      "0.04043031619592779\n",
      "0.04008140465878328\n",
      "0.03979864878176605\n",
      "0.03957328864008619\n",
      "0.039419801745433955\n",
      "0.03950633692760425\n",
      "0.040664377165749596\n",
      "0.0482100618255656\n",
      "0.04405622264010854\n",
      "0.049880914844405884\n",
      "0.04108045855372588\n",
      "0.0403948499372309\n",
      "0.03978635908179419\n",
      "0.03928999409505506\n",
      "0.038922410705294744\n",
      "0.03867169236501448\n",
      "0.03850963411953415\n",
      "0.038413906309639284\n",
      "0.03840720939557697\n",
      "0.03878679439191045\n",
      "0.04126390370526132\n",
      "0.055625362036240696\n",
      "0.048178130919949484\n",
      "0.0474024431801781\n",
      "0.041584563692203744\n",
      "0.040799181069852225\n",
      "0.04014183864392552\n",
      "0.03954751322334054\n",
      "0.03904937562202461\n",
      "0.03866690990749673\n",
      "0.03840094882167426\n",
      "0.03823424577377267\n",
      "0.03813845482083096\n",
      "0.03808521944173734\n",
      "0.03805410090475368\n",
      "0.038033949330428786\n",
      "0.03802083600782104\n",
      "0.03802105712287024\n",
      "0.038083528206647115\n",
      "0.038486725702934904\n",
      "0.040892916845006455\n",
      "0.049673819480435644\n",
      "0.0736184072482953\n",
      "0.044414189416135966\n",
      "0.04372043380387084\n",
      "0.04307210146533986\n",
      "0.04244465396783614\n",
      "0.041829114653865476\n",
      "0.041226804084320307\n",
      "0.04064921142268143\n",
      "0.04011599078293104\n",
      "0.03964820467955677\n",
      "0.03926092348878858\n",
      "0.038958703617127756\n",
      "0.03873484857120973\n",
      "0.03857434982315998\n",
      "0.03845936660354177\n",
      "0.03837456300519558\n",
      "0.03830970705587009\n",
      "0.03825900502340335\n",
      "0.03821896397103521\n",
      "0.03818689092372127\n",
      "0.03816048772034776\n",
      "0.038137958100410214\n",
      "0.0381181653787822\n",
      "0.03810122324582862\n",
      "0.038091920033919306\n",
      "0.03812087019728635\n",
      "0.03836020043570601\n",
      "0.03984432866768779\n",
      "0.04605649891960998\n",
      "0.06701883103912502\n",
      "0.042254303162407664\n",
      "0.04120003184605808\n",
      "0.04059807358614333\n",
      "0.040071453813391444\n",
      "0.03960830793608632\n",
      "0.03922150270649135\n",
      "0.03891598498594543\n",
      "0.03868678344160476\n",
      "0.03852232230950796\n",
      "0.03841003746225627\n",
      "0.038347785155463214\n",
      "0.03838249690235802\n",
      "0.0387417916731598\n",
      "0.040732437606601585\n",
      "0.045959729660124266\n",
      "0.06189085681244692\n",
      "0.04086088929834917\n",
      "0.040271964366716304\n",
      "0.03977148156055993\n",
      "0.03935093825668142\n",
      "0.039013052966015024\n",
      "0.03875484561443929\n",
      "0.0385669885094223\n",
      "0.03843850265373183\n",
      "0.03836145684554919\n",
      "0.038345359146648106\n",
      "0.03846287738585758\n",
      "0.03910982545840785\n",
      "0.04136451280501724\n",
      "0.05013261695928791\n",
      "0.046453527898985394\n",
      "0.04851100188821131\n",
      "0.04044867785036419\n",
      "0.039755127452208015\n",
      "0.03927413099904077\n",
      "0.03893126469205412\n",
      "0.03868863059248312\n",
      "0.03854369467080338\n",
      "0.03850248537096822\n",
      "0.03866542672662761\n",
      "0.03929914884576455\n",
      "0.04181387888243197\n",
      "0.04569738914862933\n",
      "0.05517841711590509\n",
      "0.04152711442946354\n",
      "0.0402830295429019\n",
      "0.03957908185518121\n",
      "0.039156747820017886\n",
      "0.03884161820040797\n",
      "0.038632911538656875\n",
      "0.038525576635721405\n",
      "0.038578551784355125\n",
      "0.038938577407637696\n",
      "0.04049265658255461\n",
      "0.04358335171791566\n",
      "0.05292333570584394\n",
      "0.0427486699601082\n",
      "0.04131022743189884\n",
      "0.03973246098373197\n",
      "0.03926177178714468\n",
      "0.038925742647128996\n",
      "0.038780636799886796\n",
      "0.03879711021829493\n",
      "0.03930258912706931\n",
      "0.04047561200968953\n",
      "0.044886684523750914\n",
      "0.04529833697238943\n",
      "0.04908010995709113\n",
      "0.04097099875764553\n",
      "0.03989296618250353\n",
      "0.03928980702084897\n",
      "0.03891957447299177\n",
      "0.03866230034388872\n",
      "0.038518127375255416\n",
      "0.03850063262914833\n",
      "0.03876400561216834\n",
      "0.0396406388737761\n",
      "0.04311046362813067\n",
      "0.046432727656426906\n",
      "0.05413871070827325\n",
      "0.04144014567490311\n",
      "0.04025778366181749\n",
      "0.03968004755515085\n",
      "0.03923222263289446\n",
      "0.038875433808973556\n",
      "0.03860840307132781\n",
      "0.03842347929647326\n",
      "0.03830616397723923\n",
      "0.0382452105425818\n",
      "0.03824713486666933\n",
      "0.038391407768094944\n",
      "0.039105747424492326\n",
      "0.04149249941315223\n",
      "0.05066147038831879\n",
      "0.04722052697733403\n",
      "0.04642640432023215\n",
      "0.04050637169853448\n",
      "0.03986095591350892\n",
      "0.03938414384643971\n",
      "0.03899915951399801\n",
      "0.03870191058083137\n",
      "0.03848556190817942\n",
      "0.0383386597859501\n",
      "0.03824583803113103\n",
      "0.038197126257513564\n",
      "0.03819739724414581\n",
      "0.03831603765134685\n",
      "0.03890962823069886\n",
      "0.0410618342561497\n",
      "0.049555160001825714\n",
      "0.0492372803217653\n",
      "0.049013605067001066\n",
      "0.040977098216813786\n",
      "0.040355235885432356\n",
      "0.039839107352328415\n",
      "0.03939870052140287\n",
      "0.039040930767810386\n",
      "0.038763099236811344\n",
      "0.0385559243653579\n",
      "0.03840708732025453\n",
      "0.038303677182000916\n",
      "0.0382334046387205\n",
      "0.0381859340278949\n",
      "0.03815314889948095\n",
      "0.03813030745269196\n",
      "0.03811663967199081\n",
      "0.038123603193482986\n",
      "0.03821073851099437\n",
      "0.038635337801860056\n",
      "0.04065664963545805\n",
      "0.04647871928192531\n",
      "0.06188151976021151\n",
      "0.043166482314388605\n",
      "0.041316648708008004\n",
      "0.04070016936843912\n",
      "0.040159670580392985\n",
      "0.0396684079693615\n",
      "0.039244180344931254\n",
      "0.03889897822438011\n",
      "0.038634820563852125\n",
      "0.03844387487423039\n",
      "0.038312020123156515\n",
      "0.038223583055511524\n",
      "0.03816474089779646\n",
      "0.03812543762819874\n",
      "0.03810257315644492\n",
      "0.03811112263934845\n",
      "0.03825280478639677\n",
      "0.038985268589425345\n",
      "0.042823348988465286\n",
      "0.049572667833569\n",
      "0.06433719910204294\n",
      "0.042222784743281255\n",
      "0.041654660153479454\n",
      "0.04109798991271989\n",
      "0.04056189800861858\n",
      "0.040064492315982206\n",
      "0.03962068410680089\n",
      "0.03924027961129816\n",
      "0.03892752614233446\n",
      "0.03868171157909341\n",
      "0.038497999031241695\n",
      "0.03836790109270691\n",
      "0.03828012593724728\n",
      "0.03822252029603183\n",
      "0.03818432593566598\n",
      "0.038157523261251\n",
      "0.03813693928821078\n",
      "0.038119608443551736\n",
      "0.038103990545483954\n",
      "0.03808935635404933\n",
      "0.03807540385032712\n",
      "0.038062060130090954\n",
      "0.03804946173697695\n",
      "0.03803841394054078\n",
      "0.03803290523642579\n",
      "0.03805399358478806\n",
      "0.03820793618300536\n",
      "0.03907927839978096\n",
      "0.042793163819572246\n",
      "0.057607455266062764\n",
      "0.04754335402038284\n",
      "0.044228837406270906\n",
      "0.040644873362717986\n",
      "0.040103044964999494\n",
      "0.03961800428825836\n",
      "0.039190801644939904\n",
      "0.03883403473396575\n",
      "0.03855483166089417\n",
      "0.038352274434856316\n",
      "0.03821623356509197\n",
      "0.03813161290667336\n",
      "0.03808301062021412\n",
      "0.03806445374438857\n",
      "0.038102477119793504\n",
      "0.038356901581670176\n",
      "0.039712647911825646\n",
      "0.04449735228676208\n",
      "0.06091868540571121\n",
      "0.04419087685005128\n",
      "0.04152076933804195\n",
      "0.0403558846967995\n",
      "0.03983697750164718\n",
      "0.03938725994415112\n",
      "0.03900917500770178\n",
      "0.03871099705781185\n",
      "0.03848961913713593\n",
      "0.03833786881301645\n",
      "0.038252524197498625\n",
      "0.03826543154018189\n",
      "0.03861729833516777\n",
      "0.04010892885497695\n",
      "0.047229692449993026\n",
      "0.047769608218159065\n",
      "0.05306145237197615\n",
      "0.04103060944073541\n",
      "0.04027899027887\n",
      "0.039773860755882434\n",
      "0.03933286911919319\n",
      "0.03896126047906698\n",
      "0.03866440182482893\n",
      "0.03844158978621592\n",
      "0.03828501715383931\n",
      "0.03818270591449893\n",
      "0.038120082685657454\n",
      "0.03808829102098676\n",
      "0.03809547441774998\n",
      "0.03822137491644653\n",
      "0.03889897183677618\n",
      "0.04160691728092542\n",
      "0.052665626688096455\n",
      "0.04916393172549732\n",
      "0.047208345897338605\n",
      "0.04082333982553236\n",
      "0.04025666558978618\n",
      "0.03977552527513247\n",
      "0.03935370669916526\n",
      "0.03899952618831583\n",
      "0.03871531962050963\n",
      "0.03849787342296723\n",
      "0.03833967918221778\n",
      "0.03823047508146606\n",
      "0.038158181804317286\n",
      "0.03811168234598859\n",
      "0.03808207696727976\n",
      "0.038066941469128965\n",
      "0.0380792803233134\n",
      "0.03819678336719373\n",
      "0.03881921578770637\n",
      "0.04138006412920992\n",
      "0.051948070773738766\n",
      "0.050522892120465394\n",
      "0.048605623479288616\n",
      "0.04110190335317813\n",
      "0.040552558088493076\n",
      "0.04005847464324149\n",
      "0.03961992816711928\n",
      "0.03924790877067217\n",
      "0.03894480467180607\n",
      "0.03870612529986567\n",
      "0.03852351901961752\n",
      "0.03838725916261351\n",
      "0.03828766506015228\n",
      "0.0382158888572453\n",
      "0.03816427826644957\n",
      "0.03812674765082002\n",
      "0.038098704827237116\n",
      "0.038077153675669446\n",
      "0.038060441624107016\n",
      "0.03804977480552426\n",
      "0.03805573222518452\n",
      "0.038131984404083996\n",
      "0.03855131839472898\n",
      "0.04039766049333602\n",
      "0.04862001987011479\n",
      "0.052784766110769675\n",
      "0.05467337561379636\n",
      "0.04173044848477125\n",
      "0.04117488107140234\n",
      "0.04064213565893252\n",
      "0.040154327539789814\n",
      "0.03973149893671152\n",
      "0.039383419800524094\n",
      "0.03910852915660836\n",
      "0.038897155555636276\n",
      "0.038736117886637784\n",
      "0.03861232492784852\n",
      "0.03851478320603807\n",
      "0.038435338441592394\n",
      "0.03836857792863238\n",
      "0.03831126347789192\n",
      "0.038261603857939024\n",
      "0.038218604876349316\n",
      "0.03818159404501346\n",
      "0.03814996565833168\n",
      "0.03812306459843115\n",
      "0.03810021637590329\n",
      "0.03808074692147584\n",
      "0.0380641508225154\n",
      "0.038050322655180095\n",
      "0.03804105126304292\n",
      "0.0380464830135315\n",
      "0.038116507975266146\n",
      "0.03850496287475007\n",
      "0.040257686052170755\n",
      "0.04816231767307173\n",
      "0.05393364746499275\n",
      "0.05700524278373399\n",
      "0.041983225925464676\n",
      "0.04139226014668448\n",
      "0.04082872420776019\n",
      "0.0403083721396935\n",
      "0.03985602338872582\n",
      "0.03948549294090752\n",
      "0.039197428274854125\n",
      "0.03898196900853054\n",
      "0.03882388885487428\n",
      "0.03870732435751991\n",
      "0.0386186819686084\n",
      "0.0385477596919565\n",
      "0.03848768404037459\n",
      "0.03843426994596827\n",
      "0.03838524323406735\n",
      "0.0383395547201889\n",
      "0.03829687520918294\n",
      "0.0382572363218706\n",
      "0.038220815124621395\n",
      "0.038187762695256644\n",
      "0.038158178036890505\n",
      "0.03813203497765335\n",
      "0.03810952077330889\n",
      "0.03809167145263517\n",
      "0.03808462429170156\n",
      "0.0381170550118887\n",
      "0.03832071487337139\n",
      "0.039336016533257905\n",
      "0.043272754960899204\n",
      "0.05675975596488268\n",
      "0.04884857741955678\n",
      "0.045445541539171554\n",
      "0.0408596081636406\n",
      "0.04030760285377656\n",
      "0.03980362888903757\n",
      "0.03936191766600084\n",
      "0.03899267032821125\n",
      "0.03869995496301355\n",
      "0.038480966519972334\n",
      "0.03832643258914377\n",
      "0.03822292182934761\n",
      "0.03815608875485703\n",
      "0.03811329347676962\n",
      "0.038085267935068653\n",
      "0.0380663100238517\n",
      "0.03805568352374791\n",
      "0.038064393782537974\n",
      "0.03815242347874842\n",
      "0.03862433057120221\n",
      "0.04067715195779975\n",
      "0.04953352137668706\n",
      "0.05341658581327814\n",
      "0.054544023797906155\n",
      "0.04177666914504607\n",
      "0.04112943331367643\n",
      "0.04054875462648805\n",
      "0.04003146281530495\n",
      "0.03960003589660903\n",
      "0.03926111495906851\n",
      "0.03900729497212507\n",
      "0.03882285237762644\n",
      "0.03868976272940719\n",
      "0.03859181291575628\n",
      "0.03851644988554897\n",
      "0.03845501061768313\n",
      "0.038402100786237396\n",
      "0.03835468405614117\n",
      "0.03831125791730379\n",
      "0.038271193978717706\n",
      "0.038234348657649124\n",
      "0.038200735914038844\n",
      "0.038170538107078864\n",
      "0.03814404238767473\n",
      "0.03812291388165222\n",
      "0.03811376766523318\n",
      "0.03814720303437525\n",
      "0.03836131026897019\n",
      "0.03932611921147343\n",
      "0.043552537510599044\n",
      "0.052046280608292673\n",
      "0.06257273997653649\n",
      "0.04216766924599442\n",
      "0.041550030470358254\n",
      "0.04096435980329378\n",
      "0.04041144012292788\n",
      "0.039912349082129865\n",
      "0.0394825552681871\n",
      "0.03912877191117814\n",
      "0.03884942481620047\n"
     ]
    }
   ],
   "source": [
    "### Neural Network with one hidden layer with feedforward and backpropagation\n",
    "x = train[:,0:2]\n",
    "t = train[:,2].reshape(2000,1)\n",
    "x_in = np.concatenate([x, np.repeat([[1]], 2000, axis = 0)], axis = 1)\n",
    "w_ih = np.random.normal(size = (3, 3))\n",
    "w_ho = np.random.normal(size = (4, 1))\n",
    "def sigmoid(x, derive = False):\n",
    "    if (derive == True):\n",
    "        return x * (1 - x)\n",
    "    return 1 / (1 + np.exp(-x))\n",
    "epochs = 500\n",
    "eta = 0.1\n",
    "\n",
    "for epoch in range(epochs):\n",
    "# Feed forward\n",
    "    y_h = np.dot(x_in, w_ih)\n",
    "    a_h = sigmoid(y_h)\n",
    "    a_hin = np.concatenate([a_h, np.repeat([[1]], 2000, axis = 0)],     axis = 1)\n",
    "    y_o = np.dot(a_hin, w_ho)\n",
    "    a_o = sigmoid(y_o)\n",
    "\n",
    "    # Calculate the error\n",
    "    a_o_error = ((1 / 2) * (np.power((a_o - t), 2)))\n",
    "\n",
    "    # Backpropagation\n",
    "    ## Output layer\n",
    "    delta_a_o_error = a_o - t\n",
    "    delta_y_o = sigmoid(a_o, derive=True)\n",
    "    delta_w_ho = a_hin\n",
    "    delta_output_layer = np.dot(delta_w_ho.T,(delta_a_o_error * delta_y_o))\n",
    "\n",
    "    ## Hidden layer\n",
    "    delta_a_h = np.dot(delta_a_o_error * delta_y_o, w_ho[0:3,:].T)\n",
    "    delta_y_h = sigmoid(a_h, derive=True)\n",
    "    delta_w_ih = x_in\n",
    "    delta_hidden_layer = np.dot(delta_w_ih.T, delta_a_h * delta_y_h)\n",
    "    w_ih = w_ih - eta * delta_hidden_layer\n",
    "    w_ho = w_ho - eta * delta_output_layer\n",
    "    print(a_o_error.mean())"
   ]
  },
  {
   "cell_type": "markdown",
   "id": "42bb10df",
   "metadata": {},
   "source": [
    "The neural network has been implemented for 500 epochs. This is a simple yet efficient model quite suitable for a range of problems. Good accuracy can be obtained by choosing the right epoch, learning rate, loss function, and activation function. To test and validate, make use of just the feedforward module."
   ]
  },
  {
   "cell_type": "markdown",
   "id": "4e5de3c8",
   "metadata": {},
   "source": [
    "# Data structures in pandas"
   ]
  },
  {
   "cell_type": "markdown",
   "id": "b8312453",
   "metadata": {},
   "source": [
    "\n",
    "## Series\n",
    "\n",
    "A Series is really a 1D NumPy array under the hood. It consists of a NumPy array coupled with an array of labels. Just like a NumPy array, a series can be wholly composed of any data type. The labels are together called the index of the series. A series consists of two components—1D data and the index.\n"
   ]
  },
  {
   "cell_type": "markdown",
   "id": "f4231ce7",
   "metadata": {},
   "source": [
    "The general construct for creating a series data structure is as follows:\n",
    "\n",
    "import pandas as pd\n",
    "ser = pd.Series(data, index = idx)\n",
    "\n",
    "Here, data can be one of the following:\n",
    "\n",
    "    An ndarray\n",
    "    A Python dictionary\n",
    "    A scalar value\n"
   ]
  },
  {
   "cell_type": "code",
   "execution_count": 191,
   "id": "0bcf7401",
   "metadata": {},
   "outputs": [
    {
     "data": {
      "text/plain": [
       "0    0.354696\n",
       "1    1.720727\n",
       "2   -0.876338\n",
       "3    1.375861\n",
       "4    0.933529\n",
       "5    0.941816\n",
       "6    0.575559\n",
       "dtype: float64"
      ]
     },
     "execution_count": 191,
     "metadata": {},
     "output_type": "execute_result"
    }
   ],
   "source": [
    "ser = pd.Series(np.random.randn(7))\n",
    "ser"
   ]
  },
  {
   "cell_type": "markdown",
   "id": "793d3530",
   "metadata": {},
   "source": [
    "The following example creates a Series structure of the first five months of the year with a specified index of month names:"
   ]
  },
  {
   "cell_type": "code",
   "execution_count": 192,
   "id": "8ac0701a",
   "metadata": {},
   "outputs": [
    {
     "name": "stdout",
     "output_type": "stream",
     "text": [
      "January     1\n",
      "February    2\n",
      "March       3\n",
      "April       4\n",
      "May         5\n",
      "dtype: int32\n",
      "----------------------------------------\n",
      "Index(['January', 'February', 'March', 'April', 'May'], dtype='object')\n"
     ]
    }
   ],
   "source": [
    "import calendar as cal\n",
    "monthNames=[cal.month_name[i] for i in np.arange(1,6)]\n",
    "months = pd.Series(np.arange(1,6), index = monthNames)\n",
    "print(months)\n",
    "print(\"-\"*40)\n",
    "print(months.index)"
   ]
  },
  {
   "cell_type": "code",
   "execution_count": null,
   "id": "5733bdb7",
   "metadata": {},
   "outputs": [],
   "source": []
  },
  {
   "cell_type": "markdown",
   "id": "fa28aaa8",
   "metadata": {},
   "source": [
    "\n",
    "## Using a Python dictionary\n",
    "\n",
    "A dictionary consists of key-value pairs. When a dictionary is used to create a Series, the keys form the index, and the values form the 1D data of the Series:"
   ]
  },
  {
   "cell_type": "code",
   "execution_count": 193,
   "id": "e9e240df",
   "metadata": {},
   "outputs": [
    {
     "name": "stdout",
     "output_type": "stream",
     "text": [
      "US         dollar\n",
      "UK          pound\n",
      "Germany      euro\n",
      "Mexico       peso\n",
      "Nigeria     naira\n",
      "China        yuan\n",
      "Japan         yen\n",
      "dtype: object\n"
     ]
    }
   ],
   "source": [
    "currDict={'US' : 'dollar', 'UK' : 'pound', 'Germany': 'euro', 'Mexico':'peso', 'Nigeria':'naira', 'China':'yuan', 'Japan':'yen'}\n",
    "currSeries = pd.Series(currDict)\n",
    "print(currSeries)"
   ]
  },
  {
   "cell_type": "code",
   "execution_count": null,
   "id": "c3cf2a06",
   "metadata": {},
   "outputs": [],
   "source": []
  },
  {
   "cell_type": "markdown",
   "id": "ffef171b",
   "metadata": {},
   "source": [
    "The index of a pandas Series structure is of type pandas.core.index.Index and can be viewed as an ordered multiset.\n",
    "\n",
    "If an index is also specified when creating the Series, then this specified index setting overrides the dictionary keys. If the specified index contains values that are not keys in the original dictionary, NaN is appended against that index in the Series:"
   ]
  },
  {
   "cell_type": "code",
   "execution_count": 195,
   "id": "c39b49e4",
   "metadata": {},
   "outputs": [
    {
     "data": {
      "text/plain": [
       "GOOG    1180.97\n",
       "FB        62.57\n",
       "YHOO        NaN\n",
       "TWTR      64.50\n",
       "AMZN     358.69\n",
       "AAPL     500.60\n",
       "Name: stockPrices, dtype: float64"
      ]
     },
     "execution_count": 195,
     "metadata": {},
     "output_type": "execute_result"
    }
   ],
   "source": [
    "stockPrices = {'GOOG':1180.97, 'FB':62.57, 'TWTR': 64.50, 'AMZN':358.69, 'AAPL':500.6}\n",
    "# \"YHOO\" is not a key in the above dictionary\n",
    "stockPriceSeries = pd.Series(stockPrices, index=['GOOG','FB','YHOO','TWTR','AMZN','AAPL'], name='stockPrices')\n",
    "stockPriceSeries\n",
    "# Note: The name attribute is useful in tasks such as combining Series objects into a DataFrame structure."
   ]
  },
  {
   "cell_type": "code",
   "execution_count": null,
   "id": "d152f377",
   "metadata": {},
   "outputs": [],
   "source": []
  },
  {
   "cell_type": "markdown",
   "id": "3cb36d29",
   "metadata": {},
   "source": [
    "\n",
    "## Using a scalar value\n",
    "\n",
    "A Series can also be initialized with just a scalar value. For scalar data, an index must be provided. "
   ]
  },
  {
   "cell_type": "code",
   "execution_count": 197,
   "id": "7e243f5a",
   "metadata": {},
   "outputs": [
    {
     "data": {
      "text/plain": [
       "breed              chihuahua\n",
       "countryOfOrigin    chihuahua\n",
       "name               chihuahua\n",
       "gender             chihuahua\n",
       "dtype: object"
      ]
     },
     "execution_count": 197,
     "metadata": {},
     "output_type": "execute_result"
    }
   ],
   "source": [
    "dogSeries=pd.Series('chihuahua', index=['breed', 'countryOfOrigin', 'name', 'gender'])\n",
    "dogSeries = pd.Series('chihuahua', index=['breed', 'countryOfOrigin', 'name', 'gender'])\n",
    "dogSeries"
   ]
  },
  {
   "cell_type": "code",
   "execution_count": null,
   "id": "6ce21a4b",
   "metadata": {},
   "outputs": [],
   "source": []
  },
  {
   "cell_type": "markdown",
   "id": "ef25dc6d",
   "metadata": {},
   "source": [
    "\n",
    "## Operations on Series\n",
    "\n",
    "The behavior of a Series is very similar to that of NumPy arrays, discussed previously in this chapter, with one caveat being that an operation such as slicing also slices the index of the series.\n"
   ]
  },
  {
   "cell_type": "code",
   "execution_count": 198,
   "id": "5697632d",
   "metadata": {},
   "outputs": [
    {
     "data": {
      "text/plain": [
       "'yuan'"
      ]
     },
     "execution_count": 198,
     "metadata": {},
     "output_type": "execute_result"
    }
   ],
   "source": [
    "# Accessing value from series using index label\n",
    "currDict['China']"
   ]
  },
  {
   "cell_type": "code",
   "execution_count": 199,
   "id": "c65bf581",
   "metadata": {},
   "outputs": [
    {
     "data": {
      "text/plain": [
       "GOOG    1200.00\n",
       "FB        62.57\n",
       "YHOO        NaN\n",
       "TWTR      64.50\n",
       "AMZN     358.69\n",
       "AAPL     500.60\n",
       "Name: stockPrices, dtype: float64"
      ]
     },
     "execution_count": 199,
     "metadata": {},
     "output_type": "execute_result"
    }
   ],
   "source": [
    "# Assigning value to series through a new index label\n",
    "stockPriceSeries['GOOG'] = 1200.0\n",
    "stockPriceSeries"
   ]
  },
  {
   "cell_type": "markdown",
   "id": "6c63783a",
   "metadata": {},
   "source": [
    "Just as in the case of dict, KeyError is raised if you try to retrieve a missing label:"
   ]
  },
  {
   "cell_type": "code",
   "execution_count": 200,
   "id": "7c4f2f68",
   "metadata": {},
   "outputs": [
    {
     "ename": "KeyError",
     "evalue": "'MSFT'",
     "output_type": "error",
     "traceback": [
      "\u001b[1;31m---------------------------------------------------------------------------\u001b[0m",
      "\u001b[1;31mKeyError\u001b[0m                                  Traceback (most recent call last)",
      "File \u001b[1;32m~\\AppData\\Roaming\\Python\\Python39\\site-packages\\pandas\\core\\indexes\\base.py:3621\u001b[0m, in \u001b[0;36mIndex.get_loc\u001b[1;34m(self, key, method, tolerance)\u001b[0m\n\u001b[0;32m   3620\u001b[0m \u001b[38;5;28;01mtry\u001b[39;00m:\n\u001b[1;32m-> 3621\u001b[0m     \u001b[38;5;28;01mreturn\u001b[39;00m \u001b[38;5;28;43mself\u001b[39;49m\u001b[38;5;241;43m.\u001b[39;49m\u001b[43m_engine\u001b[49m\u001b[38;5;241;43m.\u001b[39;49m\u001b[43mget_loc\u001b[49m\u001b[43m(\u001b[49m\u001b[43mcasted_key\u001b[49m\u001b[43m)\u001b[49m\n\u001b[0;32m   3622\u001b[0m \u001b[38;5;28;01mexcept\u001b[39;00m \u001b[38;5;167;01mKeyError\u001b[39;00m \u001b[38;5;28;01mas\u001b[39;00m err:\n",
      "File \u001b[1;32m~\\AppData\\Roaming\\Python\\Python39\\site-packages\\pandas\\_libs\\index.pyx:136\u001b[0m, in \u001b[0;36mpandas._libs.index.IndexEngine.get_loc\u001b[1;34m()\u001b[0m\n",
      "File \u001b[1;32m~\\AppData\\Roaming\\Python\\Python39\\site-packages\\pandas\\_libs\\index.pyx:163\u001b[0m, in \u001b[0;36mpandas._libs.index.IndexEngine.get_loc\u001b[1;34m()\u001b[0m\n",
      "File \u001b[1;32mpandas\\_libs\\hashtable_class_helper.pxi:5198\u001b[0m, in \u001b[0;36mpandas._libs.hashtable.PyObjectHashTable.get_item\u001b[1;34m()\u001b[0m\n",
      "File \u001b[1;32mpandas\\_libs\\hashtable_class_helper.pxi:5206\u001b[0m, in \u001b[0;36mpandas._libs.hashtable.PyObjectHashTable.get_item\u001b[1;34m()\u001b[0m\n",
      "\u001b[1;31mKeyError\u001b[0m: 'MSFT'",
      "\nThe above exception was the direct cause of the following exception:\n",
      "\u001b[1;31mKeyError\u001b[0m                                  Traceback (most recent call last)",
      "Input \u001b[1;32mIn [200]\u001b[0m, in \u001b[0;36m<cell line: 1>\u001b[1;34m()\u001b[0m\n\u001b[1;32m----> 1\u001b[0m \u001b[43mstockPriceSeries\u001b[49m\u001b[43m[\u001b[49m\u001b[38;5;124;43m'\u001b[39;49m\u001b[38;5;124;43mMSFT\u001b[39;49m\u001b[38;5;124;43m'\u001b[39;49m\u001b[43m]\u001b[49m\n",
      "File \u001b[1;32m~\\AppData\\Roaming\\Python\\Python39\\site-packages\\pandas\\core\\series.py:958\u001b[0m, in \u001b[0;36mSeries.__getitem__\u001b[1;34m(self, key)\u001b[0m\n\u001b[0;32m    955\u001b[0m     \u001b[38;5;28;01mreturn\u001b[39;00m \u001b[38;5;28mself\u001b[39m\u001b[38;5;241m.\u001b[39m_values[key]\n\u001b[0;32m    957\u001b[0m \u001b[38;5;28;01melif\u001b[39;00m key_is_scalar:\n\u001b[1;32m--> 958\u001b[0m     \u001b[38;5;28;01mreturn\u001b[39;00m \u001b[38;5;28;43mself\u001b[39;49m\u001b[38;5;241;43m.\u001b[39;49m\u001b[43m_get_value\u001b[49m\u001b[43m(\u001b[49m\u001b[43mkey\u001b[49m\u001b[43m)\u001b[49m\n\u001b[0;32m    960\u001b[0m \u001b[38;5;28;01mif\u001b[39;00m is_hashable(key):\n\u001b[0;32m    961\u001b[0m     \u001b[38;5;66;03m# Otherwise index.get_value will raise InvalidIndexError\u001b[39;00m\n\u001b[0;32m    962\u001b[0m     \u001b[38;5;28;01mtry\u001b[39;00m:\n\u001b[0;32m    963\u001b[0m         \u001b[38;5;66;03m# For labels that don't resolve as scalars like tuples and frozensets\u001b[39;00m\n",
      "File \u001b[1;32m~\\AppData\\Roaming\\Python\\Python39\\site-packages\\pandas\\core\\series.py:1069\u001b[0m, in \u001b[0;36mSeries._get_value\u001b[1;34m(self, label, takeable)\u001b[0m\n\u001b[0;32m   1066\u001b[0m     \u001b[38;5;28;01mreturn\u001b[39;00m \u001b[38;5;28mself\u001b[39m\u001b[38;5;241m.\u001b[39m_values[label]\n\u001b[0;32m   1068\u001b[0m \u001b[38;5;66;03m# Similar to Index.get_value, but we do not fall back to positional\u001b[39;00m\n\u001b[1;32m-> 1069\u001b[0m loc \u001b[38;5;241m=\u001b[39m \u001b[38;5;28;43mself\u001b[39;49m\u001b[38;5;241;43m.\u001b[39;49m\u001b[43mindex\u001b[49m\u001b[38;5;241;43m.\u001b[39;49m\u001b[43mget_loc\u001b[49m\u001b[43m(\u001b[49m\u001b[43mlabel\u001b[49m\u001b[43m)\u001b[49m\n\u001b[0;32m   1070\u001b[0m \u001b[38;5;28;01mreturn\u001b[39;00m \u001b[38;5;28mself\u001b[39m\u001b[38;5;241m.\u001b[39mindex\u001b[38;5;241m.\u001b[39m_get_values_for_loc(\u001b[38;5;28mself\u001b[39m, loc, label)\n",
      "File \u001b[1;32m~\\AppData\\Roaming\\Python\\Python39\\site-packages\\pandas\\core\\indexes\\base.py:3623\u001b[0m, in \u001b[0;36mIndex.get_loc\u001b[1;34m(self, key, method, tolerance)\u001b[0m\n\u001b[0;32m   3621\u001b[0m     \u001b[38;5;28;01mreturn\u001b[39;00m \u001b[38;5;28mself\u001b[39m\u001b[38;5;241m.\u001b[39m_engine\u001b[38;5;241m.\u001b[39mget_loc(casted_key)\n\u001b[0;32m   3622\u001b[0m \u001b[38;5;28;01mexcept\u001b[39;00m \u001b[38;5;167;01mKeyError\u001b[39;00m \u001b[38;5;28;01mas\u001b[39;00m err:\n\u001b[1;32m-> 3623\u001b[0m     \u001b[38;5;28;01mraise\u001b[39;00m \u001b[38;5;167;01mKeyError\u001b[39;00m(key) \u001b[38;5;28;01mfrom\u001b[39;00m \u001b[38;5;21;01merr\u001b[39;00m\n\u001b[0;32m   3624\u001b[0m \u001b[38;5;28;01mexcept\u001b[39;00m \u001b[38;5;167;01mTypeError\u001b[39;00m:\n\u001b[0;32m   3625\u001b[0m     \u001b[38;5;66;03m# If we have a listlike key, _check_indexing_error will raise\u001b[39;00m\n\u001b[0;32m   3626\u001b[0m     \u001b[38;5;66;03m#  InvalidIndexError. Otherwise we fall through and re-raise\u001b[39;00m\n\u001b[0;32m   3627\u001b[0m     \u001b[38;5;66;03m#  the TypeError.\u001b[39;00m\n\u001b[0;32m   3628\u001b[0m     \u001b[38;5;28mself\u001b[39m\u001b[38;5;241m.\u001b[39m_check_indexing_error(key)\n",
      "\u001b[1;31mKeyError\u001b[0m: 'MSFT'"
     ]
    }
   ],
   "source": [
    "stockPriceSeries['MSFT']"
   ]
  },
  {
   "cell_type": "code",
   "execution_count": 202,
   "id": "050bc00c",
   "metadata": {},
   "outputs": [
    {
     "data": {
      "text/plain": [
       "nan"
      ]
     },
     "execution_count": 202,
     "metadata": {},
     "output_type": "execute_result"
    }
   ],
   "source": [
    "#This error can be avoided by explicitly using get as follows:\n",
    "stockPriceSeries.get('MSFT', np.NaN)"
   ]
  },
  {
   "cell_type": "code",
   "execution_count": 203,
   "id": "0682951b",
   "metadata": {},
   "outputs": [
    {
     "name": "stdout",
     "output_type": "stream",
     "text": [
      "GOOG    1200.00\n",
      "FB        62.57\n",
      "YHOO        NaN\n",
      "TWTR      64.50\n",
      "Name: stockPrices, dtype: float64\n",
      "----------------------------------------\n",
      "GOOG    1200.00\n",
      "AMZN     358.69\n",
      "AAPL     500.60\n",
      "Name: stockPrices, dtype: float64\n"
     ]
    }
   ],
   "source": [
    "# Slice till the 4th index (0 to 3)\n",
    "print(stockPriceSeries[:4])\n",
    "print(\"-\"*40)\n",
    "print(stockPriceSeries[stockPriceSeries > 100])"
   ]
  },
  {
   "cell_type": "code",
   "execution_count": 204,
   "id": "1b2ea507",
   "metadata": {},
   "outputs": [
    {
     "name": "stdout",
     "output_type": "stream",
     "text": [
      "437.27200000000005\n",
      "----------------------------------------\n",
      "417.4446361087899\n"
     ]
    }
   ],
   "source": [
    "# Mean of entire series\n",
    "print(np.mean(stockPriceSeries))\n",
    "print(\"-\"*40)\n",
    "# Standard deviation of entire series\n",
    "print(np.std(stockPriceSeries))"
   ]
  },
  {
   "cell_type": "markdown",
   "id": "9a08502d",
   "metadata": {},
   "source": [
    "Elementwise operations can also be performed on a Series:"
   ]
  },
  {
   "cell_type": "code",
   "execution_count": 205,
   "id": "2a05892f",
   "metadata": {},
   "outputs": [
    {
     "data": {
      "text/plain": [
       "0    0.125809\n",
       "1    2.960900\n",
       "2    0.767969\n",
       "3    1.892993\n",
       "4    0.871476\n",
       "5    0.887018\n",
       "6    0.331268\n",
       "dtype: float64"
      ]
     },
     "execution_count": 205,
     "metadata": {},
     "output_type": "execute_result"
    }
   ],
   "source": [
    "ser * ser"
   ]
  },
  {
   "cell_type": "markdown",
   "id": "7bee0ff9",
   "metadata": {},
   "source": [
    "An important feature of a Series is that data is automatically aligned based on the label:"
   ]
  },
  {
   "cell_type": "code",
   "execution_count": 207,
   "id": "2ffa7c81",
   "metadata": {},
   "outputs": [
    {
     "name": "stdout",
     "output_type": "stream",
     "text": [
      "1    1.720727\n",
      "2   -0.876338\n",
      "3    1.375861\n",
      "4    0.933529\n",
      "5    0.941816\n",
      "6    0.575559\n",
      "dtype: float64\n",
      "----------------------------------------\n",
      "0         NaN\n",
      "1    3.441453\n",
      "2   -1.752677\n",
      "3    2.751721\n",
      "4    1.867057\n",
      "5         NaN\n",
      "6         NaN\n",
      "dtype: float64\n"
     ]
    }
   ],
   "source": [
    "print(ser[1:])\n",
    "print(\"-\"*40)\n",
    "print(ser[1:] + ser[:-2])"
   ]
  },
  {
   "cell_type": "code",
   "execution_count": null,
   "id": "00d40375",
   "metadata": {},
   "outputs": [],
   "source": []
  },
  {
   "cell_type": "markdown",
   "id": "fceac055",
   "metadata": {},
   "source": [
    "\n",
    "## DataFrames\n",
    "\n",
    "A DataFrame is a two-dimensional data structure composed of rows and columns—exactly like a simple spreadsheet or a SQL table. Each column of a DataFrame is a pandas Series. These columns should be of the same length, but they can be of different data types—float, int, bool, and so on. DataFrames are both value-mutable and size-mutable. This lets us perform operations that would alter values held within the DataFrame or add/delete columns to/from the DataFrame.\n",
    "\n",
    "Similar to a Series, which has a name and index as attributes, a DataFrame has column names and a row index. The row index can be made of either numerical values or strings such as month names. Indexes are needed for fast lookups as well as proper aligning and joining of data in pandas multilevel indexing is also possible in DataFrames. "
   ]
  },
  {
   "cell_type": "markdown",
   "id": "b1e7d46c",
   "metadata": {},
   "source": [
    "\n",
    "## DataFrame creation\n",
    "\n",
    "A DataFrame is the most commonly used data structure in pandas. The constructor accepts many different types of arguments:\n",
    "\n",
    "    Dictionary of 1D ndarrays, lists, dictionaries, or Series structures\n",
    "    2D NumPy array\n",
    "    Structured or record ndarray\n",
    "    Series\n",
    "    Another DataFrame\n",
    "\n",
    "Row label indexes and column labels can be specified along with the data. If they're not specified, they will be generated from the input data in an intuitive fashion, for example, from the keys of dict (in the case of column labels) or by using np.range(n) in the case of row labels, where n corresponds to the number of rows.\n",
    "\n",
    "A DataFrame can be created from a variety of sources as discussed in the following subsections.\n"
   ]
  },
  {
   "cell_type": "markdown",
   "id": "d3a5f44e",
   "metadata": {},
   "source": [
    "## Using a dictionary of Series\n",
    "Each individual entity of a dictionary is a key-value pair. A DataFrame is, in essence, a dictionary of several Series put together. The name of the Series corresponds to the key, and the contents of the Series correspond to the value.\n",
    "\n",
    "As the first step, the dictionary with all the Series should be defined:"
   ]
  },
  {
   "cell_type": "code",
   "execution_count": 208,
   "id": "36d7d8bd",
   "metadata": {},
   "outputs": [],
   "source": [
    "stockSummaries = {\n",
    "'AMZN': pd.Series([346.15,0.59,459,0.52,589.8,158.88],\n",
    "index=['Closing price','EPS',\n",
    "'Shares Outstanding(M)',\n",
    "'Beta', 'P/E','Market Cap(B)']),\n",
    "'GOOG': pd.Series([1133.43,36.05,335.83,0.87,31.44,380.64],\n",
    "index=['Closing price','EPS','Shares Outstanding(M)',\n",
    "'Beta','P/E','Market Cap(B)']),\n",
    "'FB': pd.Series([61.48,0.59,2450,104.93,150.92],\n",
    "index=['Closing price','EPS','Shares Outstanding(M)',\n",
    "'P/E', 'Market Cap(B)']),\n",
    "'YHOO': pd.Series([34.90,1.27,1010,27.48,0.66,35.36],\n",
    "index=['Closing price','EPS','Shares Outstanding(M)',\n",
    "'P/E','Beta', 'Market Cap(B)']),\n",
    "'TWTR':pd.Series([65.25,-0.3,555.2,36.23],\n",
    "index=['Closing price','EPS','Shares Outstanding(M)',\n",
    "'Market Cap(B)']),\n",
    "'AAPL':pd.Series([501.53,40.32,892.45,12.44,447.59,0.84],\n",
    "index=['Closing price','EPS','Shares Outstanding(M)','P/E',\n",
    "'Market Cap(B)','Beta'])}"
   ]
  },
  {
   "cell_type": "markdown",
   "id": "95a92c38",
   "metadata": {},
   "source": [
    "The preceding dictionary summarizes the performance of six different stocks and indicates that the DataFrame will have six columns. Observe that each series has a different set of indices and is of different length. The final DataFrame will contain a unique set of the values in each of the indices. If a certain column has no value at a row index, NA is appended to that cell automatically. Now, the following step wraps up this dictionary into a DataFrame:"
   ]
  },
  {
   "cell_type": "code",
   "execution_count": 210,
   "id": "a4544331",
   "metadata": {},
   "outputs": [
    {
     "data": {
      "text/html": [
       "<div>\n",
       "<style scoped>\n",
       "    .dataframe tbody tr th:only-of-type {\n",
       "        vertical-align: middle;\n",
       "    }\n",
       "\n",
       "    .dataframe tbody tr th {\n",
       "        vertical-align: top;\n",
       "    }\n",
       "\n",
       "    .dataframe thead th {\n",
       "        text-align: right;\n",
       "    }\n",
       "</style>\n",
       "<table border=\"1\" class=\"dataframe\">\n",
       "  <thead>\n",
       "    <tr style=\"text-align: right;\">\n",
       "      <th></th>\n",
       "      <th>AMZN</th>\n",
       "      <th>GOOG</th>\n",
       "      <th>FB</th>\n",
       "      <th>YHOO</th>\n",
       "      <th>TWTR</th>\n",
       "      <th>AAPL</th>\n",
       "    </tr>\n",
       "  </thead>\n",
       "  <tbody>\n",
       "    <tr>\n",
       "      <th>Beta</th>\n",
       "      <td>0.52</td>\n",
       "      <td>0.87</td>\n",
       "      <td>NaN</td>\n",
       "      <td>0.66</td>\n",
       "      <td>NaN</td>\n",
       "      <td>0.84</td>\n",
       "    </tr>\n",
       "    <tr>\n",
       "      <th>Closing price</th>\n",
       "      <td>346.15</td>\n",
       "      <td>1133.43</td>\n",
       "      <td>61.48</td>\n",
       "      <td>34.90</td>\n",
       "      <td>65.25</td>\n",
       "      <td>501.53</td>\n",
       "    </tr>\n",
       "    <tr>\n",
       "      <th>EPS</th>\n",
       "      <td>0.59</td>\n",
       "      <td>36.05</td>\n",
       "      <td>0.59</td>\n",
       "      <td>1.27</td>\n",
       "      <td>-0.30</td>\n",
       "      <td>40.32</td>\n",
       "    </tr>\n",
       "    <tr>\n",
       "      <th>Market Cap(B)</th>\n",
       "      <td>158.88</td>\n",
       "      <td>380.64</td>\n",
       "      <td>150.92</td>\n",
       "      <td>35.36</td>\n",
       "      <td>36.23</td>\n",
       "      <td>447.59</td>\n",
       "    </tr>\n",
       "    <tr>\n",
       "      <th>P/E</th>\n",
       "      <td>589.80</td>\n",
       "      <td>31.44</td>\n",
       "      <td>104.93</td>\n",
       "      <td>27.48</td>\n",
       "      <td>NaN</td>\n",
       "      <td>12.44</td>\n",
       "    </tr>\n",
       "    <tr>\n",
       "      <th>Shares Outstanding(M)</th>\n",
       "      <td>459.00</td>\n",
       "      <td>335.83</td>\n",
       "      <td>2450.00</td>\n",
       "      <td>1010.00</td>\n",
       "      <td>555.20</td>\n",
       "      <td>892.45</td>\n",
       "    </tr>\n",
       "  </tbody>\n",
       "</table>\n",
       "</div>"
      ],
      "text/plain": [
       "                         AMZN     GOOG       FB     YHOO    TWTR    AAPL\n",
       "Beta                     0.52     0.87      NaN     0.66     NaN    0.84\n",
       "Closing price          346.15  1133.43    61.48    34.90   65.25  501.53\n",
       "EPS                      0.59    36.05     0.59     1.27   -0.30   40.32\n",
       "Market Cap(B)          158.88   380.64   150.92    35.36   36.23  447.59\n",
       "P/E                    589.80    31.44   104.93    27.48     NaN   12.44\n",
       "Shares Outstanding(M)  459.00   335.83  2450.00  1010.00  555.20  892.45"
      ]
     },
     "execution_count": 210,
     "metadata": {},
     "output_type": "execute_result"
    }
   ],
   "source": [
    "stockDF = pd.DataFrame(stockSummaries)\n",
    "stockDF"
   ]
  },
  {
   "cell_type": "code",
   "execution_count": 213,
   "id": "680e4a1c",
   "metadata": {},
   "outputs": [
    {
     "name": "stdout",
     "output_type": "stream",
     "text": [
      "                            FB    TWTR SCNW\n",
      "Closing price            61.48   65.25  NaN\n",
      "EPS                       0.59   -0.30  NaN\n",
      "Shares Outstanding(M)  2450.00  555.20  NaN\n",
      "P/E                     104.93     NaN  NaN\n",
      "Market Cap(B)           150.92   36.23  NaN\n",
      "Beta                       NaN     NaN  NaN\n"
     ]
    }
   ],
   "source": [
    "# The DataFrame need not necessarily have all the row and column labels from the original dictionary. \n",
    "# At times, only a subset of these rows and columns may be needed.\n",
    "\n",
    "stockDF = pd.DataFrame(stockSummaries,\n",
    "index=['Closing price','EPS',\n",
    "'Shares Outstanding(M)',\n",
    "'P/E', 'Market Cap(B)','Beta'],\n",
    "columns=['FB','TWTR','SCNW'])\n",
    "\n",
    "print(stockDF)"
   ]
  },
  {
   "cell_type": "markdown",
   "id": "e55e02df",
   "metadata": {},
   "source": [
    "### The row index and column names can be accessed as attributes of the DataFrame:"
   ]
  },
  {
   "cell_type": "code",
   "execution_count": 214,
   "id": "1c6dfc4d",
   "metadata": {},
   "outputs": [
    {
     "data": {
      "text/plain": [
       "Index(['Closing price', 'EPS', 'Shares Outstanding(M)', 'P/E', 'Market Cap(B)',\n",
       "       'Beta'],\n",
       "      dtype='object')"
      ]
     },
     "execution_count": 214,
     "metadata": {},
     "output_type": "execute_result"
    }
   ],
   "source": [
    "stockDF.index"
   ]
  },
  {
   "cell_type": "code",
   "execution_count": 215,
   "id": "d567c71a",
   "metadata": {},
   "outputs": [
    {
     "data": {
      "text/plain": [
       "Index(['FB', 'TWTR', 'SCNW'], dtype='object')"
      ]
     },
     "execution_count": 215,
     "metadata": {},
     "output_type": "execute_result"
    }
   ],
   "source": [
    "stockDF.columns"
   ]
  },
  {
   "cell_type": "markdown",
   "id": "f1202bd8",
   "metadata": {},
   "source": [
    "## Using a dictionary of ndarrays/lists"
   ]
  },
  {
   "cell_type": "code",
   "execution_count": 218,
   "id": "dca7de52",
   "metadata": {},
   "outputs": [],
   "source": [
    "# The dictionary of lists is defined in the following code:\n",
    "\n",
    "algos = {'search': ['DFS','BFS','Binary Search',\n",
    "'Linear','ShortestPath (Djikstra)'],\n",
    "'sorting': ['Quicksort','Mergesort', 'Heapsort',\n",
    "'Bubble Sort', 'Insertion Sort'],\n",
    "'machine learning': ['RandomForest', 'K Nearest Neighbor',\n",
    "'Logistic Regression', 'K-Means Clustering', 'Linear Regression']}"
   ]
  },
  {
   "cell_type": "markdown",
   "id": "2b152e5b",
   "metadata": {},
   "source": [
    "Now, let's convert this dictionary to a DataFrame and print it:"
   ]
  },
  {
   "cell_type": "code",
   "execution_count": 220,
   "id": "824a00ba",
   "metadata": {},
   "outputs": [
    {
     "data": {
      "text/html": [
       "<div>\n",
       "<style scoped>\n",
       "    .dataframe tbody tr th:only-of-type {\n",
       "        vertical-align: middle;\n",
       "    }\n",
       "\n",
       "    .dataframe tbody tr th {\n",
       "        vertical-align: top;\n",
       "    }\n",
       "\n",
       "    .dataframe thead th {\n",
       "        text-align: right;\n",
       "    }\n",
       "</style>\n",
       "<table border=\"1\" class=\"dataframe\">\n",
       "  <thead>\n",
       "    <tr style=\"text-align: right;\">\n",
       "      <th></th>\n",
       "      <th>search</th>\n",
       "      <th>sorting</th>\n",
       "      <th>machine learning</th>\n",
       "    </tr>\n",
       "  </thead>\n",
       "  <tbody>\n",
       "    <tr>\n",
       "      <th>0</th>\n",
       "      <td>DFS</td>\n",
       "      <td>Quicksort</td>\n",
       "      <td>RandomForest</td>\n",
       "    </tr>\n",
       "    <tr>\n",
       "      <th>1</th>\n",
       "      <td>BFS</td>\n",
       "      <td>Mergesort</td>\n",
       "      <td>K Nearest Neighbor</td>\n",
       "    </tr>\n",
       "    <tr>\n",
       "      <th>2</th>\n",
       "      <td>Binary Search</td>\n",
       "      <td>Heapsort</td>\n",
       "      <td>Logistic Regression</td>\n",
       "    </tr>\n",
       "    <tr>\n",
       "      <th>3</th>\n",
       "      <td>Linear</td>\n",
       "      <td>Bubble Sort</td>\n",
       "      <td>K-Means Clustering</td>\n",
       "    </tr>\n",
       "    <tr>\n",
       "      <th>4</th>\n",
       "      <td>ShortestPath (Djikstra)</td>\n",
       "      <td>Insertion Sort</td>\n",
       "      <td>Linear Regression</td>\n",
       "    </tr>\n",
       "  </tbody>\n",
       "</table>\n",
       "</div>"
      ],
      "text/plain": [
       "                    search         sorting     machine learning\n",
       "0                      DFS       Quicksort         RandomForest\n",
       "1                      BFS       Mergesort   K Nearest Neighbor\n",
       "2            Binary Search        Heapsort  Logistic Regression\n",
       "3                   Linear     Bubble Sort   K-Means Clustering\n",
       "4  ShortestPath (Djikstra)  Insertion Sort    Linear Regression"
      ]
     },
     "execution_count": 220,
     "metadata": {},
     "output_type": "execute_result"
    }
   ],
   "source": [
    "algoDF = pd.DataFrame(algos)\n",
    "algoDF"
   ]
  },
  {
   "cell_type": "code",
   "execution_count": 221,
   "id": "e0d1dd90",
   "metadata": {},
   "outputs": [
    {
     "data": {
      "text/html": [
       "<div>\n",
       "<style scoped>\n",
       "    .dataframe tbody tr th:only-of-type {\n",
       "        vertical-align: middle;\n",
       "    }\n",
       "\n",
       "    .dataframe tbody tr th {\n",
       "        vertical-align: top;\n",
       "    }\n",
       "\n",
       "    .dataframe thead th {\n",
       "        text-align: right;\n",
       "    }\n",
       "</style>\n",
       "<table border=\"1\" class=\"dataframe\">\n",
       "  <thead>\n",
       "    <tr style=\"text-align: right;\">\n",
       "      <th></th>\n",
       "      <th>search</th>\n",
       "      <th>sorting</th>\n",
       "      <th>machine learning</th>\n",
       "    </tr>\n",
       "  </thead>\n",
       "  <tbody>\n",
       "    <tr>\n",
       "      <th>algo_1</th>\n",
       "      <td>DFS</td>\n",
       "      <td>Quicksort</td>\n",
       "      <td>RandomForest</td>\n",
       "    </tr>\n",
       "    <tr>\n",
       "      <th>algo_2</th>\n",
       "      <td>BFS</td>\n",
       "      <td>Mergesort</td>\n",
       "      <td>K Nearest Neighbor</td>\n",
       "    </tr>\n",
       "    <tr>\n",
       "      <th>algo_3</th>\n",
       "      <td>Binary Search</td>\n",
       "      <td>Heapsort</td>\n",
       "      <td>Logistic Regression</td>\n",
       "    </tr>\n",
       "    <tr>\n",
       "      <th>algo_4</th>\n",
       "      <td>Linear</td>\n",
       "      <td>Bubble Sort</td>\n",
       "      <td>K-Means Clustering</td>\n",
       "    </tr>\n",
       "    <tr>\n",
       "      <th>algo_5</th>\n",
       "      <td>ShortestPath (Djikstra)</td>\n",
       "      <td>Insertion Sort</td>\n",
       "      <td>Linear Regression</td>\n",
       "    </tr>\n",
       "  </tbody>\n",
       "</table>\n",
       "</div>"
      ],
      "text/plain": [
       "                         search         sorting     machine learning\n",
       "algo_1                      DFS       Quicksort         RandomForest\n",
       "algo_2                      BFS       Mergesort   K Nearest Neighbor\n",
       "algo_3            Binary Search        Heapsort  Logistic Regression\n",
       "algo_4                   Linear     Bubble Sort   K-Means Clustering\n",
       "algo_5  ShortestPath (Djikstra)  Insertion Sort    Linear Regression"
      ]
     },
     "execution_count": 221,
     "metadata": {},
     "output_type": "execute_result"
    }
   ],
   "source": [
    "pd.DataFrame(algos,index=['algo_1','algo_2','algo_3','algo_4','algo_5'])"
   ]
  },
  {
   "cell_type": "code",
   "execution_count": null,
   "id": "7cdd24de",
   "metadata": {},
   "outputs": [],
   "source": []
  },
  {
   "cell_type": "markdown",
   "id": "43d03610",
   "metadata": {},
   "source": [
    "\n",
    "### Using a structured array\n",
    "\n",
    "Structured arrays are slightly different from ndarrays. Each field in a structured array can be of a different data type. For more information on structured arrays, refer to the following: http://docs.scipy.org/doc/numpy/user/basics.rec.html.\n",
    "\n",
    "The following is an example of a structured array:"
   ]
  },
  {
   "cell_type": "code",
   "execution_count": 223,
   "id": "8f8d1547",
   "metadata": {},
   "outputs": [
    {
     "data": {
      "text/plain": [
       "array([(b'Sanjeev', 37, 162.4), (b'Yingluck', 45, 137.8),\n",
       "       (b'Emeka', 28, 153.2), (b'Amy', 67, 101.3)],\n",
       "      dtype=[('Name', 'S15'), ('Age', '<i4'), ('Weight', '<f4')])"
      ]
     },
     "execution_count": 223,
     "metadata": {},
     "output_type": "execute_result"
    }
   ],
   "source": [
    "memberData = np.array([('Sanjeev',37,162.4),\n",
    "('Yingluck',45,137.8),\n",
    "('Emeka',28,153.2),\n",
    "('Amy',67,101.3)],\n",
    "dtype = [('Name','a15'),\n",
    "('Age','i4'),\n",
    "('Weight','f4')])\n",
    "memberData"
   ]
  },
  {
   "cell_type": "code",
   "execution_count": 224,
   "id": "08c98a88",
   "metadata": {},
   "outputs": [
    {
     "data": {
      "text/html": [
       "<div>\n",
       "<style scoped>\n",
       "    .dataframe tbody tr th:only-of-type {\n",
       "        vertical-align: middle;\n",
       "    }\n",
       "\n",
       "    .dataframe tbody tr th {\n",
       "        vertical-align: top;\n",
       "    }\n",
       "\n",
       "    .dataframe thead th {\n",
       "        text-align: right;\n",
       "    }\n",
       "</style>\n",
       "<table border=\"1\" class=\"dataframe\">\n",
       "  <thead>\n",
       "    <tr style=\"text-align: right;\">\n",
       "      <th></th>\n",
       "      <th>Name</th>\n",
       "      <th>Age</th>\n",
       "      <th>Weight</th>\n",
       "    </tr>\n",
       "  </thead>\n",
       "  <tbody>\n",
       "    <tr>\n",
       "      <th>0</th>\n",
       "      <td>b'Sanjeev'</td>\n",
       "      <td>37</td>\n",
       "      <td>162.399994</td>\n",
       "    </tr>\n",
       "    <tr>\n",
       "      <th>1</th>\n",
       "      <td>b'Yingluck'</td>\n",
       "      <td>45</td>\n",
       "      <td>137.800003</td>\n",
       "    </tr>\n",
       "    <tr>\n",
       "      <th>2</th>\n",
       "      <td>b'Emeka'</td>\n",
       "      <td>28</td>\n",
       "      <td>153.199997</td>\n",
       "    </tr>\n",
       "    <tr>\n",
       "      <th>3</th>\n",
       "      <td>b'Amy'</td>\n",
       "      <td>67</td>\n",
       "      <td>101.300003</td>\n",
       "    </tr>\n",
       "  </tbody>\n",
       "</table>\n",
       "</div>"
      ],
      "text/plain": [
       "          Name  Age      Weight\n",
       "0   b'Sanjeev'   37  162.399994\n",
       "1  b'Yingluck'   45  137.800003\n",
       "2     b'Emeka'   28  153.199997\n",
       "3       b'Amy'   67  101.300003"
      ]
     },
     "execution_count": 224,
     "metadata": {},
     "output_type": "execute_result"
    }
   ],
   "source": [
    "memberDF = pd.DataFrame(memberData)\n",
    "memberDF"
   ]
  },
  {
   "cell_type": "code",
   "execution_count": 225,
   "id": "ea346995",
   "metadata": {},
   "outputs": [
    {
     "data": {
      "text/html": [
       "<div>\n",
       "<style scoped>\n",
       "    .dataframe tbody tr th:only-of-type {\n",
       "        vertical-align: middle;\n",
       "    }\n",
       "\n",
       "    .dataframe tbody tr th {\n",
       "        vertical-align: top;\n",
       "    }\n",
       "\n",
       "    .dataframe thead th {\n",
       "        text-align: right;\n",
       "    }\n",
       "</style>\n",
       "<table border=\"1\" class=\"dataframe\">\n",
       "  <thead>\n",
       "    <tr style=\"text-align: right;\">\n",
       "      <th></th>\n",
       "      <th>Name</th>\n",
       "      <th>Age</th>\n",
       "      <th>Weight</th>\n",
       "    </tr>\n",
       "  </thead>\n",
       "  <tbody>\n",
       "    <tr>\n",
       "      <th>a</th>\n",
       "      <td>b'Sanjeev'</td>\n",
       "      <td>37</td>\n",
       "      <td>162.399994</td>\n",
       "    </tr>\n",
       "    <tr>\n",
       "      <th>b</th>\n",
       "      <td>b'Yingluck'</td>\n",
       "      <td>45</td>\n",
       "      <td>137.800003</td>\n",
       "    </tr>\n",
       "    <tr>\n",
       "      <th>c</th>\n",
       "      <td>b'Emeka'</td>\n",
       "      <td>28</td>\n",
       "      <td>153.199997</td>\n",
       "    </tr>\n",
       "    <tr>\n",
       "      <th>d</th>\n",
       "      <td>b'Amy'</td>\n",
       "      <td>67</td>\n",
       "      <td>101.300003</td>\n",
       "    </tr>\n",
       "  </tbody>\n",
       "</table>\n",
       "</div>"
      ],
      "text/plain": [
       "          Name  Age      Weight\n",
       "a   b'Sanjeev'   37  162.399994\n",
       "b  b'Yingluck'   45  137.800003\n",
       "c     b'Emeka'   28  153.199997\n",
       "d       b'Amy'   67  101.300003"
      ]
     },
     "execution_count": 225,
     "metadata": {},
     "output_type": "execute_result"
    }
   ],
   "source": [
    "pd.DataFrame(memberData, index=['a','b','c','d'])"
   ]
  },
  {
   "cell_type": "code",
   "execution_count": 226,
   "id": "14bcdd5e",
   "metadata": {},
   "outputs": [
    {
     "data": {
      "text/html": [
       "<div>\n",
       "<style scoped>\n",
       "    .dataframe tbody tr th:only-of-type {\n",
       "        vertical-align: middle;\n",
       "    }\n",
       "\n",
       "    .dataframe tbody tr th {\n",
       "        vertical-align: top;\n",
       "    }\n",
       "\n",
       "    .dataframe thead th {\n",
       "        text-align: right;\n",
       "    }\n",
       "</style>\n",
       "<table border=\"1\" class=\"dataframe\">\n",
       "  <thead>\n",
       "    <tr style=\"text-align: right;\">\n",
       "      <th></th>\n",
       "      <th>Weight</th>\n",
       "      <th>Name</th>\n",
       "      <th>Age</th>\n",
       "    </tr>\n",
       "  </thead>\n",
       "  <tbody>\n",
       "    <tr>\n",
       "      <th>0</th>\n",
       "      <td>162.399994</td>\n",
       "      <td>b'Sanjeev'</td>\n",
       "      <td>37</td>\n",
       "    </tr>\n",
       "    <tr>\n",
       "      <th>1</th>\n",
       "      <td>137.800003</td>\n",
       "      <td>b'Yingluck'</td>\n",
       "      <td>45</td>\n",
       "    </tr>\n",
       "    <tr>\n",
       "      <th>2</th>\n",
       "      <td>153.199997</td>\n",
       "      <td>b'Emeka'</td>\n",
       "      <td>28</td>\n",
       "    </tr>\n",
       "    <tr>\n",
       "      <th>3</th>\n",
       "      <td>101.300003</td>\n",
       "      <td>b'Amy'</td>\n",
       "      <td>67</td>\n",
       "    </tr>\n",
       "  </tbody>\n",
       "</table>\n",
       "</div>"
      ],
      "text/plain": [
       "       Weight         Name  Age\n",
       "0  162.399994   b'Sanjeev'   37\n",
       "1  137.800003  b'Yingluck'   45\n",
       "2  153.199997     b'Emeka'   28\n",
       "3  101.300003       b'Amy'   67"
      ]
     },
     "execution_count": 226,
     "metadata": {},
     "output_type": "execute_result"
    }
   ],
   "source": [
    "pd.DataFrame(memberData, columns = [\"Weight\", \"Name\", \"Age\"])"
   ]
  },
  {
   "cell_type": "code",
   "execution_count": null,
   "id": "c0049799",
   "metadata": {},
   "outputs": [],
   "source": []
  },
  {
   "cell_type": "markdown",
   "id": "b57ec9f5",
   "metadata": {},
   "source": [
    "\n",
    "### Using a list of dictionaries\n",
    "\n",
    "When a list of dictionaries is converted to a DataFrame, each dictionary in the list corresponds to a row in the DataFrame and each key in each dictionary represents a column label.\n",
    "\n",
    "Let's define a list of dictionaries:"
   ]
  },
  {
   "cell_type": "code",
   "execution_count": 227,
   "id": "8b1bfe32",
   "metadata": {},
   "outputs": [],
   "source": [
    "demographicData = [{\"Age\": 32, \"Gender\": \"Male\"}, {\"Race\": \"Hispanic\", \"Gender\": \"Female\", \"Age\": 26}]"
   ]
  },
  {
   "cell_type": "code",
   "execution_count": 229,
   "id": "53cca341",
   "metadata": {},
   "outputs": [
    {
     "data": {
      "text/html": [
       "<div>\n",
       "<style scoped>\n",
       "    .dataframe tbody tr th:only-of-type {\n",
       "        vertical-align: middle;\n",
       "    }\n",
       "\n",
       "    .dataframe tbody tr th {\n",
       "        vertical-align: top;\n",
       "    }\n",
       "\n",
       "    .dataframe thead th {\n",
       "        text-align: right;\n",
       "    }\n",
       "</style>\n",
       "<table border=\"1\" class=\"dataframe\">\n",
       "  <thead>\n",
       "    <tr style=\"text-align: right;\">\n",
       "      <th></th>\n",
       "      <th>Age</th>\n",
       "      <th>Gender</th>\n",
       "      <th>Race</th>\n",
       "    </tr>\n",
       "  </thead>\n",
       "  <tbody>\n",
       "    <tr>\n",
       "      <th>0</th>\n",
       "      <td>32</td>\n",
       "      <td>Male</td>\n",
       "      <td>NaN</td>\n",
       "    </tr>\n",
       "    <tr>\n",
       "      <th>1</th>\n",
       "      <td>26</td>\n",
       "      <td>Female</td>\n",
       "      <td>Hispanic</td>\n",
       "    </tr>\n",
       "  </tbody>\n",
       "</table>\n",
       "</div>"
      ],
      "text/plain": [
       "   Age  Gender      Race\n",
       "0   32    Male       NaN\n",
       "1   26  Female  Hispanic"
      ]
     },
     "execution_count": 229,
     "metadata": {},
     "output_type": "execute_result"
    }
   ],
   "source": [
    "demographicDF = pd.DataFrame(demographicData)\n",
    "demographicDF"
   ]
  },
  {
   "cell_type": "code",
   "execution_count": null,
   "id": "6c5de240",
   "metadata": {},
   "outputs": [],
   "source": []
  },
  {
   "cell_type": "markdown",
   "id": "d978c8bb",
   "metadata": {},
   "source": [
    "\n",
    "## Using a dictionary of tuples for multilevel indexing\n",
    "\n",
    "A dictionary of tuples can create a structured DataFrame with hierarchically indexed rows and columns. The following is a dictionary of tuples:"
   ]
  },
  {
   "cell_type": "code",
   "execution_count": 233,
   "id": "72ee94f0",
   "metadata": {},
   "outputs": [],
   "source": [
    "salesData = {(\"2012\", \"Q1\"): {(\"North\", \"Brand A\"): 100, (\"North\", \"Brand B\"): 80,\n",
    "                              (\"South\", \"Brand A\"): 25, (\"South\", \"Brand B\"): 40},\n",
    "(\"2012\", \"Q2\"): {(\"North\", \"Brand A\"): 30, (\"South\", \"Brand B\"): 50},\n",
    "(\"2013\", \"Q1\"): {(\"North\", \"Brand A\"): 80, (\"North\", \"Brand B\"): 10, (\"South\", \"Brand B\"): 25},\n",
    "(\"2013\", \"Q2\"): {(\"North\", \"Brand A\"): 70, (\"North\", \"Brand B\"): 50, (\"South\", \"Brand A\"): 35, (\"South\", \"Brand B\"): 40}}"
   ]
  },
  {
   "cell_type": "markdown",
   "id": "dfc76b63",
   "metadata": {},
   "source": [
    "Instead of a regular key-value pair, the key is a tuple with two values denoting two levels in the row index, and the value is a dictionary in which each key-value pair represents a column. Here, again, the key is a tuple and denotes two column indices.\n",
    "\n",
    "Now this dictionary of tuples can be converted to a DataFrame and printed:"
   ]
  },
  {
   "cell_type": "code",
   "execution_count": 234,
   "id": "a7d308dd",
   "metadata": {},
   "outputs": [
    {
     "data": {
      "text/html": [
       "<div>\n",
       "<style scoped>\n",
       "    .dataframe tbody tr th:only-of-type {\n",
       "        vertical-align: middle;\n",
       "    }\n",
       "\n",
       "    .dataframe tbody tr th {\n",
       "        vertical-align: top;\n",
       "    }\n",
       "\n",
       "    .dataframe thead tr th {\n",
       "        text-align: left;\n",
       "    }\n",
       "</style>\n",
       "<table border=\"1\" class=\"dataframe\">\n",
       "  <thead>\n",
       "    <tr>\n",
       "      <th></th>\n",
       "      <th></th>\n",
       "      <th colspan=\"2\" halign=\"left\">2012</th>\n",
       "      <th colspan=\"2\" halign=\"left\">2013</th>\n",
       "    </tr>\n",
       "    <tr>\n",
       "      <th></th>\n",
       "      <th></th>\n",
       "      <th>Q1</th>\n",
       "      <th>Q2</th>\n",
       "      <th>Q1</th>\n",
       "      <th>Q2</th>\n",
       "    </tr>\n",
       "  </thead>\n",
       "  <tbody>\n",
       "    <tr>\n",
       "      <th rowspan=\"2\" valign=\"top\">North</th>\n",
       "      <th>Brand A</th>\n",
       "      <td>100</td>\n",
       "      <td>30.0</td>\n",
       "      <td>80.0</td>\n",
       "      <td>70</td>\n",
       "    </tr>\n",
       "    <tr>\n",
       "      <th>Brand B</th>\n",
       "      <td>80</td>\n",
       "      <td>NaN</td>\n",
       "      <td>10.0</td>\n",
       "      <td>50</td>\n",
       "    </tr>\n",
       "    <tr>\n",
       "      <th rowspan=\"2\" valign=\"top\">South</th>\n",
       "      <th>Brand A</th>\n",
       "      <td>25</td>\n",
       "      <td>NaN</td>\n",
       "      <td>NaN</td>\n",
       "      <td>35</td>\n",
       "    </tr>\n",
       "    <tr>\n",
       "      <th>Brand B</th>\n",
       "      <td>40</td>\n",
       "      <td>50.0</td>\n",
       "      <td>25.0</td>\n",
       "      <td>40</td>\n",
       "    </tr>\n",
       "  </tbody>\n",
       "</table>\n",
       "</div>"
      ],
      "text/plain": [
       "              2012        2013    \n",
       "                Q1    Q2    Q1  Q2\n",
       "North Brand A  100  30.0  80.0  70\n",
       "      Brand B   80   NaN  10.0  50\n",
       "South Brand A   25   NaN   NaN  35\n",
       "      Brand B   40  50.0  25.0  40"
      ]
     },
     "execution_count": 234,
     "metadata": {},
     "output_type": "execute_result"
    }
   ],
   "source": [
    "salesDF = pd.DataFrame(salesData)\n",
    "salesDF"
   ]
  },
  {
   "cell_type": "markdown",
   "id": "fa8d3479",
   "metadata": {},
   "source": [
    "## Using a Series"
   ]
  },
  {
   "cell_type": "code",
   "execution_count": 235,
   "id": "e1074c27",
   "metadata": {},
   "outputs": [],
   "source": [
    "currDict={'US' : 'dollar', 'UK' : 'pound', 'Germany': 'euro', 'Mexico':'peso',\n",
    "          'Nigeria':'naira', 'China':'yuan', 'Japan':'yen'}\n",
    "currSeries = pd.Series(currDict)"
   ]
  },
  {
   "cell_type": "code",
   "execution_count": 236,
   "id": "225d6b0a",
   "metadata": {},
   "outputs": [
    {
     "data": {
      "text/html": [
       "<div>\n",
       "<style scoped>\n",
       "    .dataframe tbody tr th:only-of-type {\n",
       "        vertical-align: middle;\n",
       "    }\n",
       "\n",
       "    .dataframe tbody tr th {\n",
       "        vertical-align: top;\n",
       "    }\n",
       "\n",
       "    .dataframe thead th {\n",
       "        text-align: right;\n",
       "    }\n",
       "</style>\n",
       "<table border=\"1\" class=\"dataframe\">\n",
       "  <thead>\n",
       "    <tr style=\"text-align: right;\">\n",
       "      <th></th>\n",
       "      <th>0</th>\n",
       "    </tr>\n",
       "  </thead>\n",
       "  <tbody>\n",
       "    <tr>\n",
       "      <th>US</th>\n",
       "      <td>dollar</td>\n",
       "    </tr>\n",
       "    <tr>\n",
       "      <th>UK</th>\n",
       "      <td>pound</td>\n",
       "    </tr>\n",
       "    <tr>\n",
       "      <th>Germany</th>\n",
       "      <td>euro</td>\n",
       "    </tr>\n",
       "    <tr>\n",
       "      <th>Mexico</th>\n",
       "      <td>peso</td>\n",
       "    </tr>\n",
       "    <tr>\n",
       "      <th>Nigeria</th>\n",
       "      <td>naira</td>\n",
       "    </tr>\n",
       "    <tr>\n",
       "      <th>China</th>\n",
       "      <td>yuan</td>\n",
       "    </tr>\n",
       "    <tr>\n",
       "      <th>Japan</th>\n",
       "      <td>yen</td>\n",
       "    </tr>\n",
       "  </tbody>\n",
       "</table>\n",
       "</div>"
      ],
      "text/plain": [
       "              0\n",
       "US       dollar\n",
       "UK        pound\n",
       "Germany    euro\n",
       "Mexico     peso\n",
       "Nigeria   naira\n",
       "China      yuan\n",
       "Japan       yen"
      ]
     },
     "execution_count": 236,
     "metadata": {},
     "output_type": "execute_result"
    }
   ],
   "source": [
    "currDF = pd.DataFrame(currSeries)\n",
    "currDF"
   ]
  },
  {
   "cell_type": "code",
   "execution_count": 237,
   "id": "542c2d66",
   "metadata": {},
   "outputs": [
    {
     "data": {
      "text/html": [
       "<div>\n",
       "<style scoped>\n",
       "    .dataframe tbody tr th:only-of-type {\n",
       "        vertical-align: middle;\n",
       "    }\n",
       "\n",
       "    .dataframe tbody tr th {\n",
       "        vertical-align: top;\n",
       "    }\n",
       "\n",
       "    .dataframe thead th {\n",
       "        text-align: right;\n",
       "    }\n",
       "</style>\n",
       "<table border=\"1\" class=\"dataframe\">\n",
       "  <thead>\n",
       "    <tr style=\"text-align: right;\">\n",
       "      <th></th>\n",
       "      <th>search</th>\n",
       "      <th>sorting</th>\n",
       "      <th>machine learning</th>\n",
       "    </tr>\n",
       "  </thead>\n",
       "  <tbody>\n",
       "    <tr>\n",
       "      <th>0</th>\n",
       "      <td>DFS</td>\n",
       "      <td>Quicksort</td>\n",
       "      <td>RandomForest</td>\n",
       "    </tr>\n",
       "    <tr>\n",
       "      <th>1</th>\n",
       "      <td>BFS</td>\n",
       "      <td>Mergesort</td>\n",
       "      <td>K Nearest Neighbor</td>\n",
       "    </tr>\n",
       "    <tr>\n",
       "      <th>2</th>\n",
       "      <td>Binary Search</td>\n",
       "      <td>Heapsort</td>\n",
       "      <td>Logistic Regression</td>\n",
       "    </tr>\n",
       "    <tr>\n",
       "      <th>3</th>\n",
       "      <td>Linear</td>\n",
       "      <td>Bubble Sort</td>\n",
       "      <td>K-Means Clustering</td>\n",
       "    </tr>\n",
       "    <tr>\n",
       "      <th>4</th>\n",
       "      <td>ShortestPath (Djikstra)</td>\n",
       "      <td>Insertion Sort</td>\n",
       "      <td>Linear Regression</td>\n",
       "    </tr>\n",
       "  </tbody>\n",
       "</table>\n",
       "</div>"
      ],
      "text/plain": [
       "                    search         sorting     machine learning\n",
       "0                      DFS       Quicksort         RandomForest\n",
       "1                      BFS       Mergesort   K Nearest Neighbor\n",
       "2            Binary Search        Heapsort  Logistic Regression\n",
       "3                   Linear     Bubble Sort   K-Means Clustering\n",
       "4  ShortestPath (Djikstra)  Insertion Sort    Linear Regression"
      ]
     },
     "execution_count": 237,
     "metadata": {},
     "output_type": "execute_result"
    }
   ],
   "source": [
    "# Default setting\n",
    "pd.DataFrame.from_dict(algos, orient = \"columns\")"
   ]
  },
  {
   "cell_type": "code",
   "execution_count": 238,
   "id": "aeb309ba",
   "metadata": {},
   "outputs": [
    {
     "data": {
      "text/html": [
       "<div>\n",
       "<style scoped>\n",
       "    .dataframe tbody tr th:only-of-type {\n",
       "        vertical-align: middle;\n",
       "    }\n",
       "\n",
       "    .dataframe tbody tr th {\n",
       "        vertical-align: top;\n",
       "    }\n",
       "\n",
       "    .dataframe thead th {\n",
       "        text-align: right;\n",
       "    }\n",
       "</style>\n",
       "<table border=\"1\" class=\"dataframe\">\n",
       "  <thead>\n",
       "    <tr style=\"text-align: right;\">\n",
       "      <th></th>\n",
       "      <th>A</th>\n",
       "      <th>B</th>\n",
       "      <th>C</th>\n",
       "      <th>D</th>\n",
       "      <th>E</th>\n",
       "    </tr>\n",
       "  </thead>\n",
       "  <tbody>\n",
       "    <tr>\n",
       "      <th>search</th>\n",
       "      <td>DFS</td>\n",
       "      <td>BFS</td>\n",
       "      <td>Binary Search</td>\n",
       "      <td>Linear</td>\n",
       "      <td>ShortestPath (Djikstra)</td>\n",
       "    </tr>\n",
       "    <tr>\n",
       "      <th>sorting</th>\n",
       "      <td>Quicksort</td>\n",
       "      <td>Mergesort</td>\n",
       "      <td>Heapsort</td>\n",
       "      <td>Bubble Sort</td>\n",
       "      <td>Insertion Sort</td>\n",
       "    </tr>\n",
       "    <tr>\n",
       "      <th>machine learning</th>\n",
       "      <td>RandomForest</td>\n",
       "      <td>K Nearest Neighbor</td>\n",
       "      <td>Logistic Regression</td>\n",
       "      <td>K-Means Clustering</td>\n",
       "      <td>Linear Regression</td>\n",
       "    </tr>\n",
       "  </tbody>\n",
       "</table>\n",
       "</div>"
      ],
      "text/plain": [
       "                             A                   B                    C  \\\n",
       "search                     DFS                 BFS        Binary Search   \n",
       "sorting              Quicksort           Mergesort             Heapsort   \n",
       "machine learning  RandomForest  K Nearest Neighbor  Logistic Regression   \n",
       "\n",
       "                                   D                        E  \n",
       "search                        Linear  ShortestPath (Djikstra)  \n",
       "sorting                  Bubble Sort           Insertion Sort  \n",
       "machine learning  K-Means Clustering        Linear Regression  "
      ]
     },
     "execution_count": 238,
     "metadata": {},
     "output_type": "execute_result"
    }
   ],
   "source": [
    "pd.DataFrame.from_dict(algos, orient = \"index\", columns = [\"A\", \"B\", \"C\", \"D\", \"E\"])"
   ]
  },
  {
   "cell_type": "code",
   "execution_count": 239,
   "id": "65cad233",
   "metadata": {},
   "outputs": [
    {
     "data": {
      "text/html": [
       "<div>\n",
       "<style scoped>\n",
       "    .dataframe tbody tr th:only-of-type {\n",
       "        vertical-align: middle;\n",
       "    }\n",
       "\n",
       "    .dataframe tbody tr th {\n",
       "        vertical-align: top;\n",
       "    }\n",
       "\n",
       "    .dataframe thead th {\n",
       "        text-align: right;\n",
       "    }\n",
       "</style>\n",
       "<table border=\"1\" class=\"dataframe\">\n",
       "  <thead>\n",
       "    <tr style=\"text-align: right;\">\n",
       "      <th></th>\n",
       "      <th>Age</th>\n",
       "      <th>Weight</th>\n",
       "    </tr>\n",
       "    <tr>\n",
       "      <th>Name</th>\n",
       "      <th></th>\n",
       "      <th></th>\n",
       "    </tr>\n",
       "  </thead>\n",
       "  <tbody>\n",
       "    <tr>\n",
       "      <th>b'Sanjeev'</th>\n",
       "      <td>37</td>\n",
       "      <td>162.399994</td>\n",
       "    </tr>\n",
       "    <tr>\n",
       "      <th>b'Yingluck'</th>\n",
       "      <td>45</td>\n",
       "      <td>137.800003</td>\n",
       "    </tr>\n",
       "    <tr>\n",
       "      <th>b'Emeka'</th>\n",
       "      <td>28</td>\n",
       "      <td>153.199997</td>\n",
       "    </tr>\n",
       "    <tr>\n",
       "      <th>b'Amy'</th>\n",
       "      <td>67</td>\n",
       "      <td>101.300003</td>\n",
       "    </tr>\n",
       "  </tbody>\n",
       "</table>\n",
       "</div>"
      ],
      "text/plain": [
       "             Age      Weight\n",
       "Name                        \n",
       "b'Sanjeev'    37  162.399994\n",
       "b'Yingluck'   45  137.800003\n",
       "b'Emeka'      28  153.199997\n",
       "b'Amy'        67  101.300003"
      ]
     },
     "execution_count": 239,
     "metadata": {},
     "output_type": "execute_result"
    }
   ],
   "source": [
    "pd.DataFrame.from_records(memberData, index=\"Name\")"
   ]
  },
  {
   "cell_type": "code",
   "execution_count": null,
   "id": "6842f0a1",
   "metadata": {},
   "outputs": [],
   "source": []
  },
  {
   "cell_type": "markdown",
   "id": "177e284b",
   "metadata": {},
   "source": [
    "## Operations on pandas DataFrames\n",
    "Many operations, such as column/row indexing, assignment, concatenation, deletion, and so on, can be performed on DataFrames. Let's have a look at them in the following subsections."
   ]
  },
  {
   "cell_type": "code",
   "execution_count": 241,
   "id": "209ae2b7",
   "metadata": {},
   "outputs": [
    {
     "data": {
      "text/plain": [
       "0     b'Sanjeev'\n",
       "1    b'Yingluck'\n",
       "2       b'Emeka'\n",
       "3         b'Amy'\n",
       "Name: Name, dtype: object"
      ]
     },
     "execution_count": 241,
     "metadata": {},
     "output_type": "execute_result"
    }
   ],
   "source": [
    "#A specific column can be selected out from the DataFrame, as a Series, using the column name:\n",
    "memberDF[\"Name\"]"
   ]
  },
  {
   "cell_type": "markdown",
   "id": "fd651024",
   "metadata": {},
   "source": [
    "### Adding a new column"
   ]
  },
  {
   "cell_type": "code",
   "execution_count": 243,
   "id": "a0cba5a6",
   "metadata": {},
   "outputs": [
    {
     "data": {
      "text/html": [
       "<div>\n",
       "<style scoped>\n",
       "    .dataframe tbody tr th:only-of-type {\n",
       "        vertical-align: middle;\n",
       "    }\n",
       "\n",
       "    .dataframe tbody tr th {\n",
       "        vertical-align: top;\n",
       "    }\n",
       "\n",
       "    .dataframe thead th {\n",
       "        text-align: right;\n",
       "    }\n",
       "</style>\n",
       "<table border=\"1\" class=\"dataframe\">\n",
       "  <thead>\n",
       "    <tr style=\"text-align: right;\">\n",
       "      <th></th>\n",
       "      <th>Name</th>\n",
       "      <th>Age</th>\n",
       "      <th>Weight</th>\n",
       "      <th>Height</th>\n",
       "      <th>Height2</th>\n",
       "    </tr>\n",
       "  </thead>\n",
       "  <tbody>\n",
       "    <tr>\n",
       "      <th>0</th>\n",
       "      <td>b'Sanjeev'</td>\n",
       "      <td>37</td>\n",
       "      <td>162.399994</td>\n",
       "      <td>60</td>\n",
       "      <td>57</td>\n",
       "    </tr>\n",
       "    <tr>\n",
       "      <th>1</th>\n",
       "      <td>b'Yingluck'</td>\n",
       "      <td>45</td>\n",
       "      <td>137.800003</td>\n",
       "      <td>60</td>\n",
       "      <td>62</td>\n",
       "    </tr>\n",
       "    <tr>\n",
       "      <th>2</th>\n",
       "      <td>b'Emeka'</td>\n",
       "      <td>28</td>\n",
       "      <td>153.199997</td>\n",
       "      <td>60</td>\n",
       "      <td>65</td>\n",
       "    </tr>\n",
       "    <tr>\n",
       "      <th>3</th>\n",
       "      <td>b'Amy'</td>\n",
       "      <td>67</td>\n",
       "      <td>101.300003</td>\n",
       "      <td>60</td>\n",
       "      <td>59</td>\n",
       "    </tr>\n",
       "  </tbody>\n",
       "</table>\n",
       "</div>"
      ],
      "text/plain": [
       "          Name  Age      Weight  Height  Height2\n",
       "0   b'Sanjeev'   37  162.399994      60       57\n",
       "1  b'Yingluck'   45  137.800003      60       62\n",
       "2     b'Emeka'   28  153.199997      60       65\n",
       "3       b'Amy'   67  101.300003      60       59"
      ]
     },
     "execution_count": 243,
     "metadata": {},
     "output_type": "execute_result"
    }
   ],
   "source": [
    "memberDF['Height'] = 60\n",
    "memberDF['Height2'] = [57, 62, 65, 59]\n",
    "memberDF"
   ]
  },
  {
   "cell_type": "code",
   "execution_count": 246,
   "id": "ff0b8470",
   "metadata": {},
   "outputs": [
    {
     "data": {
      "text/html": [
       "<div>\n",
       "<style scoped>\n",
       "    .dataframe tbody tr th:only-of-type {\n",
       "        vertical-align: middle;\n",
       "    }\n",
       "\n",
       "    .dataframe tbody tr th {\n",
       "        vertical-align: top;\n",
       "    }\n",
       "\n",
       "    .dataframe thead th {\n",
       "        text-align: right;\n",
       "    }\n",
       "</style>\n",
       "<table border=\"1\" class=\"dataframe\">\n",
       "  <thead>\n",
       "    <tr style=\"text-align: right;\">\n",
       "      <th></th>\n",
       "      <th>Name</th>\n",
       "      <th>ID2</th>\n",
       "      <th>ID</th>\n",
       "      <th>Age</th>\n",
       "      <th>Weight</th>\n",
       "      <th>Height</th>\n",
       "      <th>Height2</th>\n",
       "    </tr>\n",
       "  </thead>\n",
       "  <tbody>\n",
       "    <tr>\n",
       "      <th>0</th>\n",
       "      <td>b'Sanjeev'</td>\n",
       "      <td>S01</td>\n",
       "      <td>S01</td>\n",
       "      <td>37</td>\n",
       "      <td>162.399994</td>\n",
       "      <td>60</td>\n",
       "      <td>57</td>\n",
       "    </tr>\n",
       "    <tr>\n",
       "      <th>1</th>\n",
       "      <td>b'Yingluck'</td>\n",
       "      <td>S02</td>\n",
       "      <td>S02</td>\n",
       "      <td>45</td>\n",
       "      <td>137.800003</td>\n",
       "      <td>60</td>\n",
       "      <td>62</td>\n",
       "    </tr>\n",
       "    <tr>\n",
       "      <th>2</th>\n",
       "      <td>b'Emeka'</td>\n",
       "      <td>S03</td>\n",
       "      <td>S03</td>\n",
       "      <td>28</td>\n",
       "      <td>153.199997</td>\n",
       "      <td>60</td>\n",
       "      <td>65</td>\n",
       "    </tr>\n",
       "    <tr>\n",
       "      <th>3</th>\n",
       "      <td>b'Amy'</td>\n",
       "      <td>S04</td>\n",
       "      <td>S04</td>\n",
       "      <td>67</td>\n",
       "      <td>101.300003</td>\n",
       "      <td>60</td>\n",
       "      <td>59</td>\n",
       "    </tr>\n",
       "  </tbody>\n",
       "</table>\n",
       "</div>"
      ],
      "text/plain": [
       "          Name  ID2   ID  Age      Weight  Height  Height2\n",
       "0   b'Sanjeev'  S01  S01   37  162.399994      60       57\n",
       "1  b'Yingluck'  S02  S02   45  137.800003      60       62\n",
       "2     b'Emeka'  S03  S03   28  153.199997      60       65\n",
       "3       b'Amy'  S04  S04   67  101.300003      60       59"
      ]
     },
     "execution_count": 246,
     "metadata": {},
     "output_type": "execute_result"
    }
   ],
   "source": [
    "memberDF.insert(1, \"ID2\", [\"S01\", \"S02\", \"S03\", \"S04\"])\n",
    "memberDF"
   ]
  },
  {
   "cell_type": "code",
   "execution_count": 250,
   "id": "546d3665",
   "metadata": {},
   "outputs": [
    {
     "data": {
      "text/html": [
       "<div>\n",
       "<style scoped>\n",
       "    .dataframe tbody tr th:only-of-type {\n",
       "        vertical-align: middle;\n",
       "    }\n",
       "\n",
       "    .dataframe tbody tr th {\n",
       "        vertical-align: top;\n",
       "    }\n",
       "\n",
       "    .dataframe thead th {\n",
       "        text-align: right;\n",
       "    }\n",
       "</style>\n",
       "<table border=\"1\" class=\"dataframe\">\n",
       "  <thead>\n",
       "    <tr style=\"text-align: right;\">\n",
       "      <th></th>\n",
       "      <th>Name</th>\n",
       "      <th>ID</th>\n",
       "      <th>Age</th>\n",
       "      <th>Weight</th>\n",
       "      <th>Height</th>\n",
       "      <th>Height2</th>\n",
       "    </tr>\n",
       "  </thead>\n",
       "  <tbody>\n",
       "    <tr>\n",
       "      <th>0</th>\n",
       "      <td>b'Sanjeev'</td>\n",
       "      <td>S01</td>\n",
       "      <td>37</td>\n",
       "      <td>162.399994</td>\n",
       "      <td>60</td>\n",
       "      <td>57</td>\n",
       "    </tr>\n",
       "    <tr>\n",
       "      <th>1</th>\n",
       "      <td>b'Yingluck'</td>\n",
       "      <td>S02</td>\n",
       "      <td>45</td>\n",
       "      <td>137.800003</td>\n",
       "      <td>60</td>\n",
       "      <td>62</td>\n",
       "    </tr>\n",
       "    <tr>\n",
       "      <th>2</th>\n",
       "      <td>b'Emeka'</td>\n",
       "      <td>S03</td>\n",
       "      <td>28</td>\n",
       "      <td>153.199997</td>\n",
       "      <td>60</td>\n",
       "      <td>65</td>\n",
       "    </tr>\n",
       "    <tr>\n",
       "      <th>3</th>\n",
       "      <td>b'Amy'</td>\n",
       "      <td>S04</td>\n",
       "      <td>67</td>\n",
       "      <td>101.300003</td>\n",
       "      <td>60</td>\n",
       "      <td>59</td>\n",
       "    </tr>\n",
       "  </tbody>\n",
       "</table>\n",
       "</div>"
      ],
      "text/plain": [
       "          Name   ID  Age      Weight  Height  Height2\n",
       "0   b'Sanjeev'  S01   37  162.399994      60       57\n",
       "1  b'Yingluck'  S02   45  137.800003      60       62\n",
       "2     b'Emeka'  S03   28  153.199997      60       65\n",
       "3       b'Amy'  S04   67  101.300003      60       59"
      ]
     },
     "execution_count": 250,
     "metadata": {},
     "output_type": "execute_result"
    }
   ],
   "source": [
    "del memberDF[\"ID2\"]\n",
    "memberDF"
   ]
  },
  {
   "cell_type": "code",
   "execution_count": null,
   "id": "40e84f98",
   "metadata": {},
   "outputs": [],
   "source": [
    "height2 = memberDF.pop(\"Height2\")"
   ]
  },
  {
   "cell_type": "code",
   "execution_count": 253,
   "id": "ad8f48c8",
   "metadata": {},
   "outputs": [
    {
     "data": {
      "text/html": [
       "<div>\n",
       "<style scoped>\n",
       "    .dataframe tbody tr th:only-of-type {\n",
       "        vertical-align: middle;\n",
       "    }\n",
       "\n",
       "    .dataframe tbody tr th {\n",
       "        vertical-align: top;\n",
       "    }\n",
       "\n",
       "    .dataframe thead th {\n",
       "        text-align: right;\n",
       "    }\n",
       "</style>\n",
       "<table border=\"1\" class=\"dataframe\">\n",
       "  <thead>\n",
       "    <tr style=\"text-align: right;\">\n",
       "      <th></th>\n",
       "      <th>Name</th>\n",
       "      <th>ID</th>\n",
       "      <th>Age</th>\n",
       "      <th>Weight</th>\n",
       "      <th>Height</th>\n",
       "    </tr>\n",
       "  </thead>\n",
       "  <tbody>\n",
       "    <tr>\n",
       "      <th>0</th>\n",
       "      <td>b'Sanjeev'</td>\n",
       "      <td>S01</td>\n",
       "      <td>37</td>\n",
       "      <td>162.399994</td>\n",
       "      <td>60</td>\n",
       "    </tr>\n",
       "    <tr>\n",
       "      <th>1</th>\n",
       "      <td>b'Yingluck'</td>\n",
       "      <td>S02</td>\n",
       "      <td>45</td>\n",
       "      <td>137.800003</td>\n",
       "      <td>60</td>\n",
       "    </tr>\n",
       "    <tr>\n",
       "      <th>2</th>\n",
       "      <td>b'Emeka'</td>\n",
       "      <td>S03</td>\n",
       "      <td>28</td>\n",
       "      <td>153.199997</td>\n",
       "      <td>60</td>\n",
       "    </tr>\n",
       "    <tr>\n",
       "      <th>3</th>\n",
       "      <td>b'Amy'</td>\n",
       "      <td>S04</td>\n",
       "      <td>67</td>\n",
       "      <td>101.300003</td>\n",
       "      <td>60</td>\n",
       "    </tr>\n",
       "  </tbody>\n",
       "</table>\n",
       "</div>"
      ],
      "text/plain": [
       "          Name   ID  Age      Weight  Height\n",
       "0   b'Sanjeev'  S01   37  162.399994      60\n",
       "1  b'Yingluck'  S02   45  137.800003      60\n",
       "2     b'Emeka'  S03   28  153.199997      60\n",
       "3       b'Amy'  S04   67  101.300003      60"
      ]
     },
     "execution_count": 253,
     "metadata": {},
     "output_type": "execute_result"
    }
   ],
   "source": [
    "memberDF"
   ]
  },
  {
   "cell_type": "markdown",
   "id": "db71ba82",
   "metadata": {},
   "source": [
    "## Alignment of DataFrames"
   ]
  },
  {
   "cell_type": "code",
   "execution_count": 255,
   "id": "9b35f349",
   "metadata": {},
   "outputs": [
    {
     "data": {
      "text/html": [
       "<div>\n",
       "<style scoped>\n",
       "    .dataframe tbody tr th:only-of-type {\n",
       "        vertical-align: middle;\n",
       "    }\n",
       "\n",
       "    .dataframe tbody tr th {\n",
       "        vertical-align: top;\n",
       "    }\n",
       "\n",
       "    .dataframe thead th {\n",
       "        text-align: right;\n",
       "    }\n",
       "</style>\n",
       "<table border=\"1\" class=\"dataframe\">\n",
       "  <thead>\n",
       "    <tr style=\"text-align: right;\">\n",
       "      <th></th>\n",
       "      <th>iron</th>\n",
       "      <th>magnesium</th>\n",
       "      <th>copper</th>\n",
       "      <th>silver</th>\n",
       "    </tr>\n",
       "  </thead>\n",
       "  <tbody>\n",
       "    <tr>\n",
       "      <th>0</th>\n",
       "      <td>20</td>\n",
       "      <td>35</td>\n",
       "      <td>25</td>\n",
       "      <td>20</td>\n",
       "    </tr>\n",
       "    <tr>\n",
       "      <th>1</th>\n",
       "      <td>11</td>\n",
       "      <td>28</td>\n",
       "      <td>32</td>\n",
       "      <td>29</td>\n",
       "    </tr>\n",
       "  </tbody>\n",
       "</table>\n",
       "</div>"
      ],
      "text/plain": [
       "   iron  magnesium  copper  silver\n",
       "0    20         35      25      20\n",
       "1    11         28      32      29"
      ]
     },
     "execution_count": 255,
     "metadata": {},
     "output_type": "execute_result"
    }
   ],
   "source": [
    "ore1DF=pd.DataFrame(np.array([[20,35,25,20],\n",
    "[11,28,32,29]]),\n",
    "columns=['iron','magnesium',\n",
    "'copper','silver'])\n",
    "ore2DF=pd.DataFrame(np.array([[14,34,26,26],\n",
    "[33,19,25,23]]),\n",
    "columns=['iron','magnesium',\n",
    "'gold','silver'])\n",
    "ore1DF"
   ]
  },
  {
   "cell_type": "code",
   "execution_count": 256,
   "id": "ec1e7a0d",
   "metadata": {},
   "outputs": [
    {
     "data": {
      "text/html": [
       "<div>\n",
       "<style scoped>\n",
       "    .dataframe tbody tr th:only-of-type {\n",
       "        vertical-align: middle;\n",
       "    }\n",
       "\n",
       "    .dataframe tbody tr th {\n",
       "        vertical-align: top;\n",
       "    }\n",
       "\n",
       "    .dataframe thead th {\n",
       "        text-align: right;\n",
       "    }\n",
       "</style>\n",
       "<table border=\"1\" class=\"dataframe\">\n",
       "  <thead>\n",
       "    <tr style=\"text-align: right;\">\n",
       "      <th></th>\n",
       "      <th>copper</th>\n",
       "      <th>gold</th>\n",
       "      <th>iron</th>\n",
       "      <th>magnesium</th>\n",
       "      <th>silver</th>\n",
       "    </tr>\n",
       "  </thead>\n",
       "  <tbody>\n",
       "    <tr>\n",
       "      <th>0</th>\n",
       "      <td>NaN</td>\n",
       "      <td>NaN</td>\n",
       "      <td>34</td>\n",
       "      <td>69</td>\n",
       "      <td>46</td>\n",
       "    </tr>\n",
       "    <tr>\n",
       "      <th>1</th>\n",
       "      <td>NaN</td>\n",
       "      <td>NaN</td>\n",
       "      <td>44</td>\n",
       "      <td>47</td>\n",
       "      <td>52</td>\n",
       "    </tr>\n",
       "  </tbody>\n",
       "</table>\n",
       "</div>"
      ],
      "text/plain": [
       "   copper  gold  iron  magnesium  silver\n",
       "0     NaN   NaN    34         69      46\n",
       "1     NaN   NaN    44         47      52"
      ]
     },
     "execution_count": 256,
     "metadata": {},
     "output_type": "execute_result"
    }
   ],
   "source": [
    "ore1DF + ore2DF"
   ]
  },
  {
   "cell_type": "code",
   "execution_count": 257,
   "id": "776cb761",
   "metadata": {},
   "outputs": [
    {
     "data": {
      "text/html": [
       "<div>\n",
       "<style scoped>\n",
       "    .dataframe tbody tr th:only-of-type {\n",
       "        vertical-align: middle;\n",
       "    }\n",
       "\n",
       "    .dataframe tbody tr th {\n",
       "        vertical-align: top;\n",
       "    }\n",
       "\n",
       "    .dataframe thead th {\n",
       "        text-align: right;\n",
       "    }\n",
       "</style>\n",
       "<table border=\"1\" class=\"dataframe\">\n",
       "  <thead>\n",
       "    <tr style=\"text-align: right;\">\n",
       "      <th></th>\n",
       "      <th>iron</th>\n",
       "      <th>magnesium</th>\n",
       "      <th>copper</th>\n",
       "      <th>silver</th>\n",
       "    </tr>\n",
       "  </thead>\n",
       "  <tbody>\n",
       "    <tr>\n",
       "      <th>0</th>\n",
       "      <td>45</td>\n",
       "      <td>60</td>\n",
       "      <td>50</td>\n",
       "      <td>45</td>\n",
       "    </tr>\n",
       "    <tr>\n",
       "      <th>1</th>\n",
       "      <td>36</td>\n",
       "      <td>53</td>\n",
       "      <td>57</td>\n",
       "      <td>54</td>\n",
       "    </tr>\n",
       "  </tbody>\n",
       "</table>\n",
       "</div>"
      ],
      "text/plain": [
       "   iron  magnesium  copper  silver\n",
       "0    45         60      50      45\n",
       "1    36         53      57      54"
      ]
     },
     "execution_count": 257,
     "metadata": {},
     "output_type": "execute_result"
    }
   ],
   "source": [
    "ore1DF + pd.Series([25,25,25,25], index=['iron', 'magnesium', 'copper', 'silver'])"
   ]
  },
  {
   "cell_type": "code",
   "execution_count": 258,
   "id": "39c8d27e",
   "metadata": {},
   "outputs": [],
   "source": [
    "ore1DF[\"add_iron_copper\"] = ore1DF[\"iron\"] + ore1DF[\"copper\"]"
   ]
  },
  {
   "cell_type": "code",
   "execution_count": 259,
   "id": "23990342",
   "metadata": {},
   "outputs": [
    {
     "data": {
      "text/html": [
       "<div>\n",
       "<style scoped>\n",
       "    .dataframe tbody tr th:only-of-type {\n",
       "        vertical-align: middle;\n",
       "    }\n",
       "\n",
       "    .dataframe tbody tr th {\n",
       "        vertical-align: top;\n",
       "    }\n",
       "\n",
       "    .dataframe thead th {\n",
       "        text-align: right;\n",
       "    }\n",
       "</style>\n",
       "<table border=\"1\" class=\"dataframe\">\n",
       "  <thead>\n",
       "    <tr style=\"text-align: right;\">\n",
       "      <th></th>\n",
       "      <th>iron</th>\n",
       "      <th>magnesium</th>\n",
       "      <th>copper</th>\n",
       "      <th>silver</th>\n",
       "      <th>add_iron_copper</th>\n",
       "    </tr>\n",
       "  </thead>\n",
       "  <tbody>\n",
       "    <tr>\n",
       "      <th>0</th>\n",
       "      <td>20</td>\n",
       "      <td>35</td>\n",
       "      <td>25</td>\n",
       "      <td>20</td>\n",
       "      <td>45</td>\n",
       "    </tr>\n",
       "    <tr>\n",
       "      <th>1</th>\n",
       "      <td>11</td>\n",
       "      <td>28</td>\n",
       "      <td>32</td>\n",
       "      <td>29</td>\n",
       "      <td>43</td>\n",
       "    </tr>\n",
       "  </tbody>\n",
       "</table>\n",
       "</div>"
      ],
      "text/plain": [
       "   iron  magnesium  copper  silver  add_iron_copper\n",
       "0    20         35      25      20               45\n",
       "1    11         28      32      29               43"
      ]
     },
     "execution_count": 259,
     "metadata": {},
     "output_type": "execute_result"
    }
   ],
   "source": [
    "ore1DF"
   ]
  },
  {
   "cell_type": "code",
   "execution_count": 260,
   "id": "15a98b18",
   "metadata": {},
   "outputs": [],
   "source": [
    "logical_df1 = pd.DataFrame({'Col1' : [1, 0, 1], 'Col2' : [0, 1, 1] }, dtype=bool)\n",
    "logical_df2 = pd.DataFrame({'Col1' : [1, 0, 0], 'Col2' : [0, 0, 1] }, dtype=bool)"
   ]
  },
  {
   "cell_type": "code",
   "execution_count": 261,
   "id": "dc3fbf51",
   "metadata": {},
   "outputs": [
    {
     "data": {
      "text/html": [
       "<div>\n",
       "<style scoped>\n",
       "    .dataframe tbody tr th:only-of-type {\n",
       "        vertical-align: middle;\n",
       "    }\n",
       "\n",
       "    .dataframe tbody tr th {\n",
       "        vertical-align: top;\n",
       "    }\n",
       "\n",
       "    .dataframe thead th {\n",
       "        text-align: right;\n",
       "    }\n",
       "</style>\n",
       "<table border=\"1\" class=\"dataframe\">\n",
       "  <thead>\n",
       "    <tr style=\"text-align: right;\">\n",
       "      <th></th>\n",
       "      <th>Col1</th>\n",
       "      <th>Col2</th>\n",
       "    </tr>\n",
       "  </thead>\n",
       "  <tbody>\n",
       "    <tr>\n",
       "      <th>0</th>\n",
       "      <td>True</td>\n",
       "      <td>False</td>\n",
       "    </tr>\n",
       "    <tr>\n",
       "      <th>1</th>\n",
       "      <td>False</td>\n",
       "      <td>True</td>\n",
       "    </tr>\n",
       "    <tr>\n",
       "      <th>2</th>\n",
       "      <td>True</td>\n",
       "      <td>True</td>\n",
       "    </tr>\n",
       "  </tbody>\n",
       "</table>\n",
       "</div>"
      ],
      "text/plain": [
       "    Col1   Col2\n",
       "0   True  False\n",
       "1  False   True\n",
       "2   True   True"
      ]
     },
     "execution_count": 261,
     "metadata": {},
     "output_type": "execute_result"
    }
   ],
   "source": [
    "logical_df1 | logical_df2"
   ]
  },
  {
   "cell_type": "code",
   "execution_count": 263,
   "id": "f4512da8",
   "metadata": {},
   "outputs": [
    {
     "name": "stdout",
     "output_type": "stream",
     "text": [
      "   iron  magnesium  copper  silver  add_iron_copper\n",
      "0    20         35      25      20               45\n",
      "1    11         28      32      29               43\n",
      "----------------------------------------\n",
      "       iron  magnesium    copper    silver  add_iron_copper\n",
      "0  4.472136   5.916080  5.000000  4.472136         6.708204\n",
      "1  3.316625   5.291503  5.656854  5.385165         6.557439\n"
     ]
    }
   ],
   "source": [
    "print(ore1DF)\n",
    "print(\"-\"*40)\n",
    "print(np.sqrt(ore1DF))"
   ]
  },
  {
   "cell_type": "markdown",
   "id": "532d949a",
   "metadata": {},
   "source": [
    "\n",
    "## Panels\n",
    "\n",
    "A Panel is a 3D array. It is not as widely used as Series or DataFrames. It is not as easily displayed on screen or visualized as the other two because of its 3D nature. The Panel data structure is the final piece of the data structure puzzle in pandas. It is less widely used. It is generally used for 3D time-series data. The three axis names are as follows:\n",
    "\n",
    "    items: This is axis 0. Each item corresponds to a DataFrame structure.\n",
    "    major_axis: This is axis 1. Each item corresponds to the rows of the DataFrame structure.\n",
    "    minor_axis: This is axis 2. Each item corresponds to the columns of each DataFrame structure.\n",
    "\n",
    "Panels are deprecated and will not be available in future versions. Hence, it's advisable to use multi-indexing in DataFrames instead of Panels."
   ]
  },
  {
   "cell_type": "code",
   "execution_count": null,
   "id": "9965b156",
   "metadata": {},
   "outputs": [],
   "source": []
  },
  {
   "cell_type": "markdown",
   "id": "2d5974f4",
   "metadata": {},
   "source": [
    "## Data sources and pandas methods\n",
    "\n",
    "The data sources for a data science project can be clubbed into the following categories:\n",
    "\n",
    "    Databases: Most of the CRM, ERP, and other business operations tools store data in a database. Depending on the volume, velocity, and variety, it can be a traditional or NoSQL database. To connect to most of the popular databases, we need JDBC/ODBC drivers from Python. Fortunately, there are such drivers available for all the popular databases. Working with data in such databases involves making a connection through Python to these databases, querying the data through Python, and then manipulating it using pandas. We will look at an example of how to do this later in this chapter.\n",
    "    Web services: Many of the business operations tools, especially Software as a Services (SaaS) tools, make their data accessible through Application Programming Interfaces (APIs) instead of a database. This reduces the infrastructure cost of hosting a database permanently. Instead, data is made available as a service, as and when required. An API call can be made through Python, which returns packets of data in formats such as JSON or XML. This data is parsed and then manipulated using pandas for further usage.\n",
    "    Data files: A lot of data for prototyping data science models comes as data files. One example of data being stored as a physical file is the data from IoT sensors – more often than not, the data from these sensors is stored in a flat file, a .txt file, or a .csv file. Another source for a data file is the sample data that's been extracted from a database and stored in such files. The output of many data science and machine learning algorithms are also stored in such files, such as CSV, Excel, and .txt files. Another example is that the trained weight matrices of a deep learning neural network model can be stored as an HDF file.\n",
    "    Web and document scraping: Two other sources of data are the tables and text present on web pages. This data is gleaned from these pages using Python packages such as BeautifulSoup and Scrapy and are put into a data file or database to be used further. The tables and data that are present in another non-data format file, such as PDF or Docs, are also a major source of data. This is then extracted using Python packages such as Tesseract and Tabula-py.\n",
    "\n",
    "In this chapter, we will look at how to read and write data to and from these formats/sources using pandas and ancillary libraries. We will also discuss a little bit about these formats, their utilities, and various operations that can be performed on them.\n",
    "\n",
    "The following is a summary of the read and write methods in Python for some of the data formats we are going to discuss in this chapter: "
   ]
  },
  {
   "attachments": {
    "image.png": {
     "image/png": "[encoded data removed]"
    }
   },
   "cell_type": "markdown",
   "id": "c80d95f6",
   "metadata": {},
   "source": [
    "![image.png](attachment:image.png)"
   ]
  },
  {
   "cell_type": "markdown",
   "id": "a3819e54",
   "metadata": {},
   "source": [
    "## CSV and TXT"
   ]
  },
  {
   "cell_type": "code",
   "execution_count": 264,
   "id": "cfe61361",
   "metadata": {},
   "outputs": [
    {
     "ename": "OSError",
     "evalue": "[WinError 123] The filename, directory name, or volume label syntax is incorrect: ' '",
     "output_type": "error",
     "traceback": [
      "\u001b[1;31m---------------------------------------------------------------------------\u001b[0m",
      "\u001b[1;31mOSError\u001b[0m                                   Traceback (most recent call last)",
      "Input \u001b[1;32mIn [264]\u001b[0m, in \u001b[0;36m<cell line: 3>\u001b[1;34m()\u001b[0m\n\u001b[0;32m      1\u001b[0m \u001b[38;5;28;01mimport\u001b[39;00m \u001b[38;5;21;01mpandas\u001b[39;00m \u001b[38;5;28;01mas\u001b[39;00m \u001b[38;5;21;01mpd\u001b[39;00m\n\u001b[0;32m      2\u001b[0m \u001b[38;5;28;01mimport\u001b[39;00m \u001b[38;5;21;01mos\u001b[39;00m\n\u001b[1;32m----> 3\u001b[0m \u001b[43mos\u001b[49m\u001b[38;5;241;43m.\u001b[39;49m\u001b[43mchdir\u001b[49m\u001b[43m(\u001b[49m\u001b[38;5;124;43m'\u001b[39;49m\u001b[38;5;124;43m \u001b[39;49m\u001b[38;5;124;43m'\u001b[39;49m\u001b[43m)\u001b[49m\n\u001b[0;32m      4\u001b[0m data\u001b[38;5;241m=\u001b[39mpd\u001b[38;5;241m.\u001b[39mread_csv(\u001b[38;5;124m'\u001b[39m\u001b[38;5;124mHospital Cost.csv\u001b[39m\u001b[38;5;124m'\u001b[39m)\n",
      "\u001b[1;31mOSError\u001b[0m: [WinError 123] The filename, directory name, or volume label syntax is incorrect: ' '"
     ]
    }
   ],
   "source": [
    "import pandas as pd\n",
    "import os\n",
    "os.chdir(' ')\n",
    "data=pd.read_csv('Hospital Cost.csv')"
   ]
  },
  {
   "cell_type": "markdown",
   "id": "fbfc4e54",
   "metadata": {},
   "source": [
    "\n",
    "Specifying column names for a dataset\n",
    "\n",
    "The following code will specify the column names for a dataset:\n",
    "\n"
   ]
  },
  {
   "cell_type": "code",
   "execution_count": null,
   "id": "d3790fae",
   "metadata": {},
   "outputs": [],
   "source": [
    "column_names=pd.read_csv('Customer Churn Columns.csv')\n",
    "column_names_list=column_names['Column Names'].tolist()\n",
    "data=pd.read_csv('Customer Churn Model.txt',header=None,names=column_names"
   ]
  },
  {
   "cell_type": "markdown",
   "id": "2eb14afa",
   "metadata": {},
   "source": [
    "## Reading from a string of data"
   ]
  },
  {
   "cell_type": "code",
   "execution_count": 265,
   "id": "46997cda",
   "metadata": {},
   "outputs": [
    {
     "data": {
      "text/html": [
       "<div>\n",
       "<style scoped>\n",
       "    .dataframe tbody tr th:only-of-type {\n",
       "        vertical-align: middle;\n",
       "    }\n",
       "\n",
       "    .dataframe tbody tr th {\n",
       "        vertical-align: top;\n",
       "    }\n",
       "\n",
       "    .dataframe thead th {\n",
       "        text-align: right;\n",
       "    }\n",
       "</style>\n",
       "<table border=\"1\" class=\"dataframe\">\n",
       "  <thead>\n",
       "    <tr style=\"text-align: right;\">\n",
       "      <th></th>\n",
       "      <th>col1</th>\n",
       "      <th>col2</th>\n",
       "      <th>col3</th>\n",
       "    </tr>\n",
       "  </thead>\n",
       "  <tbody>\n",
       "    <tr>\n",
       "      <th>0</th>\n",
       "      <td>a</td>\n",
       "      <td>b</td>\n",
       "      <td>1</td>\n",
       "    </tr>\n",
       "    <tr>\n",
       "      <th>1</th>\n",
       "      <td>a</td>\n",
       "      <td>b</td>\n",
       "      <td>2</td>\n",
       "    </tr>\n",
       "    <tr>\n",
       "      <th>2</th>\n",
       "      <td>c</td>\n",
       "      <td>d</td>\n",
       "      <td>3</td>\n",
       "    </tr>\n",
       "    <tr>\n",
       "      <th>3</th>\n",
       "      <td>c</td>\n",
       "      <td>e</td>\n",
       "      <td>4</td>\n",
       "    </tr>\n",
       "    <tr>\n",
       "      <th>4</th>\n",
       "      <td>g</td>\n",
       "      <td>f</td>\n",
       "      <td>5</td>\n",
       "    </tr>\n",
       "    <tr>\n",
       "      <th>5</th>\n",
       "      <td>e</td>\n",
       "      <td>z</td>\n",
       "      <td>6</td>\n",
       "    </tr>\n",
       "  </tbody>\n",
       "</table>\n",
       "</div>"
      ],
      "text/plain": [
       "  col1 col2  col3\n",
       "0    a    b     1\n",
       "1    a    b     2\n",
       "2    c    d     3\n",
       "3    c    e     4\n",
       "4    g    f     5\n",
       "5    e    z     6"
      ]
     },
     "execution_count": 265,
     "metadata": {},
     "output_type": "execute_result"
    }
   ],
   "source": [
    "from io import StringIO\n",
    "data = 'col1,col2,col3\\na,b,1\\na,b,2\\nc,d,3\\nc,e,4\\ng,f,5\\ne,z,6'\n",
    "pd.read_csv(StringIO(data))"
   ]
  },
  {
   "cell_type": "code",
   "execution_count": 266,
   "id": "edcbbe2b",
   "metadata": {},
   "outputs": [
    {
     "data": {
      "text/html": [
       "<div>\n",
       "<style scoped>\n",
       "    .dataframe tbody tr th:only-of-type {\n",
       "        vertical-align: middle;\n",
       "    }\n",
       "\n",
       "    .dataframe tbody tr th {\n",
       "        vertical-align: top;\n",
       "    }\n",
       "\n",
       "    .dataframe thead th {\n",
       "        text-align: right;\n",
       "    }\n",
       "</style>\n",
       "<table border=\"1\" class=\"dataframe\">\n",
       "  <thead>\n",
       "    <tr style=\"text-align: right;\">\n",
       "      <th></th>\n",
       "      <th>col1</th>\n",
       "      <th>col2</th>\n",
       "      <th>col3</th>\n",
       "    </tr>\n",
       "  </thead>\n",
       "  <tbody>\n",
       "    <tr>\n",
       "      <th>0</th>\n",
       "      <td>c</td>\n",
       "      <td>d</td>\n",
       "      <td>3</td>\n",
       "    </tr>\n",
       "    <tr>\n",
       "      <th>1</th>\n",
       "      <td>e</td>\n",
       "      <td>z</td>\n",
       "      <td>6</td>\n",
       "    </tr>\n",
       "  </tbody>\n",
       "</table>\n",
       "</div>"
      ],
      "text/plain": [
       "  col1 col2  col3\n",
       "0    c    d     3\n",
       "1    e    z     6"
      ]
     },
     "execution_count": 266,
     "metadata": {},
     "output_type": "execute_result"
    }
   ],
   "source": [
    "from io import StringIO\n",
    "data = 'col1,col2,col3\\na,b,1\\na,b,2\\nc,d,3\\nc,e,4\\ng,f,5\\ne,z,6'\n",
    "pd.read_csv(StringIO(data),skiprows=lambda x: x % 3 != 0)"
   ]
  },
  {
   "cell_type": "markdown",
   "id": "30b25458",
   "metadata": {},
   "source": [
    "\n",
    "## Row index\n",
    "\n",
    "If a file has one more column of data than the number of column names, the first column will be used as the DataFrame's row names:"
   ]
  },
  {
   "cell_type": "code",
   "execution_count": 267,
   "id": "0022504a",
   "metadata": {},
   "outputs": [
    {
     "data": {
      "text/html": [
       "<div>\n",
       "<style scoped>\n",
       "    .dataframe tbody tr th:only-of-type {\n",
       "        vertical-align: middle;\n",
       "    }\n",
       "\n",
       "    .dataframe tbody tr th {\n",
       "        vertical-align: top;\n",
       "    }\n",
       "\n",
       "    .dataframe thead th {\n",
       "        text-align: right;\n",
       "    }\n",
       "</style>\n",
       "<table border=\"1\" class=\"dataframe\">\n",
       "  <thead>\n",
       "    <tr style=\"text-align: right;\">\n",
       "      <th></th>\n",
       "      <th>a</th>\n",
       "      <th>b</th>\n",
       "      <th>c</th>\n",
       "    </tr>\n",
       "  </thead>\n",
       "  <tbody>\n",
       "    <tr>\n",
       "      <th>4</th>\n",
       "      <td>apple</td>\n",
       "      <td>bat</td>\n",
       "      <td>5.7</td>\n",
       "    </tr>\n",
       "    <tr>\n",
       "      <th>8</th>\n",
       "      <td>orange</td>\n",
       "      <td>cow</td>\n",
       "      <td>10.0</td>\n",
       "    </tr>\n",
       "  </tbody>\n",
       "</table>\n",
       "</div>"
      ],
      "text/plain": [
       "        a    b     c\n",
       "4   apple  bat   5.7\n",
       "8  orange  cow  10.0"
      ]
     },
     "execution_count": 267,
     "metadata": {},
     "output_type": "execute_result"
    }
   ],
   "source": [
    "data = 'a,b,c\\n4,apple,bat,5.7\\n8,orange,cow,10'\n",
    "pd.read_csv(StringIO(data), index_col=0)"
   ]
  },
  {
   "cell_type": "markdown",
   "id": "f3e53e28",
   "metadata": {},
   "source": [
    "\n",
    "### Reading a text file\n",
    "\n",
    "read_csv can help read text files as well. Often, data is stored in .txt files with different kinds of delimiters. The sep parameter can be used to specify the delimiter of a particular file, as shown in the following code:"
   ]
  },
  {
   "cell_type": "code",
   "execution_count": null,
   "id": "ded9bca6",
   "metadata": {},
   "outputs": [],
   "source": [
    "data=pd.read_csv('Tab Customer Churn Model.txt',sep='/t')"
   ]
  },
  {
   "cell_type": "markdown",
   "id": "f195bfc0",
   "metadata": {},
   "source": [
    "\n",
    "## Subsetting while reading\n",
    "\n",
    "Only a selected list of columns can be subsetted and loaded using the usecols parameter while reading: "
   ]
  },
  {
   "cell_type": "code",
   "execution_count": null,
   "id": "b98e178c",
   "metadata": {},
   "outputs": [],
   "source": [
    "ata=pd.read_csv('Tab Customer Churn Model.txt',sep='/t',usecols=[1,3,5])\n",
    "data=pd.read_csv('Tab Customer Churn Model.txt',sep='/t',usecols=['VMail Plan','Area Code'])"
   ]
  },
  {
   "cell_type": "markdown",
   "id": "43b948d9",
   "metadata": {},
   "source": [
    "\n",
    "Numeric lists, as well as explicit lists with column names, can be used. Numeric indexing follows Python indexing, that is, starting from 0."
   ]
  },
  {
   "cell_type": "markdown",
   "id": "51059a7a",
   "metadata": {},
   "source": [
    "## Indexing and multi-indexing"
   ]
  },
  {
   "cell_type": "code",
   "execution_count": null,
   "id": "44048de1",
   "metadata": {},
   "outputs": [],
   "source": [
    "pd.read_csv('mindex.txt')\n",
    "pd.read_csv('mindex.txt',index_col=[0,1])\n",
    "\n",
    "data.loc[1977]\n",
    "data.loc[(1977,'A')]"
   ]
  },
  {
   "cell_type": "markdown",
   "id": "0022feb2",
   "metadata": {},
   "source": [
    "\n",
    "### Reading large files in chunks\n",
    "\n",
    "Reading a large file in memory at once may consume the entire RAM of the computer and may cause it to throw an error. In such cases, it becomes pertinent to divide the data into chunks. These chunks can then be read sequentially and processed. This is achieved by using the chunksize parameter in read_csv.\n",
    "\n",
    "The resulting chunks can be iterated over using a for loop. In the following code, we are printing the shape of the chunks:"
   ]
  },
  {
   "cell_type": "code",
   "execution_count": null,
   "id": "fe85b40f",
   "metadata": {},
   "outputs": [],
   "source": [
    "for chunks in pd.read_csv('Chunk.txt',chunksize=500):\n",
    "    print(chunks.shape)\n"
   ]
  },
  {
   "cell_type": "markdown",
   "id": "bc1179a9",
   "metadata": {},
   "source": [
    "These chunks can then be concatenated to each other using the concat method:"
   ]
  },
  {
   "cell_type": "code",
   "execution_count": null,
   "id": "2d724c86",
   "metadata": {},
   "outputs": [],
   "source": [
    "data=pd.read_csv('Chunk.txt',chunksize=500)\n",
    "data=pd.concat(data,ignore_index=True)\n",
    "print(data.shape)"
   ]
  },
  {
   "cell_type": "markdown",
   "id": "f8bb9843",
   "metadata": {},
   "source": [
    "\n",
    "## Writing to a CSV\n",
    "\n",
    "A DataFrame is an in-memory object. Often, DataFrames need to be saved as physical files for later use. In such cases, the DataFrames can be written as a CSV or TXT file.\n",
    "\n",
    "Let's create a synthesized DataFrame using random numbers:"
   ]
  },
  {
   "cell_type": "code",
   "execution_count": 268,
   "id": "1e961157",
   "metadata": {},
   "outputs": [],
   "source": [
    "import numpy as np\n",
    "import pandas as pd\n",
    "a=['Male','Female']\n",
    "b=['Rich','Poor','Middle Class']\n",
    "gender=[]\n",
    "seb=[]\n",
    "\n",
    "for i in range(1,101):\n",
    "    gender.append(np.random.choice(a))\n",
    "    seb.append(np.random.choice(b))\n",
    "    height=30*np.random.randn(100)+155\n",
    "    weight=20*np.random.randn(100)+60\n",
    "    age=10*np.random.randn(100)+35\n",
    "    income=1500*np.random.randn(100)+15000\n",
    "\n",
    "df=pd.DataFrame({'Gender':gender,'Height':height,'Weight':weight,'Age':age,'Income':income,'Socio-Eco':seb})"
   ]
  },
  {
   "cell_type": "code",
   "execution_count": 269,
   "id": "0d6a1070",
   "metadata": {},
   "outputs": [
    {
     "data": {
      "text/html": [
       "<div>\n",
       "<style scoped>\n",
       "    .dataframe tbody tr th:only-of-type {\n",
       "        vertical-align: middle;\n",
       "    }\n",
       "\n",
       "    .dataframe tbody tr th {\n",
       "        vertical-align: top;\n",
       "    }\n",
       "\n",
       "    .dataframe thead th {\n",
       "        text-align: right;\n",
       "    }\n",
       "</style>\n",
       "<table border=\"1\" class=\"dataframe\">\n",
       "  <thead>\n",
       "    <tr style=\"text-align: right;\">\n",
       "      <th></th>\n",
       "      <th>Gender</th>\n",
       "      <th>Height</th>\n",
       "      <th>Weight</th>\n",
       "      <th>Age</th>\n",
       "      <th>Income</th>\n",
       "      <th>Socio-Eco</th>\n",
       "    </tr>\n",
       "  </thead>\n",
       "  <tbody>\n",
       "    <tr>\n",
       "      <th>0</th>\n",
       "      <td>Female</td>\n",
       "      <td>176.921590</td>\n",
       "      <td>86.446794</td>\n",
       "      <td>49.443952</td>\n",
       "      <td>13618.839513</td>\n",
       "      <td>Rich</td>\n",
       "    </tr>\n",
       "    <tr>\n",
       "      <th>1</th>\n",
       "      <td>Female</td>\n",
       "      <td>176.667305</td>\n",
       "      <td>48.321437</td>\n",
       "      <td>21.334596</td>\n",
       "      <td>15884.184108</td>\n",
       "      <td>Poor</td>\n",
       "    </tr>\n",
       "    <tr>\n",
       "      <th>2</th>\n",
       "      <td>Male</td>\n",
       "      <td>151.265198</td>\n",
       "      <td>44.172707</td>\n",
       "      <td>31.028598</td>\n",
       "      <td>16820.599454</td>\n",
       "      <td>Middle Class</td>\n",
       "    </tr>\n",
       "    <tr>\n",
       "      <th>3</th>\n",
       "      <td>Male</td>\n",
       "      <td>158.849838</td>\n",
       "      <td>56.276932</td>\n",
       "      <td>38.197687</td>\n",
       "      <td>14836.039592</td>\n",
       "      <td>Middle Class</td>\n",
       "    </tr>\n",
       "    <tr>\n",
       "      <th>4</th>\n",
       "      <td>Male</td>\n",
       "      <td>124.036257</td>\n",
       "      <td>79.795135</td>\n",
       "      <td>35.414817</td>\n",
       "      <td>11685.636239</td>\n",
       "      <td>Middle Class</td>\n",
       "    </tr>\n",
       "    <tr>\n",
       "      <th>...</th>\n",
       "      <td>...</td>\n",
       "      <td>...</td>\n",
       "      <td>...</td>\n",
       "      <td>...</td>\n",
       "      <td>...</td>\n",
       "      <td>...</td>\n",
       "    </tr>\n",
       "    <tr>\n",
       "      <th>95</th>\n",
       "      <td>Male</td>\n",
       "      <td>191.509648</td>\n",
       "      <td>78.006989</td>\n",
       "      <td>38.707176</td>\n",
       "      <td>16959.005271</td>\n",
       "      <td>Middle Class</td>\n",
       "    </tr>\n",
       "    <tr>\n",
       "      <th>96</th>\n",
       "      <td>Female</td>\n",
       "      <td>163.863058</td>\n",
       "      <td>70.477718</td>\n",
       "      <td>31.141672</td>\n",
       "      <td>14655.068237</td>\n",
       "      <td>Middle Class</td>\n",
       "    </tr>\n",
       "    <tr>\n",
       "      <th>97</th>\n",
       "      <td>Male</td>\n",
       "      <td>201.107750</td>\n",
       "      <td>54.371142</td>\n",
       "      <td>39.069568</td>\n",
       "      <td>16232.608590</td>\n",
       "      <td>Rich</td>\n",
       "    </tr>\n",
       "    <tr>\n",
       "      <th>98</th>\n",
       "      <td>Male</td>\n",
       "      <td>167.264993</td>\n",
       "      <td>73.384612</td>\n",
       "      <td>59.097302</td>\n",
       "      <td>14152.293588</td>\n",
       "      <td>Rich</td>\n",
       "    </tr>\n",
       "    <tr>\n",
       "      <th>99</th>\n",
       "      <td>Female</td>\n",
       "      <td>157.998877</td>\n",
       "      <td>61.521342</td>\n",
       "      <td>35.340468</td>\n",
       "      <td>14081.920376</td>\n",
       "      <td>Rich</td>\n",
       "    </tr>\n",
       "  </tbody>\n",
       "</table>\n",
       "<p>100 rows × 6 columns</p>\n",
       "</div>"
      ],
      "text/plain": [
       "    Gender      Height     Weight        Age        Income     Socio-Eco\n",
       "0   Female  176.921590  86.446794  49.443952  13618.839513          Rich\n",
       "1   Female  176.667305  48.321437  21.334596  15884.184108          Poor\n",
       "2     Male  151.265198  44.172707  31.028598  16820.599454  Middle Class\n",
       "3     Male  158.849838  56.276932  38.197687  14836.039592  Middle Class\n",
       "4     Male  124.036257  79.795135  35.414817  11685.636239  Middle Class\n",
       "..     ...         ...        ...        ...           ...           ...\n",
       "95    Male  191.509648  78.006989  38.707176  16959.005271  Middle Class\n",
       "96  Female  163.863058  70.477718  31.141672  14655.068237  Middle Class\n",
       "97    Male  201.107750  54.371142  39.069568  16232.608590          Rich\n",
       "98    Male  167.264993  73.384612  59.097302  14152.293588          Rich\n",
       "99  Female  157.998877  61.521342  35.340468  14081.920376          Rich\n",
       "\n",
       "[100 rows x 6 columns]"
      ]
     },
     "execution_count": 269,
     "metadata": {},
     "output_type": "execute_result"
    }
   ],
   "source": [
    "df"
   ]
  },
  {
   "cell_type": "markdown",
   "id": "c9629618",
   "metadata": {},
   "source": [
    "This can be written to a .csv or .txt file using the to_csv method, as shown in the following code:"
   ]
  },
  {
   "cell_type": "code",
   "execution_count": 270,
   "id": "fed248bd",
   "metadata": {},
   "outputs": [],
   "source": [
    "df.to_csv('data.csv')\n",
    "df.to_csv('data.txt')"
   ]
  },
  {
   "cell_type": "markdown",
   "id": "99dccb38",
   "metadata": {},
   "source": [
    "\n",
    "# JSON\n",
    "\n",
    "JSON is a popular dictionary-like, key-value pair-based data structure that's suitable for exposing data as APIs from SaaS tools. address, postalCode, state, streetAddress, age, firstName, lastName, and phoneNumber are keys whose values are shown to the right of them. JSON files can be nested (the values of a key are JSON) as well. Here, address has nested values: "
   ]
  },
  {
   "attachments": {
    "image.png": {
     "image/png": "[encoded data removed]"
    }
   },
   "cell_type": "markdown",
   "id": "2aaa86cc",
   "metadata": {},
   "source": [
    "![image.png](attachment:image.png)"
   ]
  },
  {
   "cell_type": "markdown",
   "id": "a78304d7",
   "metadata": {},
   "source": [
    "DataFrames can be converted into JSON using to_json:"
   ]
  },
  {
   "cell_type": "code",
   "execution_count": null,
   "id": "21637dd2",
   "metadata": {},
   "outputs": [],
   "source": [
    "import numpy as np \n",
    "pd.DataFrame(np.random.randn(5, 2), columns=list('AB')).to_json()"
   ]
  },
  {
   "attachments": {
    "image.png": {
     "image/png": "[encoded data removed]"
    }
   },
   "cell_type": "markdown",
   "id": "f9f68221",
   "metadata": {},
   "source": [
    "![image.png](attachment:image.png)"
   ]
  },
  {
   "cell_type": "markdown",
   "id": "237387e1",
   "metadata": {},
   "source": [
    "While converting the DataFrame into a JSON file, the orientation can be set.\n",
    "\n",
    "If we want to keep the column name as the primary index and the row indices as the secondary index, then we can choose the orientation to be columns:"
   ]
  },
  {
   "cell_type": "code",
   "execution_count": null,
   "id": "ee73e376",
   "metadata": {},
   "outputs": [],
   "source": [
    "dfjo = pd.DataFrame(dict(A=range(1, 4), B=range(4, 7), C=range(7, 10)),columns=list('ABC'), index=list('xyz')) \n",
    "dfjo.to_json(orient=\"columns\")"
   ]
  },
  {
   "attachments": {
    "image.png": {
     "image/png": "[encoded data removed]"
    }
   },
   "cell_type": "markdown",
   "id": "16e88dae",
   "metadata": {},
   "source": [
    "![image.png](attachment:image.png)"
   ]
  },
  {
   "cell_type": "markdown",
   "id": "bc4e3b8e",
   "metadata": {},
   "source": [
    "If we want to keep the row indices as the primary index and the column names as the secondary index, then we can choose the orientation to be index: "
   ]
  },
  {
   "cell_type": "code",
   "execution_count": null,
   "id": "a8bc6b81",
   "metadata": {},
   "outputs": [],
   "source": [
    "dfjo = pd.DataFrame(dict(A=range(1, 4), B=range(4, 7), C=range(7, 10)),columns=list('ABC'), index=list('xyz')) \n",
    "dfjo.to_json(orient=\"index\")"
   ]
  },
  {
   "cell_type": "markdown",
   "id": "69a55f1b",
   "metadata": {},
   "source": [
    "Finally, we can also orient the converted JSON in order to separate the row indices, column names, and data values:"
   ]
  },
  {
   "cell_type": "code",
   "execution_count": null,
   "id": "c7bfe68f",
   "metadata": {},
   "outputs": [],
   "source": [
    "dfjo = pd.DataFrame(dict(A=range(1, 4), B=range(4, 7), C=range(7, 10)),columns=list('ABC'), \n",
    "                    index=list('xyz')) dfjo.to_json(orient=\"split\")"
   ]
  },
  {
   "attachments": {
    "image.png": {
     "image/png": "[encoded data removed]"
    }
   },
   "cell_type": "markdown",
   "id": "2bb0302f",
   "metadata": {},
   "source": [
    "![image.png](attachment:image.png)"
   ]
  },
  {
   "cell_type": "markdown",
   "id": "7116a74e",
   "metadata": {},
   "source": [
    "\n",
    "## Writing a JSON to a file\n",
    "\n",
    "JSON can be written to physical files like so:"
   ]
  },
  {
   "cell_type": "code",
   "execution_count": null,
   "id": "7e2b1d06",
   "metadata": {},
   "outputs": [],
   "source": [
    "import json with open('jsonex.txt','w') as outfile: json.dump(dfjo.to_json(orient=\"columns\"), outfile)"
   ]
  },
  {
   "cell_type": "markdown",
   "id": "0e6ab7ae",
   "metadata": {},
   "source": [
    "\n",
    "## Reading a JSON\n",
    "\n",
    "json_loads is used to read a physical file containing JSONs:"
   ]
  },
  {
   "cell_type": "code",
   "execution_count": null,
   "id": "c123ce8e",
   "metadata": {},
   "outputs": [],
   "source": [
    "f=open('usagov_bitly.txt','r').readline() json.loads(f) "
   ]
  },
  {
   "cell_type": "markdown",
   "id": "6d675f6c",
   "metadata": {},
   "source": [
    "The files can be read one JSON at a time using the open and readline methods: "
   ]
  },
  {
   "cell_type": "code",
   "execution_count": null,
   "id": "8794de3a",
   "metadata": {},
   "outputs": [],
   "source": [
    "records=[] f=open('usagov_bitly.txt','r') \n",
    "for i in range(1000): fiterline=f.readline() d=json.loads(fiterline) records.append(d) f.close()"
   ]
  },
  {
   "cell_type": "markdown",
   "id": "9dd249cd",
   "metadata": {},
   "source": [
    "Now, records contains a list of JSONs from which all the values of a particular key can be pulled out. For example, here, we are pulling out all the latlong ('ll' column) wherever it has a non-zero value: "
   ]
  },
  {
   "cell_type": "code",
   "execution_count": null,
   "id": "26ab7722",
   "metadata": {},
   "outputs": [],
   "source": [
    "latlong=[rec['ll'] for rec in records if 'll' in rec]"
   ]
  },
  {
   "cell_type": "markdown",
   "id": "41386245",
   "metadata": {},
   "source": [
    "\n",
    "## Writing JSON to a DataFrame\n",
    "\n",
    "A list of JSON objects can be converted into a DataFrame (much like a dictionary can). The records element we created previously is a list of JSONs (we can check this by using records[0:3] or type(records)):"
   ]
  },
  {
   "cell_type": "code",
   "execution_count": null,
   "id": "e2f8f0c7",
   "metadata": {},
   "outputs": [],
   "source": [
    "df=pd.DataFrame(records) \n",
    "df.head() \n",
    "df['tz'].value_counts() "
   ]
  },
  {
   "cell_type": "markdown",
   "id": "da560b62",
   "metadata": {},
   "source": [
    "\n",
    "## Reading feather files\n",
    "\n",
    "The feather format is a binary file format for storing data that makes use of Apache Arrow, an in-memory columnar data structure. It was developed by Wes Mckinney and Hadley Wickham, chief scientists at RStudio as an initiative for a data sharing infrastructure across Python and R. The columnar serialization of data in feather files makes way for efficient read and write operations, making it far faster than CSV and JSON files where storage is record-wise."
   ]
  },
  {
   "cell_type": "code",
   "execution_count": null,
   "id": "6dd3770b",
   "metadata": {},
   "outputs": [],
   "source": [
    "pd.read_feather(\"sample.feather\")"
   ]
  },
  {
   "attachments": {
    "image.png": {
     "image/png": "[encoded data removed]"
    }
   },
   "cell_type": "markdown",
   "id": "9305ef01",
   "metadata": {},
   "source": [
    "![image.png](attachment:image.png)"
   ]
  },
  {
   "cell_type": "code",
   "execution_count": null,
   "id": "bd98e0d9",
   "metadata": {},
   "outputs": [],
   "source": []
  },
  {
   "cell_type": "markdown",
   "id": "258ad99d",
   "metadata": {},
   "source": [
    "\n",
    "## Reading from a clipboard\n",
    "\n",
    "This is a rather interesting feature in pandas. Any tabular data that has been copied onto the clipboard can be read as a DataFrame in pandas.\n"
   ]
  },
  {
   "cell_type": "code",
   "execution_count": 275,
   "id": "9560f2db",
   "metadata": {},
   "outputs": [
    {
     "data": {
      "text/html": [
       "<div>\n",
       "<style scoped>\n",
       "    .dataframe tbody tr th:only-of-type {\n",
       "        vertical-align: middle;\n",
       "    }\n",
       "\n",
       "    .dataframe tbody tr th {\n",
       "        vertical-align: top;\n",
       "    }\n",
       "\n",
       "    .dataframe thead th {\n",
       "        text-align: right;\n",
       "    }\n",
       "</style>\n",
       "<table border=\"1\" class=\"dataframe\">\n",
       "  <thead>\n",
       "    <tr style=\"text-align: right;\">\n",
       "      <th></th>\n",
       "      <th>Gender</th>\n",
       "      <th>Entry_Date</th>\n",
       "      <th>Flag</th>\n",
       "    </tr>\n",
       "  </thead>\n",
       "  <tbody>\n",
       "    <tr>\n",
       "      <th>0</th>\n",
       "      <td>A</td>\n",
       "      <td>M</td>\n",
       "      <td>1/19/2012</td>\n",
       "    </tr>\n",
       "    <tr>\n",
       "      <th>1</th>\n",
       "      <td>B</td>\n",
       "      <td>F</td>\n",
       "      <td>12/30/2012</td>\n",
       "    </tr>\n",
       "    <tr>\n",
       "      <th>2</th>\n",
       "      <td>C</td>\n",
       "      <td>M</td>\n",
       "      <td>5/5/2012</td>\n",
       "    </tr>\n",
       "  </tbody>\n",
       "</table>\n",
       "</div>"
      ],
      "text/plain": [
       "  Gender Entry_Date        Flag\n",
       "0      A          M   1/19/2012\n",
       "1      B          F  12/30/2012\n",
       "2      C          M    5/5/2012"
      ]
     },
     "execution_count": 275,
     "metadata": {},
     "output_type": "execute_result"
    }
   ],
   "source": [
    "pd.read_clipboard()"
   ]
  },
  {
   "cell_type": "markdown",
   "id": "6e95f198",
   "metadata": {},
   "source": [
    "\n",
    "## Managing sparse data\n",
    "\n",
    "Sparse data refers to data structures such as arrays, series, DataFrames, and panels in which there is a very high proportion of missing data or NaNs.\n",
    "\n",
    "Let's create a sparse DataFrame:"
   ]
  },
  {
   "cell_type": "code",
   "execution_count": 276,
   "id": "acc5eaa1",
   "metadata": {},
   "outputs": [],
   "source": [
    "df = pd.DataFrame(np.random.randn(100, 3))\n",
    "df.iloc[:95] = np.nan"
   ]
  },
  {
   "cell_type": "code",
   "execution_count": 277,
   "id": "2f77f1d5",
   "metadata": {},
   "outputs": [
    {
     "data": {
      "text/plain": [
       "Index    128\n",
       "0        800\n",
       "1        800\n",
       "2        800\n",
       "dtype: int64"
      ]
     },
     "execution_count": 277,
     "metadata": {},
     "output_type": "execute_result"
    }
   ],
   "source": [
    "df.memory_usage()"
   ]
  },
  {
   "cell_type": "code",
   "execution_count": 281,
   "id": "38f7bd9c",
   "metadata": {},
   "outputs": [
    {
     "data": {
      "text/html": [
       "<div>\n",
       "<style scoped>\n",
       "    .dataframe tbody tr th:only-of-type {\n",
       "        vertical-align: middle;\n",
       "    }\n",
       "\n",
       "    .dataframe tbody tr th {\n",
       "        vertical-align: top;\n",
       "    }\n",
       "\n",
       "    .dataframe thead th {\n",
       "        text-align: right;\n",
       "    }\n",
       "</style>\n",
       "<table border=\"1\" class=\"dataframe\">\n",
       "  <thead>\n",
       "    <tr style=\"text-align: right;\">\n",
       "      <th></th>\n",
       "      <th>0</th>\n",
       "      <th>1</th>\n",
       "      <th>2</th>\n",
       "    </tr>\n",
       "  </thead>\n",
       "  <tbody>\n",
       "    <tr>\n",
       "      <th>0</th>\n",
       "      <td>NaN</td>\n",
       "      <td>NaN</td>\n",
       "      <td>NaN</td>\n",
       "    </tr>\n",
       "    <tr>\n",
       "      <th>1</th>\n",
       "      <td>NaN</td>\n",
       "      <td>NaN</td>\n",
       "      <td>NaN</td>\n",
       "    </tr>\n",
       "    <tr>\n",
       "      <th>2</th>\n",
       "      <td>NaN</td>\n",
       "      <td>NaN</td>\n",
       "      <td>NaN</td>\n",
       "    </tr>\n",
       "    <tr>\n",
       "      <th>3</th>\n",
       "      <td>NaN</td>\n",
       "      <td>NaN</td>\n",
       "      <td>NaN</td>\n",
       "    </tr>\n",
       "    <tr>\n",
       "      <th>4</th>\n",
       "      <td>NaN</td>\n",
       "      <td>NaN</td>\n",
       "      <td>NaN</td>\n",
       "    </tr>\n",
       "    <tr>\n",
       "      <th>...</th>\n",
       "      <td>...</td>\n",
       "      <td>...</td>\n",
       "      <td>...</td>\n",
       "    </tr>\n",
       "    <tr>\n",
       "      <th>95</th>\n",
       "      <td>0.320499</td>\n",
       "      <td>-1.058794</td>\n",
       "      <td>-1.212914</td>\n",
       "    </tr>\n",
       "    <tr>\n",
       "      <th>96</th>\n",
       "      <td>1.544345</td>\n",
       "      <td>-0.689210</td>\n",
       "      <td>-1.023178</td>\n",
       "    </tr>\n",
       "    <tr>\n",
       "      <th>97</th>\n",
       "      <td>-1.032622</td>\n",
       "      <td>-0.703434</td>\n",
       "      <td>-0.039521</td>\n",
       "    </tr>\n",
       "    <tr>\n",
       "      <th>98</th>\n",
       "      <td>0.195441</td>\n",
       "      <td>-0.955426</td>\n",
       "      <td>0.483690</td>\n",
       "    </tr>\n",
       "    <tr>\n",
       "      <th>99</th>\n",
       "      <td>-0.558343</td>\n",
       "      <td>-0.466330</td>\n",
       "      <td>1.614071</td>\n",
       "    </tr>\n",
       "  </tbody>\n",
       "</table>\n",
       "<p>100 rows × 3 columns</p>\n",
       "</div>"
      ],
      "text/plain": [
       "           0         1         2\n",
       "0        NaN       NaN       NaN\n",
       "1        NaN       NaN       NaN\n",
       "2        NaN       NaN       NaN\n",
       "3        NaN       NaN       NaN\n",
       "4        NaN       NaN       NaN\n",
       "..       ...       ...       ...\n",
       "95  0.320499 -1.058794 -1.212914\n",
       "96  1.544345 -0.689210 -1.023178\n",
       "97 -1.032622 -0.703434 -0.039521\n",
       "98  0.195441 -0.955426  0.483690\n",
       "99 -0.558343 -0.466330  1.614071\n",
       "\n",
       "[100 rows x 3 columns]"
      ]
     },
     "execution_count": 281,
     "metadata": {},
     "output_type": "execute_result"
    }
   ],
   "source": [
    "df"
   ]
  },
  {
   "cell_type": "code",
   "execution_count": 284,
   "id": "0e86a578",
   "metadata": {},
   "outputs": [
    {
     "data": {
      "text/plain": [
       "<100x3 sparse matrix of type '<class 'numpy.float64'>'\n",
       "\twith 300 stored elements in Compressed Sparse Row format>"
      ]
     },
     "execution_count": 284,
     "metadata": {},
     "output_type": "execute_result"
    }
   ],
   "source": [
    "import scipy\n",
    "sparse_df = scipy.sparse.csr_matrix(df.values)\n",
    "sparse_df"
   ]
  },
  {
   "cell_type": "markdown",
   "id": "dca87d08",
   "metadata": {},
   "source": [
    "\n",
    "### Writing JSON objects to a file\n",
    "\n",
    "The to_json() function allows any DataFrame object to be converted into a JSON string or written to a JSON file if the file path is specified: "
   ]
  },
  {
   "cell_type": "code",
   "execution_count": 286,
   "id": "91df663c",
   "metadata": {},
   "outputs": [
    {
     "data": {
      "text/plain": [
       "'{\"Col1\":{\"0\":1,\"1\":2,\"2\":3,\"3\":4,\"4\":5},\"Col2\":{\"0\":\"A\",\"1\":\"B\",\"2\":\"B\",\"3\":\"A\",\"4\":\"C\"},\"Col3\":{\"0\":true,\"1\":false,\"2\":false,\"3\":true,\"4\":true}}'"
      ]
     },
     "execution_count": 286,
     "metadata": {},
     "output_type": "execute_result"
    }
   ],
   "source": [
    "df = pd.DataFrame({\"Col1\": [1, 2, 3, 4, 5], \"Col2\": [\"A\", \"B\", \"B\", \"A\", \"C\"], \"Col3\": [True, False, False, True, True]})\n",
    "df.to_json()"
   ]
  },
  {
   "cell_type": "markdown",
   "id": "4177d589",
   "metadata": {},
   "source": [
    "The orientation of the data in the JSON can be altered. The to_json() function has an orient argument which can be set for the following modes: columns, index, record, value, and split. Columns is the default setting for orientation: "
   ]
  },
  {
   "cell_type": "code",
   "execution_count": 287,
   "id": "089c276c",
   "metadata": {},
   "outputs": [
    {
     "data": {
      "text/plain": [
       "'{\"Col1\":{\"0\":1,\"1\":2,\"2\":3,\"3\":4,\"4\":5},\"Col2\":{\"0\":\"A\",\"1\":\"B\",\"2\":\"B\",\"3\":\"A\",\"4\":\"C\"},\"Col3\":{\"0\":true,\"1\":false,\"2\":false,\"3\":true,\"4\":true}}'"
      ]
     },
     "execution_count": 287,
     "metadata": {},
     "output_type": "execute_result"
    }
   ],
   "source": [
    "df.to_json(orient=\"columns\")"
   ]
  },
  {
   "cell_type": "code",
   "execution_count": 288,
   "id": "c90d1f44",
   "metadata": {},
   "outputs": [
    {
     "data": {
      "text/plain": [
       "'{\"schema\":{\"fields\":[{\"name\":\"index\",\"type\":\"integer\"},{\"name\":\"Col1\",\"type\":\"integer\"},{\"name\":\"Col2\",\"type\":\"string\"},{\"name\":\"Col3\",\"type\":\"boolean\"}],\"primaryKey\":[\"index\"],\"pandas_version\":\"1.4.0\"},\"data\":[{\"index\":0,\"Col1\":1,\"Col2\":\"A\",\"Col3\":true},{\"index\":1,\"Col1\":2,\"Col2\":\"B\",\"Col3\":false},{\"index\":2,\"Col1\":3,\"Col2\":\"B\",\"Col3\":false},{\"index\":3,\"Col1\":4,\"Col2\":\"A\",\"Col3\":true},{\"index\":4,\"Col1\":5,\"Col2\":\"C\",\"Col3\":true}]}'"
      ]
     },
     "execution_count": 288,
     "metadata": {},
     "output_type": "execute_result"
    }
   ],
   "source": [
    "df.to_json(orient=\"table\")"
   ]
  },
  {
   "cell_type": "code",
   "execution_count": null,
   "id": "b3674a95",
   "metadata": {},
   "outputs": [],
   "source": []
  },
  {
   "cell_type": "code",
   "execution_count": null,
   "id": "a716bf3f",
   "metadata": {},
   "outputs": [],
   "source": []
  }
 ],
 "metadata": {
  "kernelspec": {
   "display_name": "Python 3 (ipykernel)",
   "language": "python",
   "name": "python3"
  },
  "language_info": {
   "codemirror_mode": {
    "name": "ipython",
    "version": 3
   },
   "file_extension": ".py",
   "mimetype": "text/x-python",
   "name": "python",
   "nbconvert_exporter": "python",
   "pygments_lexer": "ipython3",
   "version": "3.9.7"
  }
 },
 "nbformat": 4,
 "nbformat_minor": 5
}
